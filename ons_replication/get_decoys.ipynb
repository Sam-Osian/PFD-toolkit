{
 "cells": [
  {
   "cell_type": "markdown",
   "id": "2cfdb003",
   "metadata": {},
   "source": [
    "# Getting our decoy-boosted sample\n",
    "\n",
    "This notebook documents the creation of our decoy-boosted dataset."
   ]
  },
  {
   "cell_type": "markdown",
   "id": "8c8cc1a3",
   "metadata": {},
   "source": [
    "In the previous notebook, we generated a tagged version of the PFD corpus, adding a new column (`positive_cases`) that flags whether each report was identified by the PFD Toolkit as a child-suicide case (`True`) or not (`False`).\n",
    "\n",
    "To construct a balanced dataset, we paired each positive case with a randomly selected negative case, resulting in a 1:1 ratio."
   ]
  },
  {
   "cell_type": "code",
   "execution_count": 1,
   "id": "563f3d79",
   "metadata": {},
   "outputs": [
    {
     "data": {
      "text/html": [
       "<div>\n",
       "<style scoped>\n",
       "    .dataframe tbody tr th:only-of-type {\n",
       "        vertical-align: middle;\n",
       "    }\n",
       "\n",
       "    .dataframe tbody tr th {\n",
       "        vertical-align: top;\n",
       "    }\n",
       "\n",
       "    .dataframe thead th {\n",
       "        text-align: right;\n",
       "    }\n",
       "</style>\n",
       "<table border=\"1\" class=\"dataframe\">\n",
       "  <thead>\n",
       "    <tr style=\"text-align: right;\">\n",
       "      <th></th>\n",
       "      <th>Unnamed: 0</th>\n",
       "      <th>url</th>\n",
       "      <th>id</th>\n",
       "      <th>date</th>\n",
       "      <th>coroner</th>\n",
       "      <th>area</th>\n",
       "      <th>receiver</th>\n",
       "      <th>investigation</th>\n",
       "      <th>circumstances</th>\n",
       "      <th>concerns</th>\n",
       "      <th>spans_positive_cases</th>\n",
       "      <th>positive_cases</th>\n",
       "    </tr>\n",
       "  </thead>\n",
       "  <tbody>\n",
       "    <tr>\n",
       "      <th>0</th>\n",
       "      <td>0</td>\n",
       "      <td>https://www.judiciary.uk/prevention-of-future-...</td>\n",
       "      <td>2023-0489</td>\n",
       "      <td>2023-11-30</td>\n",
       "      <td>A. Bhardwaj</td>\n",
       "      <td>Liverpool and the Wirral</td>\n",
       "      <td>NHS England &amp; NHS Improvement (PFDs); Society ...</td>\n",
       "      <td>On 23 October 2023 I commenced an investigatio...</td>\n",
       "      <td>Katherine Sarah Flynn was a 34 year old lady w...</td>\n",
       "      <td>The case is a complex death where the immediat...</td>\n",
       "      <td>\"Katherine Sarah FLYNN aged 34\"; \"Katherine Sa...</td>\n",
       "      <td>False</td>\n",
       "    </tr>\n",
       "    <tr>\n",
       "      <th>1</th>\n",
       "      <td>1</td>\n",
       "      <td>https://www.judiciary.uk/prevention-of-future-...</td>\n",
       "      <td>2023-0490</td>\n",
       "      <td>2023-11-30</td>\n",
       "      <td>J. Goulding</td>\n",
       "      <td>Sefton, Knowsley and St Helens</td>\n",
       "      <td>Manager; Abbey Wood Lodge Care Home</td>\n",
       "      <td>On 28 April 2023 I commenced an investigation ...</td>\n",
       "      <td>Julia Murphy (known as Sheila) sadly died on 0...</td>\n",
       "      <td>Julia had 21 falls, the final fall led to her ...</td>\n",
       "      <td>\"Julia Murphy aged 89\"; \"Julia was 89 years of...</td>\n",
       "      <td>False</td>\n",
       "    </tr>\n",
       "    <tr>\n",
       "      <th>2</th>\n",
       "      <td>2</td>\n",
       "      <td>https://www.judiciary.uk/prevention-of-future-...</td>\n",
       "      <td>2023-0493</td>\n",
       "      <td>2023-11-30</td>\n",
       "      <td>J. Kearsley</td>\n",
       "      <td>Greater Manchester North</td>\n",
       "      <td>Chief Executive Northern Care Alliance; Chief ...</td>\n",
       "      <td>On the 23rd January 2023, I commenced an inves...</td>\n",
       "      <td>The deceased, Donna, had a long standing histo...</td>\n",
       "      <td>1) There was a lack of understanding between t...</td>\n",
       "      <td>NaN</td>\n",
       "      <td>False</td>\n",
       "    </tr>\n",
       "    <tr>\n",
       "      <th>3</th>\n",
       "      <td>3</td>\n",
       "      <td>https://www.judiciary.uk/prevention-of-future-...</td>\n",
       "      <td>2023-0484</td>\n",
       "      <td>2023-11-28</td>\n",
       "      <td>J. Andrews</td>\n",
       "      <td>West Sussex, Brighton and Hove</td>\n",
       "      <td>Chief Executive University Hospitals Sussex NH...</td>\n",
       "      <td>On 13 April 2022 I commenced an investigation ...</td>\n",
       "      <td>Ann Dorothy Pearce was taken to the Princess R...</td>\n",
       "      <td>Evidence at the inquest revealed that the Veno...</td>\n",
       "      <td>\"Ann Dorothy Pearce aged 61\"; \"died from a mas...</td>\n",
       "      <td>False</td>\n",
       "    </tr>\n",
       "    <tr>\n",
       "      <th>4</th>\n",
       "      <td>4</td>\n",
       "      <td>https://www.judiciary.uk/prevention-of-future-...</td>\n",
       "      <td>2024-0065</td>\n",
       "      <td>2023-11-27</td>\n",
       "      <td>J. Richards</td>\n",
       "      <td>County Durham and Darlington</td>\n",
       "      <td>Stanley Park Care Centre</td>\n",
       "      <td>On 21/09/2023 11:12 an investigation was comme...</td>\n",
       "      <td>Mrs Austin passed away at Stanley Park Care Ho...</td>\n",
       "      <td>1. The deceased was known to be at high risk o...</td>\n",
       "      <td>\"Margaret Austin, who was 90 years of age\"; \"d...</td>\n",
       "      <td>False</td>\n",
       "    </tr>\n",
       "  </tbody>\n",
       "</table>\n",
       "</div>"
      ],
      "text/plain": [
       "   Unnamed: 0                                                url         id  \\\n",
       "0           0  https://www.judiciary.uk/prevention-of-future-...  2023-0489   \n",
       "1           1  https://www.judiciary.uk/prevention-of-future-...  2023-0490   \n",
       "2           2  https://www.judiciary.uk/prevention-of-future-...  2023-0493   \n",
       "3           3  https://www.judiciary.uk/prevention-of-future-...  2023-0484   \n",
       "4           4  https://www.judiciary.uk/prevention-of-future-...  2024-0065   \n",
       "\n",
       "         date      coroner                            area  \\\n",
       "0  2023-11-30  A. Bhardwaj        Liverpool and the Wirral   \n",
       "1  2023-11-30  J. Goulding  Sefton, Knowsley and St Helens   \n",
       "2  2023-11-30  J. Kearsley        Greater Manchester North   \n",
       "3  2023-11-28   J. Andrews  West Sussex, Brighton and Hove   \n",
       "4  2023-11-27  J. Richards    County Durham and Darlington   \n",
       "\n",
       "                                            receiver  \\\n",
       "0  NHS England & NHS Improvement (PFDs); Society ...   \n",
       "1                Manager; Abbey Wood Lodge Care Home   \n",
       "2  Chief Executive Northern Care Alliance; Chief ...   \n",
       "3  Chief Executive University Hospitals Sussex NH...   \n",
       "4                           Stanley Park Care Centre   \n",
       "\n",
       "                                       investigation  \\\n",
       "0  On 23 October 2023 I commenced an investigatio...   \n",
       "1  On 28 April 2023 I commenced an investigation ...   \n",
       "2  On the 23rd January 2023, I commenced an inves...   \n",
       "3  On 13 April 2022 I commenced an investigation ...   \n",
       "4  On 21/09/2023 11:12 an investigation was comme...   \n",
       "\n",
       "                                       circumstances  \\\n",
       "0  Katherine Sarah Flynn was a 34 year old lady w...   \n",
       "1  Julia Murphy (known as Sheila) sadly died on 0...   \n",
       "2  The deceased, Donna, had a long standing histo...   \n",
       "3  Ann Dorothy Pearce was taken to the Princess R...   \n",
       "4  Mrs Austin passed away at Stanley Park Care Ho...   \n",
       "\n",
       "                                            concerns  \\\n",
       "0  The case is a complex death where the immediat...   \n",
       "1  Julia had 21 falls, the final fall led to her ...   \n",
       "2  1) There was a lack of understanding between t...   \n",
       "3  Evidence at the inquest revealed that the Veno...   \n",
       "4  1. The deceased was known to be at high risk o...   \n",
       "\n",
       "                                spans_positive_cases  positive_cases  \n",
       "0  \"Katherine Sarah FLYNN aged 34\"; \"Katherine Sa...           False  \n",
       "1  \"Julia Murphy aged 89\"; \"Julia was 89 years of...           False  \n",
       "2                                                NaN           False  \n",
       "3  \"Ann Dorothy Pearce aged 61\"; \"died from a mas...           False  \n",
       "4  \"Margaret Austin, who was 90 years of age\"; \"d...           False  "
      ]
     },
     "execution_count": 1,
     "metadata": {},
     "output_type": "execute_result"
    }
   ],
   "source": [
    "import pandas as pd\n",
    "\n",
    "# Load in our tagged reports\n",
    "\n",
    "reports = pd.read_csv(\"all_tagged_reports.csv\")\n",
    "reports.head()"
   ]
  },
  {
   "cell_type": "code",
   "execution_count": 2,
   "id": "0c8c220e",
   "metadata": {},
   "outputs": [
    {
     "data": {
      "text/plain": [
       "73"
      ]
     },
     "execution_count": 2,
     "metadata": {},
     "output_type": "execute_result"
    }
   ],
   "source": [
    "# Randomly sample 73 negative cases\n",
    "\n",
    "negative_cases = reports[reports[\"positive_cases\"] == False]\n",
    "\n",
    "sampled_negative_cases = negative_cases.sample(n=73, random_state=123)\n",
    "len(sampled_negative_cases)"
   ]
  },
  {
   "cell_type": "code",
   "execution_count": 4,
   "id": "652348da",
   "metadata": {},
   "outputs": [
    {
     "data": {
      "text/plain": [
       "146"
      ]
     },
     "execution_count": 4,
     "metadata": {},
     "output_type": "execute_result"
    }
   ],
   "source": [
    "# Combine 1:1-matched positive and negative cases\n",
    "\n",
    "positive_cases = pd.read_csv('child_suicide_cases.csv')\n",
    "\n",
    "dataset_for_annotation = pd.concat([positive_cases, sampled_negative_cases], \n",
    "                                   ignore_index=True)\n",
    "\n",
    "len(dataset_for_annotation)"
   ]
  },
  {
   "cell_type": "code",
   "execution_count": 5,
   "id": "b1eebe97",
   "metadata": {},
   "outputs": [],
   "source": [
    "# Save dataset\n",
    "dataset_for_annotation.to_csv('data/dataset_for_annotation.csv')"
   ]
  }
 ],
 "metadata": {
  "kernelspec": {
   "display_name": ".venv",
   "language": "python",
   "name": "python3"
  },
  "language_info": {
   "codemirror_mode": {
    "name": "ipython",
    "version": 3
   },
   "file_extension": ".py",
   "mimetype": "text/x-python",
   "name": "python",
   "nbconvert_exporter": "python",
   "pygments_lexer": "ipython3",
   "version": "3.12.3"
  }
 },
 "nbformat": 4,
 "nbformat_minor": 5
}
