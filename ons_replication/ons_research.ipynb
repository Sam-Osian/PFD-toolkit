{
 "cells": [
  {
   "cell_type": "markdown",
   "metadata": {},
   "source": [
    "## Automating ONS Research on Child Suicides\n",
    "\n",
    "In February 2025, the ONS published [research](https://www.ons.gov.uk/peoplepopulationandcommunity/healthandsocialcare/mentalhealth/bulletins/preventionoffuturedeathreportsforsuicideinchildreninenglandandwales/january2015tonovember2023) analysing:\n",
    "\n",
    "> Prevention of Future Death reports for suicide in children in England and Wales: January 2015 to November 2023\n",
    "\n",
    "This notebook asks:\n",
    "\n",
    "1. Can a fully automated, LLM-based pipeline accurately identify at least as many child-suicide PFD reports compared to the ONS's manual review?\n",
    "\n",
    "2. What efficiency gains, measured in time and resource requirements, are achieved by replacing manual identification and coding with a fully automated workflow?"
   ]
  },
  {
   "cell_type": "code",
   "execution_count": 1,
   "metadata": {},
   "outputs": [],
   "source": [
    "# Time the entire workflow\n",
    "\n",
    "import time\n",
    "start = time.time()"
   ]
  },
  {
   "cell_type": "markdown",
   "metadata": {},
   "source": [
    "### Identifying the reports\n",
    "\n",
    "#### Loading all reports"
   ]
  },
  {
   "cell_type": "code",
   "execution_count": 2,
   "metadata": {},
   "outputs": [
    {
     "name": "stdout",
     "output_type": "stream",
     "text": [
      "In total, there were 4730 PFD reports published between July 2013 and November 2023.\n"
     ]
    }
   ],
   "source": [
    "from pfd_toolkit import load_reports\n",
    "\n",
    "reports = load_reports(end_date=\"2023-11-30\",\n",
    "                       refresh=True)\n",
    "\n",
    "print(f\"In total, there were {len(reports)} PFD reports published between July 2013 and November 2023.\")"
   ]
  },
  {
   "cell_type": "markdown",
   "metadata": {},
   "source": [
    "#### Create 'Screener' specification to filter reports\n",
    "\n",
    "**Note:** The ONS analysis defines a \"child\" as \"aged 18 years and under,\" with included cases ranging from 12 to 18 years old. \n",
    "\n",
    "A core advantage of LLMs is its ability to read between the lines and make classifications based on 'cues' in the text. For example, we should classify the deceased as being a child even if age was not mentioned, but can be inferred through mentioning things like \"CAMHS\" and \"Year 10 in school\".\n",
    "\n",
    "First, we need to set up the LLM and Screener modules...\n"
   ]
  },
  {
   "cell_type": "code",
   "execution_count": 3,
   "metadata": {},
   "outputs": [],
   "source": [
    "from pfd_toolkit import LLM, Screener\n",
    "from dotenv import load_dotenv\n",
    "import os\n",
    "\n",
    "# Load OpenAI API key from local environment\n",
    "load_dotenv(\"../api.env\")\n",
    "openai_api_key = os.getenv(\"OPENAI_API_KEY\")\n",
    "\n",
    "# Initialise LLM client\n",
    "llm_client = LLM(api_key=openai_api_key, \n",
    "                 max_workers=30, \n",
    "                 model=\"gpt-4.1\",\n",
    "                 seed=123, \n",
    "                 temperature=0, \n",
    "                 timeout=60)\n",
    "\n",
    "# Set up Screener\n",
    "search_query = \"\"\"\n",
    "Identify cases where the deceased was aged 18 or younger *clearly at the time of death* **and** \n",
    "the death was due to suicide. If suicide is not explicitly stated, you can use a strict balance of \n",
    "probabilities threshold to determine it as such. \n",
    "\n",
    "Age may not be explicitly stated, but could be implied through references such as \n",
    "**recent** use of child or adolescent services (e.g. CAMHS), attending school years \n",
    "(e.g. “Year 10”), or similar contextual indicators of being under 18 (again, under a \n",
    "strict balance of probabilities threshold).\n",
    "\"\"\"\n",
    "\n",
    "\n",
    "child_suicide_screener = Screener(llm=llm_client,\n",
    "                                  reports=reports)"
   ]
  },
  {
   "cell_type": "markdown",
   "metadata": {},
   "source": [
    "This will generate a prompt to our LLM. We can see what this prompt looks like:"
   ]
  },
  {
   "cell_type": "code",
   "execution_count": 4,
   "metadata": {},
   "outputs": [
    {
     "name": "stdout",
     "output_type": "stream",
     "text": [
      "You are an expert text classification assistant. Your task is to read the following excerpt from a Prevention of Future Death (PFD) report and decide whether it matches the user's query. \n",
      "\n",
      "**Instructions:** \n",
      "- Only respond 'Yes' if **all** elements of the user query are clearly present in the report. \n",
      "- If any required element is missing or there is not enough information, respond 'No'. \n",
      "- You may not infer or make judgements; the evidence must be clear.- Make sure any user query related to the deceased is concerned with them *only*, not other persons.\n",
      "- Your response must be a JSON object in which 'matches_topic' can be either 'Yes' or 'No'. \n",
      "\n",
      "**User query:** \n",
      "'\n",
      "Identify cases where the deceased was aged 18 or younger *clearly at the time of death* **and** \n",
      "the death was due to suicide. If suicide is not explicitly stated, you can use a strict balance of \n",
      "probabilities threshold to determine it as such. \n",
      "\n",
      "Age may not be explicitly stated, but could be implied through references such as \n",
      "**recent** use of child or adolescent services (e.g. CAMHS), attending school years \n",
      "(e.g. “Year 10”), or similar contextual indicators of being under 18 (again, under a \n",
      "strict balance of probabilities threshold).\n",
      "'\n",
      "Here is the PFD report excerpt:\n",
      "\n",
      "{report_excerpt}\n"
     ]
    }
   ],
   "source": [
    "print(child_suicide_screener._build_prompt_template(search_query))"
   ]
  },
  {
   "cell_type": "markdown",
   "metadata": {},
   "source": [
    "Now we can run the Screener and assign the results to `child_suicide_reports`."
   ]
  },
  {
   "cell_type": "code",
   "execution_count": 5,
   "metadata": {},
   "outputs": [
    {
     "name": "stderr",
     "output_type": "stream",
     "text": [
      "Sending requests to the LLM: 100%|██████████| 4730/4730 [04:57<00:00, 15.89it/s]\n"
     ]
    }
   ],
   "source": [
    "tagged_reports = child_suicide_screener.screen_reports(\n",
    "    user_query=search_query,\n",
    "    produce_spans=True,\n",
    "    filter_df=False,\n",
    "    result_col_name=\"positive_cases\"\n",
    ")\n"
   ]
  },
  {
   "cell_type": "code",
   "execution_count": 6,
   "metadata": {},
   "outputs": [],
   "source": [
    "# Make a copy of the above that filters for positive cases only\n",
    "child_suicide_reports = tagged_reports[tagged_reports[\"positive_cases\"]].copy()"
   ]
  },
  {
   "cell_type": "markdown",
   "metadata": {},
   "source": [
    "---"
   ]
  },
  {
   "cell_type": "markdown",
   "metadata": {},
   "source": [
    "### Categorise addressees\n",
    "\n",
    "The ONS produced a table, where they categorised report recipients into at least one of the below (reports can have more than one recipient):\n",
    "\n",
    "* Government department or minister\n",
    "* NHS Trust or CCG\n",
    "* Professional body\n",
    "* Local council\n",
    "* Other\n",
    "\n",
    "To replicate this, we can use PFD's `Extractor` module..."
   ]
  },
  {
   "cell_type": "code",
   "execution_count": 7,
   "metadata": {},
   "outputs": [
    {
     "name": "stderr",
     "output_type": "stream",
     "text": [
      "Extracting features: 100%|██████████| 73/73 [00:11<00:00,  6.32it/s]\n"
     ]
    }
   ],
   "source": [
    "from pfd_toolkit import Extractor\n",
    "from pydantic import BaseModel, Field\n",
    "\n",
    "# Set up a feature model for recipients\n",
    "class DemoFeatures(BaseModel):\n",
    "    sent_gov: bool = Field(..., description=\"Recipient list includes a government department or minister (NHS body doesn't count here)\")\n",
    "    sent_nhs: bool = Field(..., description=\"Recipient list includes an NHS Trust, CCG or ICS\")\n",
    "    sent_prof_body: bool = Field(..., description=\"Recipient list includes an organisation with statutory responsibility for a profession (GMC, NMC, Royal Colleges, etc.)\")\n",
    "    sent_council: bool = Field(..., description=\"Recipient list includes an official LA (Local Authority/Council)\")\n",
    "    sent_other: bool = Field(..., description=\"Recipient list includes some other type not listed above\")\n",
    "\n",
    "addressee_extractor = Extractor(reports=child_suicide_reports,\n",
    "                                llm=llm_client,\n",
    "                                \n",
    "                                # Turn 'on' receiver field; turn defaults 'off'\n",
    "                                include_receiver=True,\n",
    "                                include_circumstances=False,\n",
    "                                include_investigation=False,\n",
    "                                include_concerns=False)\n",
    "\n",
    "\n",
    "child_suicide_reports = addressee_extractor.extract_features(feature_model=DemoFeatures,\n",
    "                                                             allow_multiple=True,\n",
    "                                                             force_assign=True,\n",
    "                                                             )"
   ]
  },
  {
   "cell_type": "markdown",
   "metadata": {},
   "source": [
    "#### Create summary table"
   ]
  },
  {
   "cell_type": "code",
   "execution_count": 8,
   "metadata": {},
   "outputs": [
    {
     "data": {
      "text/html": [
       "<div>\n",
       "<style scoped>\n",
       "    .dataframe tbody tr th:only-of-type {\n",
       "        vertical-align: middle;\n",
       "    }\n",
       "\n",
       "    .dataframe tbody tr th {\n",
       "        vertical-align: top;\n",
       "    }\n",
       "\n",
       "    .dataframe thead th {\n",
       "        text-align: right;\n",
       "    }\n",
       "</style>\n",
       "<table border=\"1\" class=\"dataframe\">\n",
       "  <thead>\n",
       "    <tr style=\"text-align: right;\">\n",
       "      <th></th>\n",
       "      <th>Category</th>\n",
       "      <th>Count</th>\n",
       "      <th>Percentage</th>\n",
       "    </tr>\n",
       "  </thead>\n",
       "  <tbody>\n",
       "    <tr>\n",
       "      <th>0</th>\n",
       "      <td>sent_gov</td>\n",
       "      <td>31</td>\n",
       "      <td>42.465753</td>\n",
       "    </tr>\n",
       "    <tr>\n",
       "      <th>1</th>\n",
       "      <td>sent_nhs</td>\n",
       "      <td>40</td>\n",
       "      <td>54.794521</td>\n",
       "    </tr>\n",
       "    <tr>\n",
       "      <th>2</th>\n",
       "      <td>sent_prof_body</td>\n",
       "      <td>8</td>\n",
       "      <td>10.958904</td>\n",
       "    </tr>\n",
       "    <tr>\n",
       "      <th>3</th>\n",
       "      <td>sent_council</td>\n",
       "      <td>15</td>\n",
       "      <td>20.547945</td>\n",
       "    </tr>\n",
       "    <tr>\n",
       "      <th>4</th>\n",
       "      <td>sent_other</td>\n",
       "      <td>28</td>\n",
       "      <td>38.356164</td>\n",
       "    </tr>\n",
       "  </tbody>\n",
       "</table>\n",
       "</div>"
      ],
      "text/plain": [
       "         Category  Count  Percentage\n",
       "0        sent_gov     31   42.465753\n",
       "1        sent_nhs     40   54.794521\n",
       "2  sent_prof_body      8   10.958904\n",
       "3    sent_council     15   20.547945\n",
       "4      sent_other     28   38.356164"
      ]
     },
     "execution_count": 8,
     "metadata": {},
     "output_type": "execute_result"
    }
   ],
   "source": [
    "addressee_extractor.tabulate()"
   ]
  },
  {
   "cell_type": "markdown",
   "metadata": {},
   "source": [
    "We can now compare this with ONS's own table...\n",
    "\n",
    "| Addressee                         | No of reports | %  |\n",
    "|----------------------------------|---------------|----|\n",
    "| Government department or minister| 15            | 41 |\n",
    "| NHS Trust or CCG                 | 15            | 41 |\n",
    "| Professional body                | 12            | 32 |\n",
    "| Local council                    | 8             | 22 |\n",
    "| Other                            | 10            | 27 |\n",
    "\n",
    "\n",
    "The big point of difference here is assignment to 'professional body'. In ONS's research, this reflected 32% of reports, but ours is only 10%. Despite us identifying a significantly higher number of reports, our absolute value of reports for this addressee category is lower than that of ONS (6 vs. 12, respectively.)\n",
    "\n",
    "In ONS's report and accompanying metadata spreadsheet, I was unable to find a definition of 'professional body'. So I used what I think is a reasonable definition:\n",
    "\n",
    "> \"An organisation with statutory responsibility for a profession (e.g. GMC, Nursing and Midwifery Council, Royal Colleges, etc.)\"\n",
    "\n",
    "It's therefore possible that this discrepency is caused by a definitional mismatch."
   ]
  },
  {
   "cell_type": "markdown",
   "metadata": {},
   "source": [
    "---"
   ]
  },
  {
   "cell_type": "markdown",
   "metadata": {},
   "source": [
    "### Categorise 'themes' from coroner concerns\n",
    "\n",
    "ONS coded the **coroner's concerns** sections into 6 primary themes: service provision, staffing & resourcing, communication, multiple services involved in care, accessing services, access to harmful content & environment. \n",
    "\n",
    "Across all of these themes were 23 sub-themes."
   ]
  },
  {
   "cell_type": "code",
   "execution_count": 9,
   "metadata": {},
   "outputs": [
    {
     "name": "stderr",
     "output_type": "stream",
     "text": [
      "Extracting features: 100%|██████████| 73/73 [00:16<00:00,  4.34it/s]\n"
     ]
    }
   ],
   "source": [
    "# Just like we did with addressees, create a feature model with all fields and descriptions.\n",
    "\n",
    "class ThemeFeatures(BaseModel):\n",
    "    sp_sop_inadequate: bool = Field(\n",
    "        ..., \n",
    "        description=\"Standard operating procedures (e.g. note taking, monitoring, observations) don't exist, are unclear, or not followed correctly\"\n",
    "    )\n",
    "    sp_specialist_services: bool = Field(\n",
    "        ..., \n",
    "        description=\"Specialist services unavailable or insufficient (e.g. issues with crisis teams, urgent inpatient beds, special educational needs, autism support, deprioritised services, etc.)\"\n",
    "    )\n",
    "    sp_risk_assessment: bool = Field(\n",
    "        ..., \n",
    "        description=\"Risk assessment documents not completed, assessed inadequately, not updated, not communicated, etc.\"\n",
    "    )\n",
    "    sp_discharge: bool = Field(\n",
    "        ..., \n",
    "        description=\"Discharge without review or liaison, self-discharge when detention may be required, poor communication of care requirements to community teams, uncoordinated post-discharge care, inadequate care packages, etc.\"\n",
    "    )\n",
    "    sp_diagnostics: bool = Field(\n",
    "        ..., \n",
    "        description=\"Delayed diagnosis, misdiagnosis, lack of caregiver support for a specific diagnosis, lack of specialist diagnostic training, etc.\"\n",
    "    )\n",
    "\n",
    "    sr_training: bool = Field(\n",
    "        ..., \n",
    "        description=\"Inadequate staff knowledge of suicide-prevention processes, missing grab bags or anti-ligature tools, staff not following procedures, training gaps, etc.\"\n",
    "    )\n",
    "    sr_inadequate_staffing: bool = Field(\n",
    "        ..., \n",
    "        description=\"Staff not appropriately qualified, inexperienced case worker assigned, or other inadequate staffing levels\"\n",
    "    )\n",
    "    sr_funding: bool = Field(\n",
    "        ..., \n",
    "        description=\"Lack of funding to CAMHS services etc., preventing recruitment or provision of specialist services\"\n",
    "    )\n",
    "    sr_recruitment_retention: bool = Field(\n",
    "        ..., \n",
    "        description=\"Unable to recruit specialist staff or retain an adequate number of staff\"\n",
    "    )\n",
    "\n",
    "    comm_between_services: bool = Field(\n",
    "        ..., \n",
    "        description=\"Lack of communication between CAMHS and foster or care services or schools, or information sharing between services not possible or not conducted, etc.\"\n",
    "    )\n",
    "    comm_patient_family: bool = Field(\n",
    "        ..., \n",
    "        description=\"Lack of communication from CAMHS with child and/or parent, including insufficient family involvement, support or signposting, etc.\"\n",
    "    )\n",
    "    comm_confidentiality_risk: bool = Field(\n",
    "        ..., \n",
    "        description=\"Instances where professionals did not communicate with parents or caregivers, resulting in missed opportunities to intervene\"\n",
    "    )\n",
    "    comm_within_services: bool = Field(\n",
    "        ..., \n",
    "        description=\"Inadequate communication of policies to staff, inadequate note keeping or record sharing, unclear responsibility for care coordination within a service\"\n",
    "    )\n",
    "\n",
    "    msic_integration_care: bool = Field(\n",
    "        ..., \n",
    "        description=\"Care coordinator not assigned or unclear responsibility for coordinating care needs across multiple services\"\n",
    "    )\n",
    "    msic_local_authority: bool = Field(\n",
    "        ..., \n",
    "        description=\"Lack of social services involvement, no social worker, inadequate safeguarding checks, lack of specialist support in schools, missing school safety plan, etc.\"\n",
    "    )\n",
    "    msic_transition_camhs: bool = Field(\n",
    "        ..., \n",
    "        description=\"Lack of support transitioning from CAMHS to adult services or unclear guidance for 16–18-year-olds\"\n",
    "    )\n",
    "\n",
    "    as_delays_waiting: bool = Field(\n",
    "        ..., \n",
    "        description=\"Delay in GP or CAMHS referrals, CAMHS picking up referral, offering appointments, excessive waiting times leading to inappropriate referral, or COVID-19 related delays\"\n",
    "    )\n",
    "    as_referral_rejected: bool = Field(\n",
    "        ..., \n",
    "        description=\"Referral rejected due to waiting times, lack of staff, inadequate risk assessment, or complex needs not met by CAMHS\"\n",
    "    )\n",
    "    as_patient_engagement: bool = Field(\n",
    "        ..., \n",
    "        description=\"Inadequate contact with child or parent regarding referral, or patient refusal to engage followed by insufficient follow-up\"\n",
    "    )\n",
    "\n",
    "    ahce_internet: bool = Field(\n",
    "        ..., \n",
    "        description=\"Lack of internet safeguarding in school or failure of websites or social media to block harmful content\"\n",
    "    )\n",
    "    ahce_safeguarding_sensitive: bool = Field(\n",
    "        ..., \n",
    "        description=\"Sensitive questions or material presented to a child without adequate follow-up, adult support, warnings, or consideration of safety\"\n",
    "    )\n",
    "    ahce_harmful_items: bool = Field(\n",
    "        ..., \n",
    "        description=\"Access to items that can be used to harm or ligature, or access to alcohol, drugs, or substances where safety concerns are known\"\n",
    "    )\n",
    "    ahce_trainline: bool = Field(\n",
    "        ..., \n",
    "        description=\"Ability to access railway environments where access should be prevented, such as inadequate fencing\"\n",
    "    )\n",
    "\n",
    "\n",
    "# Initalise Extractor\n",
    "theme_extractor = Extractor(\n",
    "    reports=child_suicide_reports,\n",
    "    llm=llm_client,\n",
    "\n",
    "    # We only care about the Concerns section for this task; set everything else to False\n",
    "    include_receiver=False,\n",
    "    include_circumstances=False,\n",
    "    include_investigation=False,\n",
    "    include_concerns=True\n",
    ")\n",
    "\n",
    "\n",
    "child_suicide_reports = theme_extractor.extract_features(feature_model=ThemeFeatures,\n",
    "                                                         allow_multiple=True,\n",
    "                                                         force_assign=True)\n"
   ]
  },
  {
   "cell_type": "markdown",
   "metadata": {},
   "source": [
    "#### Create summary theme tables\n",
    "\n",
    "We can now mirror the tables that ONS produced in their own report. \n",
    "\n",
    "However, while ONS reported \"number of mentions\" we count \"number of reports\". ONS likely counted mentions because they were using NVIVO, but it's more informative to count reports (reports vary a great deal in length, and so counting distinct mentions can bias results towards longer reports)."
   ]
  },
  {
   "cell_type": "code",
   "execution_count": 10,
   "metadata": {},
   "outputs": [
    {
     "data": {
      "text/html": [
       "<div>\n",
       "<style scoped>\n",
       "    .dataframe tbody tr th:only-of-type {\n",
       "        vertical-align: middle;\n",
       "    }\n",
       "\n",
       "    .dataframe tbody tr th {\n",
       "        vertical-align: top;\n",
       "    }\n",
       "\n",
       "    .dataframe thead th {\n",
       "        text-align: right;\n",
       "    }\n",
       "</style>\n",
       "<table border=\"1\" class=\"dataframe\">\n",
       "  <thead>\n",
       "    <tr style=\"text-align: right;\">\n",
       "      <th></th>\n",
       "      <th>Category</th>\n",
       "      <th>Count</th>\n",
       "      <th>Percentage</th>\n",
       "    </tr>\n",
       "  </thead>\n",
       "  <tbody>\n",
       "    <tr>\n",
       "      <th>0</th>\n",
       "      <td>sp_sop_inadequate</td>\n",
       "      <td>34</td>\n",
       "      <td>46.575342</td>\n",
       "    </tr>\n",
       "    <tr>\n",
       "      <th>1</th>\n",
       "      <td>sp_specialist_services</td>\n",
       "      <td>18</td>\n",
       "      <td>24.657534</td>\n",
       "    </tr>\n",
       "    <tr>\n",
       "      <th>2</th>\n",
       "      <td>sp_risk_assessment</td>\n",
       "      <td>23</td>\n",
       "      <td>31.506849</td>\n",
       "    </tr>\n",
       "    <tr>\n",
       "      <th>3</th>\n",
       "      <td>sp_discharge</td>\n",
       "      <td>4</td>\n",
       "      <td>5.479452</td>\n",
       "    </tr>\n",
       "    <tr>\n",
       "      <th>4</th>\n",
       "      <td>sp_diagnostics</td>\n",
       "      <td>8</td>\n",
       "      <td>10.958904</td>\n",
       "    </tr>\n",
       "    <tr>\n",
       "      <th>5</th>\n",
       "      <td>sr_training</td>\n",
       "      <td>25</td>\n",
       "      <td>34.246575</td>\n",
       "    </tr>\n",
       "    <tr>\n",
       "      <th>6</th>\n",
       "      <td>sr_inadequate_staffing</td>\n",
       "      <td>12</td>\n",
       "      <td>16.438356</td>\n",
       "    </tr>\n",
       "    <tr>\n",
       "      <th>7</th>\n",
       "      <td>sr_funding</td>\n",
       "      <td>8</td>\n",
       "      <td>10.958904</td>\n",
       "    </tr>\n",
       "    <tr>\n",
       "      <th>8</th>\n",
       "      <td>sr_recruitment_retention</td>\n",
       "      <td>4</td>\n",
       "      <td>5.479452</td>\n",
       "    </tr>\n",
       "    <tr>\n",
       "      <th>9</th>\n",
       "      <td>comm_between_services</td>\n",
       "      <td>25</td>\n",
       "      <td>34.246575</td>\n",
       "    </tr>\n",
       "    <tr>\n",
       "      <th>10</th>\n",
       "      <td>comm_patient_family</td>\n",
       "      <td>18</td>\n",
       "      <td>24.657534</td>\n",
       "    </tr>\n",
       "    <tr>\n",
       "      <th>11</th>\n",
       "      <td>comm_confidentiality_risk</td>\n",
       "      <td>9</td>\n",
       "      <td>12.328767</td>\n",
       "    </tr>\n",
       "    <tr>\n",
       "      <th>12</th>\n",
       "      <td>comm_within_services</td>\n",
       "      <td>24</td>\n",
       "      <td>32.876712</td>\n",
       "    </tr>\n",
       "    <tr>\n",
       "      <th>13</th>\n",
       "      <td>msic_integration_care</td>\n",
       "      <td>20</td>\n",
       "      <td>27.397260</td>\n",
       "    </tr>\n",
       "    <tr>\n",
       "      <th>14</th>\n",
       "      <td>msic_local_authority</td>\n",
       "      <td>15</td>\n",
       "      <td>20.547945</td>\n",
       "    </tr>\n",
       "    <tr>\n",
       "      <th>15</th>\n",
       "      <td>msic_transition_camhs</td>\n",
       "      <td>14</td>\n",
       "      <td>19.178082</td>\n",
       "    </tr>\n",
       "    <tr>\n",
       "      <th>16</th>\n",
       "      <td>as_delays_waiting</td>\n",
       "      <td>24</td>\n",
       "      <td>32.876712</td>\n",
       "    </tr>\n",
       "    <tr>\n",
       "      <th>17</th>\n",
       "      <td>as_referral_rejected</td>\n",
       "      <td>5</td>\n",
       "      <td>6.849315</td>\n",
       "    </tr>\n",
       "    <tr>\n",
       "      <th>18</th>\n",
       "      <td>as_patient_engagement</td>\n",
       "      <td>8</td>\n",
       "      <td>10.958904</td>\n",
       "    </tr>\n",
       "    <tr>\n",
       "      <th>19</th>\n",
       "      <td>ahce_internet</td>\n",
       "      <td>4</td>\n",
       "      <td>5.479452</td>\n",
       "    </tr>\n",
       "    <tr>\n",
       "      <th>20</th>\n",
       "      <td>ahce_safeguarding_sensitive</td>\n",
       "      <td>4</td>\n",
       "      <td>5.479452</td>\n",
       "    </tr>\n",
       "    <tr>\n",
       "      <th>21</th>\n",
       "      <td>ahce_harmful_items</td>\n",
       "      <td>9</td>\n",
       "      <td>12.328767</td>\n",
       "    </tr>\n",
       "    <tr>\n",
       "      <th>22</th>\n",
       "      <td>ahce_trainline</td>\n",
       "      <td>3</td>\n",
       "      <td>4.109589</td>\n",
       "    </tr>\n",
       "  </tbody>\n",
       "</table>\n",
       "</div>"
      ],
      "text/plain": [
       "                       Category  Count  Percentage\n",
       "0             sp_sop_inadequate     34   46.575342\n",
       "1        sp_specialist_services     18   24.657534\n",
       "2            sp_risk_assessment     23   31.506849\n",
       "3                  sp_discharge      4    5.479452\n",
       "4                sp_diagnostics      8   10.958904\n",
       "5                   sr_training     25   34.246575\n",
       "6        sr_inadequate_staffing     12   16.438356\n",
       "7                    sr_funding      8   10.958904\n",
       "8      sr_recruitment_retention      4    5.479452\n",
       "9         comm_between_services     25   34.246575\n",
       "10          comm_patient_family     18   24.657534\n",
       "11    comm_confidentiality_risk      9   12.328767\n",
       "12         comm_within_services     24   32.876712\n",
       "13        msic_integration_care     20   27.397260\n",
       "14         msic_local_authority     15   20.547945\n",
       "15        msic_transition_camhs     14   19.178082\n",
       "16            as_delays_waiting     24   32.876712\n",
       "17         as_referral_rejected      5    6.849315\n",
       "18        as_patient_engagement      8   10.958904\n",
       "19                ahce_internet      4    5.479452\n",
       "20  ahce_safeguarding_sensitive      4    5.479452\n",
       "21           ahce_harmful_items      9   12.328767\n",
       "22               ahce_trainline      3    4.109589"
      ]
     },
     "execution_count": 10,
     "metadata": {},
     "output_type": "execute_result"
    }
   ],
   "source": [
    "theme_extractor.tabulate()"
   ]
  },
  {
   "cell_type": "code",
   "execution_count": 11,
   "metadata": {},
   "outputs": [],
   "source": [
    "child_suicide_reports.to_csv('child_suicide_cases.csv')\n",
    "tagged_reports.to_csv('all_tagged_reports.csv')"
   ]
  },
  {
   "cell_type": "markdown",
   "metadata": {},
   "source": [
    "### Check workflow runtime"
   ]
  },
  {
   "cell_type": "code",
   "execution_count": 12,
   "metadata": {},
   "outputs": [
    {
     "name": "stdout",
     "output_type": "stream",
     "text": [
      "Elapsed time: 5m 29s\n"
     ]
    }
   ],
   "source": [
    "end = time.time()\n",
    "\n",
    "elapsed_seconds = int(end - start)\n",
    "\n",
    "minutes, seconds = divmod(elapsed_seconds, 60)\n",
    "print(f\"Elapsed time: {minutes}m {seconds}s\")"
   ]
  }
 ],
 "metadata": {
  "kernelspec": {
   "display_name": ".venv",
   "language": "python",
   "name": "python3"
  },
  "language_info": {
   "codemirror_mode": {
    "name": "ipython",
    "version": 3
   },
   "file_extension": ".py",
   "mimetype": "text/x-python",
   "name": "python",
   "nbconvert_exporter": "python",
   "pygments_lexer": "ipython3",
   "version": "3.12.3"
  }
 },
 "nbformat": 4,
 "nbformat_minor": 2
}
