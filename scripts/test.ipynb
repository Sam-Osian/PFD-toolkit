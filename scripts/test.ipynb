{
 "cells": [
  {
   "cell_type": "code",
   "execution_count": null,
   "id": "fea9bef0",
   "metadata": {},
   "outputs": [],
   "source": [
    "from pfd_toolkit import Scraper, LLM\n",
    "from dotenv import load_dotenv\n",
    "import os\n",
    "\n",
    "# Load OpenAI API key\n",
    "load_dotenv(\"../api.env\")\n",
    "openai_api_key = os.getenv(\"OPENAI_API_KEY\")\n"
   ]
  },
  {
   "cell_type": "code",
   "execution_count": 7,
   "id": "0915f596",
   "metadata": {},
   "outputs": [
    {
     "name": "stderr",
     "output_type": "stream",
     "text": [
      "WARNING:pfd_toolkit.scraper.scraper:max_requests is set to a high value (>10). \n",
      "This may trigger anti-scraping measures by the host, leading to temporary or permanent IP bans. \n",
      "We recommend setting to between 3 and 10.\n",
      "\n",
      "INFO:pfd_toolkit.scraper.scraper:Total collected report links: 74\n",
      "LLM scraping: 100%|██████████| 74/74 [02:01<00:00,  1.64s/it]  \n",
      "                                                     \r"
     ]
    }
   ],
   "source": [
    "llm_client = LLM(api_key=openai_api_key, max_workers=25,\n",
    "                 timeout=150, seed=123)\n",
    "\n",
    "# Set up scraper\n",
    "scraper = Scraper(\n",
    "    llm=llm_client,\n",
    "    start_date=\"2025-07-01\",\n",
    "    scraping_strategy=[2, 3, 1],\n",
    "    max_workers=30,\n",
    "    max_requests=30\n",
    ")\n",
    "\n",
    "# Run scraper & save reports\n",
    "reports = scraper.scrape_reports()"
   ]
  },
  {
   "cell_type": "code",
   "execution_count": 8,
   "id": "199963a8",
   "metadata": {},
   "outputs": [],
   "source": [
    "reports.to_csv(\"sample_reports.csv\")"
   ]
  },
  {
   "cell_type": "code",
   "execution_count": 1,
   "id": "6c45ccd7",
   "metadata": {},
   "outputs": [],
   "source": [
    "import pandas as pd\n",
    "\n",
    "reports = pd.read_csv(\"sample_reports.csv\")"
   ]
  },
  {
   "cell_type": "code",
   "execution_count": 4,
   "id": "c3a3e581",
   "metadata": {},
   "outputs": [
    {
     "name": "stderr",
     "output_type": "stream",
     "text": [
      "Processing Fields: 100%|██████████| 6/6 [00:53<00:00,  8.94s/it]\n"
     ]
    }
   ],
   "source": [
    "from pfd_toolkit import Cleaner, LLM\n",
    "from dotenv import load_dotenv\n",
    "import os\n",
    "\n",
    "# Load OpenAI API key\n",
    "load_dotenv(\"../api.env\")\n",
    "openai_api_key = os.getenv(\"OPENAI_API_KEY\")\n",
    "\n",
    "llm_client = LLM(api_key=openai_api_key, max_workers=25,\n",
    "                 timeout=150, seed=123)\n",
    "\n",
    "cleaner = Cleaner(llm=llm_client,\n",
    "                  reports=reports\n",
    "           )\n",
    "\n",
    "cleaned_reports = cleaner.clean_reports()"
   ]
  },
  {
   "cell_type": "code",
   "execution_count": 5,
   "id": "54cb4b93",
   "metadata": {},
   "outputs": [],
   "source": [
    "cleaned_reports.to_csv(\"sample_reports_cleaned.csv\")"
   ]
  }
 ],
 "metadata": {
  "kernelspec": {
   "display_name": ".venv",
   "language": "python",
   "name": "python3"
  },
  "language_info": {
   "codemirror_mode": {
    "name": "ipython",
    "version": 3
   },
   "file_extension": ".py",
   "mimetype": "text/x-python",
   "name": "python",
   "nbconvert_exporter": "python",
   "pygments_lexer": "ipython3",
   "version": "3.12.3"
  }
 },
 "nbformat": 4,
 "nbformat_minor": 5
}
