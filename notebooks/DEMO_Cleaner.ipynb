{
 "cells": [
  {
   "cell_type": "code",
   "execution_count": 1,
   "metadata": {},
   "outputs": [
    {
     "name": "stderr",
     "output_type": "stream",
     "text": [
      "Processing Fields:   0%|          | 0/6 [00:00<?, ?it/s]INFO:pfd_toolkit.cleaner:Preparing batch for column: 'CoronerName' (Field: Coroner)\n",
      "INFO:pfd_toolkit.cleaner:Sending 10 text items to LLM for column 'CoronerName'.\n",
      "INFO:pfd_toolkit.cleaner:Finished batch cleaning for 'CoronerName'. 0 entries were actively modified by the LLM (excluding reversions).\n",
      "Processing Fields:  17%|█▋        | 1/6 [00:07<00:39,  7.90s/it]INFO:pfd_toolkit.cleaner:Preparing batch for column: 'Area' (Field: Area)\n",
      "INFO:pfd_toolkit.cleaner:Sending 10 text items to LLM for column 'Area'.\n",
      "INFO:pfd_toolkit.cleaner:Finished batch cleaning for 'Area'. 0 entries were actively modified by the LLM (excluding reversions).\n",
      "Processing Fields:  33%|███▎      | 2/6 [00:13<00:26,  6.70s/it]INFO:pfd_toolkit.cleaner:Preparing batch for column: 'Receiver' (Field: Receiver)\n",
      "INFO:pfd_toolkit.cleaner:Sending 10 text items to LLM for column 'Receiver'.\n",
      "INFO:pfd_toolkit.cleaner:Finished batch cleaning for 'Receiver'. 4 entries were actively modified by the LLM (excluding reversions).\n",
      "Processing Fields:  50%|█████     | 3/6 [00:20<00:20,  6.73s/it]INFO:pfd_toolkit.cleaner:Preparing batch for column: 'InvestigationAndInquest' (Field: InvestigationAndInquest)\n",
      "INFO:pfd_toolkit.cleaner:Sending 10 text items to LLM for column 'InvestigationAndInquest'.\n",
      "INFO:pfd_toolkit.cleaner:Finished batch cleaning for 'InvestigationAndInquest'. 9 entries were actively modified by the LLM (excluding reversions).\n",
      "Processing Fields:  67%|██████▋   | 4/6 [00:38<00:22, 11.23s/it]INFO:pfd_toolkit.cleaner:Preparing batch for column: 'CircumstancesOfDeath' (Field: CircumstancesOfDeath)\n",
      "INFO:pfd_toolkit.cleaner:Sending 10 text items to LLM for column 'CircumstancesOfDeath'.\n",
      "INFO:pfd_toolkit.cleaner:Finished batch cleaning for 'CircumstancesOfDeath'. 10 entries were actively modified by the LLM (excluding reversions).\n",
      "Processing Fields:  83%|████████▎ | 5/6 [01:11<00:19, 19.11s/it]INFO:pfd_toolkit.cleaner:Preparing batch for column: 'MattersOfConcern' (Field: MattersOfConcern)\n",
      "INFO:pfd_toolkit.cleaner:Sending 10 text items to LLM for column 'MattersOfConcern'.\n",
      "INFO:pfd_toolkit.cleaner:Finished batch cleaning for 'MattersOfConcern'. 9 entries were actively modified by the LLM (excluding reversions).\n",
      "Processing Fields: 100%|██████████| 6/6 [01:51<00:00, 18.51s/it]\n"
     ]
    }
   ],
   "source": [
    "from pfd_toolkit import Cleaner, llm\n",
    "from dotenv import load_dotenv\n",
    "import os\n",
    "import pandas as pd\n",
    "\n",
    "load_dotenv(\"api.env\")\n",
    "openai_api_key = os.getenv(\"OPENAI_API_KEY\")\n",
    "\n",
    "# Import reports\n",
    "reports = pd.read_csv('../data/testreports.csv')\n",
    "\n",
    "llm_client = llm.LLM(api_key=openai_api_key)\n",
    "\n",
    "cleaner = Cleaner(\n",
    "    llm=llm_client,\n",
    "    reports=reports)\n",
    "\n",
    "cleaned_reports = cleaner.clean_reports()\n",
    "\n"
   ]
  },
  {
   "cell_type": "code",
   "execution_count": 3,
   "metadata": {},
   "outputs": [],
   "source": [
    "cleaned_reports.head()\n",
    "\n",
    "cleaned_reports.to_csv('../data/testreports_cleaned.csv')"
   ]
  }
 ],
 "metadata": {
  "kernelspec": {
   "display_name": ".venv",
   "language": "python",
   "name": "python3"
  },
  "language_info": {
   "codemirror_mode": {
    "name": "ipython",
    "version": 3
   },
   "file_extension": ".py",
   "mimetype": "text/x-python",
   "name": "python",
   "nbconvert_exporter": "python",
   "pygments_lexer": "ipython3",
   "version": "3.12.3"
  }
 },
 "nbformat": 4,
 "nbformat_minor": 2
}
