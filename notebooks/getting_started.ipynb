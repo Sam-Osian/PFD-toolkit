{
 "cells": [
  {
   "cell_type": "markdown",
   "metadata": {},
   "source": [
    "# Getting started\n",
    "\n",
    "This page talks you through an example workflow using PFD Toolkit: loading a dataset and screening for relevant cases.\n",
    "\n",
    "It doesn't cover everything: for more, we strongly suggest browsing through the pages in the top panel.\n",
    "\n",
    "---\n",
    "\n",
    "## Installation\n",
    "\n",
    "PFD Toolkit can be installed from pip as `pfd_toolkit`:\n",
    "\n",
    "```bash\n",
    "pip install pfd_toolkit\n",
    "```"
   ]
  },
  {
   "cell_type": "markdown",
   "metadata": {},
   "source": [
    "## Load your first dataset\n",
    "\n",
    "First, you'll need to load a PFD dataset. These datasets are updated weekly, meaning you always have access to the latest reports with minimal setup."
   ]
  },
  {
   "cell_type": "code",
   "execution_count": 1,
   "metadata": {},
   "outputs": [
    {
     "data": {
      "text/html": [
       "<div>\n",
       "<style scoped>\n",
       "    .dataframe tbody tr th:only-of-type {\n",
       "        vertical-align: middle;\n",
       "    }\n",
       "\n",
       "    .dataframe tbody tr th {\n",
       "        vertical-align: top;\n",
       "    }\n",
       "\n",
       "    .dataframe thead th {\n",
       "        text-align: right;\n",
       "    }\n",
       "</style>\n",
       "<table border=\"1\" class=\"dataframe\">\n",
       "  <thead>\n",
       "    <tr style=\"text-align: right;\">\n",
       "      <th></th>\n",
       "      <th>url</th>\n",
       "      <th>id</th>\n",
       "      <th>date</th>\n",
       "      <th>coroner</th>\n",
       "      <th>area</th>\n",
       "      <th>receiver</th>\n",
       "      <th>investigation</th>\n",
       "      <th>circumstances</th>\n",
       "      <th>concerns</th>\n",
       "    </tr>\n",
       "  </thead>\n",
       "  <tbody>\n",
       "    <tr>\n",
       "      <th>0</th>\n",
       "      <td>https://www.judiciary.uk/prevention-of-future-...</td>\n",
       "      <td>2025-0209</td>\n",
       "      <td>2025-05-01</td>\n",
       "      <td>A. Hodson</td>\n",
       "      <td>Birmingham and Solihull</td>\n",
       "      <td>NHS England; The Robert Jones and Agnes Hunt O...</td>\n",
       "      <td>On 9th December 2024 I commenced an investigat...</td>\n",
       "      <td>At 10.45am on 23rd November 2024, Peter sadly ...</td>\n",
       "      <td>To The Robert Jones and Agnes Hunt Orthopaedic...</td>\n",
       "    </tr>\n",
       "    <tr>\n",
       "      <th>1</th>\n",
       "      <td>https://www.judiciary.uk/prevention-of-future-...</td>\n",
       "      <td>2025-0208</td>\n",
       "      <td>2025-04-30</td>\n",
       "      <td>J. Andrews</td>\n",
       "      <td>West Sussex, Brighton and Hove</td>\n",
       "      <td>West Sussex County Council</td>\n",
       "      <td>On 2 November 2024 I commenced an investigatio...</td>\n",
       "      <td>Mrs Turner drove her car into the canal at the...</td>\n",
       "      <td>The inquest was told that South Bank is a resi...</td>\n",
       "    </tr>\n",
       "    <tr>\n",
       "      <th>2</th>\n",
       "      <td>https://www.judiciary.uk/prevention-of-future-...</td>\n",
       "      <td>2025-0207</td>\n",
       "      <td>2025-04-30</td>\n",
       "      <td>A. Mutch</td>\n",
       "      <td>Manchester South</td>\n",
       "      <td>Flixton Road Medical Centre; Greater Mancheste...</td>\n",
       "      <td>On 1 October 2024 I commenced an investigation...</td>\n",
       "      <td>Louise Danielle Rosendale was prescribed long ...</td>\n",
       "      <td>The inquest heard evidence that Louise Rosenda...</td>\n",
       "    </tr>\n",
       "    <tr>\n",
       "      <th>3</th>\n",
       "      <td>https://www.judiciary.uk/prevention-of-future-...</td>\n",
       "      <td>2025-0206</td>\n",
       "      <td>2025-04-25</td>\n",
       "      <td>J. Heath</td>\n",
       "      <td>North Yorkshire and York</td>\n",
       "      <td>Townhead Surgery</td>\n",
       "      <td>On 4th June 2024 I commenced an investigation ...</td>\n",
       "      <td>On 15 March 2024, Richard James Moss attended ...</td>\n",
       "      <td>When a referral document is completed by a med...</td>\n",
       "    </tr>\n",
       "    <tr>\n",
       "      <th>4</th>\n",
       "      <td>https://www.judiciary.uk/prevention-of-future-...</td>\n",
       "      <td>2025-0120</td>\n",
       "      <td>2025-04-25</td>\n",
       "      <td>M. Hassell</td>\n",
       "      <td>Inner North London</td>\n",
       "      <td>The President Royal College Obstetricians and ...</td>\n",
       "      <td>On 23 August 2024, one of my assistant coroner...</td>\n",
       "      <td>Jannat was a big baby and her mother had a his...</td>\n",
       "      <td>With the benefit of a maternity and newborn sa...</td>\n",
       "    </tr>\n",
       "  </tbody>\n",
       "</table>\n",
       "</div>"
      ],
      "text/plain": [
       "                                                 url         id       date  \\\n",
       "0  https://www.judiciary.uk/prevention-of-future-...  2025-0209 2025-05-01   \n",
       "1  https://www.judiciary.uk/prevention-of-future-...  2025-0208 2025-04-30   \n",
       "2  https://www.judiciary.uk/prevention-of-future-...  2025-0207 2025-04-30   \n",
       "3  https://www.judiciary.uk/prevention-of-future-...  2025-0206 2025-04-25   \n",
       "4  https://www.judiciary.uk/prevention-of-future-...  2025-0120 2025-04-25   \n",
       "\n",
       "      coroner                            area  \\\n",
       "0   A. Hodson         Birmingham and Solihull   \n",
       "1  J. Andrews  West Sussex, Brighton and Hove   \n",
       "2    A. Mutch                Manchester South   \n",
       "3    J. Heath        North Yorkshire and York   \n",
       "4  M. Hassell              Inner North London   \n",
       "\n",
       "                                            receiver  \\\n",
       "0  NHS England; The Robert Jones and Agnes Hunt O...   \n",
       "1                         West Sussex County Council   \n",
       "2  Flixton Road Medical Centre; Greater Mancheste...   \n",
       "3                                   Townhead Surgery   \n",
       "4  The President Royal College Obstetricians and ...   \n",
       "\n",
       "                                       investigation  \\\n",
       "0  On 9th December 2024 I commenced an investigat...   \n",
       "1  On 2 November 2024 I commenced an investigatio...   \n",
       "2  On 1 October 2024 I commenced an investigation...   \n",
       "3  On 4th June 2024 I commenced an investigation ...   \n",
       "4  On 23 August 2024, one of my assistant coroner...   \n",
       "\n",
       "                                       circumstances  \\\n",
       "0  At 10.45am on 23rd November 2024, Peter sadly ...   \n",
       "1  Mrs Turner drove her car into the canal at the...   \n",
       "2  Louise Danielle Rosendale was prescribed long ...   \n",
       "3  On 15 March 2024, Richard James Moss attended ...   \n",
       "4  Jannat was a big baby and her mother had a his...   \n",
       "\n",
       "                                            concerns  \n",
       "0  To The Robert Jones and Agnes Hunt Orthopaedic...  \n",
       "1  The inquest was told that South Bank is a resi...  \n",
       "2  The inquest heard evidence that Louise Rosenda...  \n",
       "3  When a referral document is completed by a med...  \n",
       "4  With the benefit of a maternity and newborn sa...  "
      ]
     },
     "execution_count": 1,
     "metadata": {},
     "output_type": "execute_result"
    }
   ],
   "source": [
    "from pfd_toolkit import load_reports\n",
    "\n",
    "# Load all PFD reports from Jan-May 2025\n",
    "reports = load_reports(\n",
    "    start_date=\"2024-01-01\",\n",
    "    end_date=\"2025-05-01\")\n",
    "\n",
    "# Identify number of reports\n",
    "num_reports = len(reports)\n",
    "\n",
    "reports.head(n=5)"
   ]
  },
  {
   "cell_type": "markdown",
   "metadata": {},
   "source": [
    "## Screening for relevant reports\n",
    "\n",
    "You're likely using PFD Toolkit because you want to answer a specific question. For example: \"Do any PFD reports raise concerns related to detention under the Mental Health Act?\"\n",
    "\n",
    "PFD Toolkit lets you query reports in plain English — no need to know precise keywords or categories. Just describe the cases you care about, and the toolkit will return matching reports.\n",
    "\n",
    "### Set up an LLM client\n",
    "\n",
    "Screening and other advanced features use AI, and require you to first set up an LLM client. You'll need to head to [platform.openai.com](https://platform.openai.com/docs/overview) and create an API key. Once you've got this, simply feed it to the `LLM`."
   ]
  },
  {
   "cell_type": "code",
   "execution_count": 2,
   "metadata": {},
   "outputs": [],
   "source": [
    "from pfd_toolkit import LLM\n",
    "from dotenv import load_dotenv\n",
    "import os\n",
    "\n",
    "# Load OpenAI API key\n",
    "load_dotenv(\"api.env\")\n",
    "openai_api_key = os.getenv(\"OPENAI_API_KEY\")\n",
    "\n",
    "# Initialise LLM client\n",
    "llm_client = LLM(api_key=openai_api_key, max_workers=30)"
   ]
  },
  {
   "cell_type": "markdown",
   "metadata": {},
   "source": [
    "### Screen reports in plain English\n",
    "\n",
    "Now, all we need to do is specify our `user_query` (the statement the LLM will use to filter reports), and set up our `Screener` engine."
   ]
  },
  {
   "cell_type": "code",
   "execution_count": null,
   "metadata": {},
   "outputs": [
    {
     "name": "stderr",
     "output_type": "stream",
     "text": [
      "Sending requests to the LLM: 100%|██████████| 883/883 [00:20<00:00, 44.02it/s]\n"
     ]
    }
   ],
   "source": [
    "from pfd_toolkit import Screener\n",
    "\n",
    "# Create a user query to filter\n",
    "user_query = \"Concerns related to detention under the Mental Health Act **only**\"\n",
    "\n",
    "# Screen reports\n",
    "screener = Screener(llm = llm_client,\n",
    "                        reports = reports) # Reports that you loaded earlier\n",
    "\n",
    "filtered_reports = screener.screen_reports(user_query=user_query,\n",
    "                                           produce_spans=True)"
   ]
  },
  {
   "cell_type": "code",
   "execution_count": 8,
   "metadata": {},
   "outputs": [
    {
     "name": "stdout",
     "output_type": "stream",
     "text": [
      "From our initial 883 reports, PFD toolkit screened 80 reports mentioning concerns around detention under the Mental Health Act.\n"
     ]
    }
   ],
   "source": [
    "# Capture number of screened reports\n",
    "num_reports_screened = len(filtered_reports)\n",
    "\n",
    "# Check how many reports we've identified\n",
    "print(f\"From our initial {num_reports} reports, PFD toolkit screened {num_reports_screened} \\\n",
    "reports mentioning concerns around detention under the Mental Health Act.\")"
   ]
  },
  {
   "cell_type": "markdown",
   "metadata": {},
   "source": [
    "In practice, we'd probably want to extend our start and end dates to cover the entire corpus of reports. We've only kept things short for demo purposes :)"
   ]
  },
  {
   "cell_type": "markdown",
   "metadata": {},
   "source": [
    "## Discover themes\n",
    "\n",
    "Now that we've got our collection of reports related to detention under the Mental Health Act, we might want to discover recurring themes: in other words, common occurances "
   ]
  }
 ],
 "metadata": {
  "kernelspec": {
   "display_name": ".venv",
   "language": "python",
   "name": "python3"
  },
  "language_info": {
   "codemirror_mode": {
    "name": "ipython",
    "version": 3
   },
   "file_extension": ".py",
   "mimetype": "text/x-python",
   "name": "python",
   "nbconvert_exporter": "python",
   "pygments_lexer": "ipython3",
   "version": "3.12.3"
  }
 },
 "nbformat": 4,
 "nbformat_minor": 2
}
