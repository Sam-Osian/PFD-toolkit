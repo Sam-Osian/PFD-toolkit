{
 "cells": [
  {
   "cell_type": "markdown",
   "metadata": {},
   "source": [
    "# DEMO of response format capabilities\n",
    "As you can see in the below made up example, the LLM is FORCED to produce outputs in the format laid out in the class called Test. It's important that Test inherits from Pydantic's BaseModel, as this is handled internally by the openai SDK and is also used to parse the text json output back into the class. Once you have the output object, you can access the attributes of the object like normal. The use of Typing is enforced by openai, ensuring that a string is always a string, an integer is always an integer, a List is always a list, and a Literal has to be one of the options you give it. This is perfect for ensuring LLM outputs are bulletproof in their conforming to your expected outputs, meaning that they do not break unexpectedly no matter what the input is.\n",
    "\n",
    "The use of Field, from pydantic allows you to add a description property to the attribute. This description is provided to the LLM too, and so are any docstrings!"
   ]
  },
  {
   "cell_type": "code",
   "execution_count": null,
   "metadata": {},
   "outputs": [],
   "source": [
    "from pfd_toolkit.llm import LLM\n",
    "import os\n",
    "from dotenv import load_dotenv\n",
    "from pydantic import BaseModel, Field, create_model\n",
    "from typing import List, Literal\n",
    "load_dotenv()\n",
    "class Test(BaseModel):\n",
    "    \"\"\"An example response format case, this text is seen by the LLM too!\"\"\"\n",
    "    name: Literal['john', 'sam', 'other'] = Field(..., description='The name of the patient')\n",
    "    sibling_ages: List[str] = Field(..., description='The ages of their siblings')\n",
    "    death_reason: str = Field(..., description='A verbose reason for the patients death')\n",
    "    category: Literal['suicide', 'old-age', 'covid'] = Field(..., description='Which category the death reason falls into')"
   ]
  },
  {
   "cell_type": "code",
   "execution_count": 2,
   "metadata": {},
   "outputs": [],
   "source": [
    "llm = LLM(api_key=os.getenv('OPENAI_API_KEY'), model='gpt-4o-mini')"
   ]
  },
  {
   "cell_type": "code",
   "execution_count": 40,
   "metadata": {},
   "outputs": [],
   "source": [
    "res = llm.generate(prompt='johns siblings are 28 and 29 respectively. john died from confusion and suffered from long-covid which caused cognitive impairment that ultimately resulted in his passing...', response_format=Test)"
   ]
  },
  {
   "cell_type": "code",
   "execution_count": 41,
   "metadata": {},
   "outputs": [
    {
     "data": {
      "text/plain": [
       "Test(name='john', sibling_ages=['28', '29'], death_reason='John died from confusion and suffered from long-covid which caused cognitive impairment that ultimately resulted in his passing.', category='covid')"
      ]
     },
     "execution_count": 41,
     "metadata": {},
     "output_type": "execute_result"
    }
   ],
   "source": [
    "res"
   ]
  },
  {
   "cell_type": "markdown",
   "metadata": {},
   "source": [
    "# Classification of PFD report demo"
   ]
  },
  {
   "cell_type": "code",
   "execution_count": null,
   "metadata": {},
   "outputs": [],
   "source": [
    "class ReportClassification(BaseModel):\n",
    "    \"\"\"The classification of the prevention of future death report based on the given context\"\"\"\n",
    "    classification: Literal['suicide', 'depression', 'covid', 'old age', 'confused']"
   ]
  },
  {
   "cell_type": "code",
   "execution_count": 46,
   "metadata": {},
   "outputs": [],
   "source": [
    "case = llm.generate(prompt='The cause of death in this case was old age, as the patient lived to an impressive 98 years of age.', response_format=ReportClassification)"
   ]
  },
  {
   "cell_type": "code",
   "execution_count": 48,
   "metadata": {},
   "outputs": [
    {
     "data": {
      "text/plain": [
       "ReportClassification(classification='old age')"
      ]
     },
     "execution_count": 48,
     "metadata": {},
     "output_type": "execute_result"
    }
   ],
   "source": [
    "case"
   ]
  },
  {
   "cell_type": "code",
   "execution_count": 49,
   "metadata": {},
   "outputs": [
    {
     "data": {
      "text/plain": [
       "'old age'"
      ]
     },
     "execution_count": 49,
     "metadata": {},
     "output_type": "execute_result"
    }
   ],
   "source": [
    "case.classification"
   ]
  },
  {
   "cell_type": "markdown",
   "metadata": {},
   "source": [
    "My testing of the grammar (response format) results. Please delete or let me know once you are happy and we'll clean the notebook up. Sorry it's here, I started here and don't wanna move it and re do the LLM calls just to regenerate the cell outputs."
   ]
  },
  {
   "cell_type": "code",
   "execution_count": 1,
   "metadata": {},
   "outputs": [
    {
     "name": "stderr",
     "output_type": "stream",
     "text": [
      "WARNING:pfd_toolkit.scraper:Only LLM fallback is enabled. \n",
      "While this is a high-performance option, large API costs may be incurred, especially for large requests. \n",
      "Consider enabling HTML scraping or .pdf fallback for more cost-effective data extraction.\n",
      "\n",
      "WARNING:pfd_toolkit.scraper:delay_range has been disabled. \n",
      "This will disable delays between requests. This may trigger anti-scraping measures by the host, leading to temporary or permanent IP bans. \n",
      "We recommend setting to (1,2).\n",
      "\n",
      "Fetching pages: 2 page(s) [00:00,  5.79 page(s)/s]INFO:pfd_toolkit.scraper:Total collected report links: 4\n",
      "Scraping reports:  25%|██▌       | 1/4 [00:18<00:56, 18.89s/it]"
     ]
    },
    {
     "name": "stdout",
     "output_type": "stream",
     "text": [
      "OUTPUT JSON:\n",
      "\n",
      " {'date of report': '08/01/2024', \"coroner's name\": 'Karen HENDERSON', 'area': 'West Sussex, Brighton and Hove', 'receiver': '1. Association of Anaesthetists Great Britain and Ireland\\n2. Royal College of Anaesthetists\\n3. Chief Executive Health Education, England\\n4. CQC (Care Quality Commission)', 'investigation and inquest': 'On 7th January 2022 I resumed an investigation into the death of David Bryan Moore sitting with a Jury. On 21st July 2022, the investigation was concluded:\\n\\nThe medical cause of death given was:\\n\\n1a. Hypoxic ischaemic brain injury\\n1b. Cardiac arrest\\n1c. Dislodged tracheostomy tube and delayed replacement\\n1d. Burns suffered in an industrial accident requiring a tracheostomy tube\\nII. Obesity, Hypertension\\n\\nThe jury determined:\\n\\nMr Moore was a self-employed industrial electrician, employed on the 29th May 2021 to change a molded case circuit breaker (MCCB) at a property in Uxbridge. Mr Moore engineered the circuit to allow the front doors of the property to open. On doing this the metal plate divider between the MCCB’s made contact with the exposed live bus bars resulting in an electrical flashover. As a result, Mr Moore sustained burns covering 32 % of his body surface area.\\n\\nMr Moore was transferred to St Mary’s Hospital where he was intubated, ventilated and had surgical release of burns in his upper arms to improve blood supply. Following this Mr Moore was transferred to the Queen Victoria Hospital, East Grinstead on the same day for further management of his burns.', 'circumstances of death': 'The conclusion of the jury at the Inquest provides a summary of the circumstances which led Mr Moore to be admitted to Queen Victoria Hospital, East Grinstead for ongoing management and describes the circumstances of his death.\\n\\nDuring the hearing itself I heard evidence that there was an absence of national and local guidelines for the management of flanged tracheostomy tubes in particular relating to their ongoing assessment of their position in the trachea and in circumstances whereby no specific assessment was ongoing for Mr Moore within the High Dependency Unit for such assessment. As a consequence, Mr Moore’s flanged tracheostomy tube became dislodged and the time taken to re-establish his airway resulted in an hypoxic brain injury incompatible with survival.', \"coroner's concerns\": 'During the course of the investigation my inquiries revealed matters giving rise to concern. In my opinion there is a risk that future deaths could occur unless action is taken. In the circumstances it is my statutory duty to report to you.\\n\\nThe MATTERS OF CONCERN are as follows:\\n(brief summary of matters of concern)\\n1. Guidelines for the anaesthetic and/or Intensive Care management of a flanged tracheostomy tube.'} \n",
      "\n",
      "\n",
      "And missing fields are: ['date of report', \"coroner's name\", 'area', 'receiver', 'investigation and inquest', 'circumstances of death', \"coroner's concerns\"]\n"
     ]
    },
    {
     "name": "stderr",
     "output_type": "stream",
     "text": [
      "Scraping reports:  50%|█████     | 2/4 [00:19<00:16,  8.27s/it]"
     ]
    },
    {
     "name": "stdout",
     "output_type": "stream",
     "text": [
      "OUTPUT JSON:\n",
      "\n",
      " {'date of report': '4 January 2024', \"coroner's name\": 'Ian Potter', 'area': 'Inner North London', 'receiver': 'Lee Rowley MP, Chief Executive [REDACTED]', 'investigation and inquest': 'On 13 December 2022, an investigation was commenced into the death of BERNADETTE GRACE FAULKNER, then aged 80 years. The investigation concluded at the end of an inquest, heard by me, on 13 December 2023.\\n\\nThe conclusion of the inquest was accidental death, the medical cause of death being:\\n1a respiratory failure\\n1b lung contusion\\n1c multiple bilateral rib fractures (out of hospital fall, 2/12/2022)\\n1d obstructive sleep apnoea, type 2 diabetes mellitus, hypertension, asthma', 'circumstances of death': '(1) Mrs Faulkner rented a flat from her local authority, which was a former Victorian townhouse converted into four separate flats. Her electricity meter (installed in 2001) was in a cupboard, just inside the communal door to the flats, some 7-8 feet off the ground.\\n\\n(2) Mrs Faulkner, was only 4’10” tall, and had no choice but to access the meter using a stepladder every time she wished to add credit to her pre-payment meter.\\n\\n(3) On 2 December 2022, Mrs Faulkner purchased credit for her electricity meter and then climbed the stepladder to put the credit onto the meter. In trying to access the meter she fell from the ladder and landed on the floor, where she was discovered some hours later by neighbours.\\n\\n(4) Mrs Faulkner sadly died in hospital on 8 December 2022, as a direct result of the injuries she sustained in the fall.', \"coroner's concerns\": 'During the course of the inquest the evidence revealed matters giving rise to concern. In my opinion, there is a risk that future deaths could occur unless action is taken. In the circumstances, it is my statutory duty to report to you.\\n\\nThe MATTERS OF CONCERN are as follows:-\\n\\n(1) The electricity meter was installed at such a height that anyone wishing to access it would be unable to do so without the use of steps/a ladder. In addition, the placement of the meter (immediately behind an inwardly opening front door with no windows) added to the risk of using a stepladder because anyone coming through the door would be entirely unable to see anyone using a stepladder behind the door. Irrespective of the type of meter, it is reasonably foreseeable that electricity meters need to be accessed by people from time to time and not only those with the requisite training for working at height.\\n\\n(2) Siting prepayment meters, in particular, at such a height and location adds to the risk, because those choosing to use a pre-payment meter are required to access it each and every time they top-up the meter.\\n\\n(3) The electricity company which installed the meter in 2001 has \"no records of what consideration they gave at the point of installation to the specific meter location.\" Other meters in the property are at a similar height and it is not uncommon to find electricity meters at heights requiring steps to access them; there appears to be no industry standard requiring electricity meters to be easily accessible (albeit secure) by all potential customers, except perhaps in new build properties.'} \n",
      "\n",
      "\n",
      "And missing fields are: ['date of report', \"coroner's name\", 'area', 'receiver', 'investigation and inquest', 'circumstances of death', \"coroner's concerns\"]\n"
     ]
    },
    {
     "name": "stderr",
     "output_type": "stream",
     "text": [
      "Scraping reports:  75%|███████▌  | 3/4 [00:20<00:04,  4.86s/it]"
     ]
    },
    {
     "name": "stdout",
     "output_type": "stream",
     "text": [
      "OUTPUT JSON:\n",
      "\n",
      " {'date of report': '28/12/2023', \"coroner's name\": 'Victoria DAVIES', 'area': 'Cheshire', 'receiver': 'Department for Health and Social Care, National Crime Agency, Department for Science, Innovation & Technology', 'investigation and inquest': 'On 17 November 2017 I commenced an investigation into the death of Adrian Brendan GALLAGHER aged 24. The investigation concluded at the end of the inquest on 19 December 2023. The conclusion of the inquest was that:\\n\\nThis was a death due to suicide.', 'circumstances of death': 'Adrian Gallagher had a history of mental health struggles dating back to 2013, with no definitive diagnosis. On 12 June 2017 he was admitted to Hollins Park Hospital as an informal patient, but was discharged at his request on 16 June 2017. The same day, he was taken to hospital having been found intoxicated at a bridge, with suicidal ideation. He was formally sectioned under the Mental Health Act the following day and re-admitted to Hollins Park. During the admission, Adrian’s condition appeared to stabilise with changes to his medication, and he was allowed long periods of unescorted leave. By August 2017 he was awaiting a bed at Lea Court, a rehabilitation unit, and was spending the majority of the day away from the hospital. His presentation during this period did not give the hospital team or his parents cause for concern in relation to self harm/ suicidal ideation. On 9 November 2017 Adrian returned to hospital following a period of leave at his father’s house. No concerns or changes to his presentation were noted. Sadly, he was found deceased in bed the following morning, with his death confirmed at 08.50 on 10 November 2017. His death was due to an intentional overdose.\\n\\nPolice interrogation of Adrian’s phone after his death identified that on 12 September 2017 he made a purchase from [REDACTED]. It is not clear from the phone records what that purchase was, but it was the evidence at the inquest that the most likely purchase was [REDACTED]. It was the evidence of the attending police officer that, although not easy to do, you can also buy pentobarbital through the site.', \"coroner's concerns\": 'During the course of the investigation my inquiries revealed matters giving rise to concern. In my opinion there is a risk that future deaths could occur unless action is taken. In the circumstances it is my statutory duty to report to you.\\n\\nThe MATTERS OF CONCERN are as follows: (brief summary of matters of concern)\\n\\n[REDACTED] is available to anyone to purchase online, directly from the company. The [REDACTED] appears to have some link to the UK as there is a UK helpline number. The [REDACTED] appears to provide step by step instruction on how to end your life using certain methods, including how to make the death appear to be due to natural causes and therefore avoid referral to the coroner. Whilst the introduction suggests it is aimed at those who are elderly and long-term suffering, there is also reference to suicide for other reasons within the book and is likely to appear to vulnerable mental health patients.\\n\\nAccording to the evidence of the police officer, you can also buy drugs to end your life through this website.\\n\\nThe only check on age and ID appears to be after a purchase, to allow you access to online forums where you can get further advice on best methods.\\n\\nThe [REDACTED] has been banned in Australia (and possibly other countries) as it is deemed to encourage/ assist in suicide.\\n\\nThe [REDACTED], in some format, is also available on Amazon (and I am writing to Amazon directly to flag this).'} \n",
      "\n",
      "\n",
      "And missing fields are: ['date of report', \"coroner's name\", 'area', 'receiver', 'investigation and inquest', 'circumstances of death', \"coroner's concerns\"]\n"
     ]
    },
    {
     "name": "stderr",
     "output_type": "stream",
     "text": [
      "Scraping reports: 100%|██████████| 4/4 [00:22<00:00,  5.60s/it]\n",
      "INFO:pfd_toolkit.scraper:Estimated API cost for LLM fallback (model: gpt-4o-mini): $0.00 based on 0 missing fields.\n"
     ]
    },
    {
     "name": "stdout",
     "output_type": "stream",
     "text": [
      "OUTPUT JSON:\n",
      "\n",
      " {'date of report': '8 January 2024', \"coroner's name\": 'Dr Nicholas Shaw', 'area': 'Cumbria', 'receiver': '[REDACTED]', 'investigation and inquest': 'On 20 December 2022 I commenced an investigation into the death of Walter FAULDER. The investigation concluded at the end of the inquest . The conclusion of the inquest was Death due to Road Traffic Collision and the medical cause of death was 1a Multiple Injuries', 'circumstances of death': \"Walter Faulder BEM was an 88 year old gentleman who lived alone in Wigton, Cumberland. He had recently been discharged from hospital.\\n\\nOn Saturday 10th December 2022, Walter's daughter visited his address and there was a Cranston’s shopping bag next to his chair. He said he had got the bus to Orton Grange (where the shop is) and back which raised alarm bells to his daughter. She asked him not to do this journey again as it is unsafe. Walter stated that he believes there is a pelican crossing to assist him crossing the road (A595). This is not the case at Orton Grange.\\n\\nOn Tuesday 13th December 2022, Walter has got the 400 bus at 16:10 hours from Wigton and got off at Orton Grange. Walter has forgotten his wallet and crossed the road to the middle island and continued onto the South-West carriageway. He then collided with a vehicle, causing him to fall into the chevrons in the middle of the road. At the time of the collision it was nearly dark and the road was busy with a steady flow of traffic in both directions moving at normal speed.\\n\\nWalter was given first aid at scene, however he was pronounced deceased at scene in the rear of the ambulance at 17:20 hours.\", \"coroner's concerns\": 'During the course of the inquest the evidence revealed matters giving rise to concern. In my opinion there is a risk that future deaths will occur unless action is taken. In the circumstances it is my statutory duty to report to you.\\n\\nThe MATTERS OF CONCERN are as follows. –\\n\\n(1) Walter seems to have believed that as a pedestrian he had right of way, he may have been a bit confused having forgotten his wallet however the day before the collision be referred to the illuminated pole in the central refuge as a Belisha Beacon.\\n\\n(2) I heard that this is a busy crossing point, schoolchildren cross morning and evening for busses too and from school. There are also an increasing number of older people living in nearby developments.\\n\\n(3) I am concerned that without safety alterations further accidents and possible fatalities may occur. Is there a case for lights to be installed?'} \n",
      "\n",
      "\n",
      "And missing fields are: ['date of report', \"coroner's name\", 'area', 'receiver', 'investigation and inquest', 'circumstances of death', \"coroner's concerns\"]\n"
     ]
    }
   ],
   "source": [
    "from pfd_toolkit import PFDScraper, llm\n",
    "from dotenv import load_dotenv\n",
    "import os\n",
    "# Load OpenAI API key\n",
    "load_dotenv(\"api.env\")\n",
    "openai_api_key = os.getenv(\"OPENAI_API_KEY\")\n",
    "llm_client = llm.LLM(api_key=openai_api_key)\n",
    "\n",
    "# Run the scraper! :D\n",
    "scraper = PFDScraper(\n",
    "    llm=llm_client,\n",
    "    category=\"all\",\n",
    "    date_from=\"2024-01-10\",\n",
    "    date_to=\"2024-01-11\",\n",
    "    html_scraping=False,\n",
    "\n",
    "    pdf_fallback=False,\n",
    "    llm_fallback=True,\n",
    "    # docx_conversion=\"LibreOffice\", # Doesn't currently seem to work; need to debug.\n",
    "    include_time_stamp=False,\n",
    "    delay_range=None,\n",
    "    verbose=False,\n",
    ")\n",
    "scraper.scrape_reports()\n",
    "scraper.estimate_api_costs()"
   ]
  },
  {
   "cell_type": "code",
   "execution_count": 2,
   "metadata": {},
   "outputs": [],
   "source": [
    "%load_ext autoreload\n",
    "%autoreload 2"
   ]
  },
  {
   "cell_type": "code",
   "execution_count": 3,
   "metadata": {},
   "outputs": [
    {
     "data": {
      "text/html": [
       "<div>\n",
       "<style scoped>\n",
       "    .dataframe tbody tr th:only-of-type {\n",
       "        vertical-align: middle;\n",
       "    }\n",
       "\n",
       "    .dataframe tbody tr th {\n",
       "        vertical-align: top;\n",
       "    }\n",
       "\n",
       "    .dataframe thead th {\n",
       "        text-align: right;\n",
       "    }\n",
       "</style>\n",
       "<table border=\"1\" class=\"dataframe\">\n",
       "  <thead>\n",
       "    <tr style=\"text-align: right;\">\n",
       "      <th></th>\n",
       "      <th>URL</th>\n",
       "      <th>ID</th>\n",
       "      <th>Date</th>\n",
       "      <th>CoronerName</th>\n",
       "      <th>Area</th>\n",
       "      <th>Receiver</th>\n",
       "      <th>InvestigationAndInquest</th>\n",
       "      <th>CircumstancesOfDeath</th>\n",
       "      <th>MattersOfConcern</th>\n",
       "    </tr>\n",
       "  </thead>\n",
       "  <tbody>\n",
       "    <tr>\n",
       "      <th>0</th>\n",
       "      <td>https://www.judiciary.uk/prevention-of-future-...</td>\n",
       "      <td>N/A: Not found</td>\n",
       "      <td>08/01/2024</td>\n",
       "      <td>Karen HENDERSON</td>\n",
       "      <td>West Sussex, Brighton and Hove</td>\n",
       "      <td>1. Association of Anaesthetists Great Britain ...</td>\n",
       "      <td>On 7th January 2022 I resumed an investigation...</td>\n",
       "      <td>The conclusion of the jury at the Inquest prov...</td>\n",
       "      <td>During the course of the investigation my inqu...</td>\n",
       "    </tr>\n",
       "    <tr>\n",
       "      <th>1</th>\n",
       "      <td>https://www.judiciary.uk/prevention-of-future-...</td>\n",
       "      <td>N/A: Not found</td>\n",
       "      <td>4 January 2024</td>\n",
       "      <td>Ian Potter</td>\n",
       "      <td>Inner North London</td>\n",
       "      <td>Lee Rowley MP, Chief Executive [REDACTED]</td>\n",
       "      <td>On 13 December 2022, an investigation was comm...</td>\n",
       "      <td>(1) Mrs Faulkner rented a flat from her local ...</td>\n",
       "      <td>During the course of the inquest the evidence ...</td>\n",
       "    </tr>\n",
       "    <tr>\n",
       "      <th>2</th>\n",
       "      <td>https://www.judiciary.uk/prevention-of-future-...</td>\n",
       "      <td>N/A: Not found</td>\n",
       "      <td>28/12/2023</td>\n",
       "      <td>Victoria DAVIES</td>\n",
       "      <td>Cheshire</td>\n",
       "      <td>Department for Health and Social Care, Nationa...</td>\n",
       "      <td>On 17 November 2017 I commenced an investigati...</td>\n",
       "      <td>Adrian Gallagher had a history of mental healt...</td>\n",
       "      <td>During the course of the investigation my inqu...</td>\n",
       "    </tr>\n",
       "    <tr>\n",
       "      <th>3</th>\n",
       "      <td>https://www.judiciary.uk/prevention-of-future-...</td>\n",
       "      <td>N/A: Not found</td>\n",
       "      <td>8 January 2024</td>\n",
       "      <td>Dr Nicholas Shaw</td>\n",
       "      <td>Cumbria</td>\n",
       "      <td>[REDACTED]</td>\n",
       "      <td>On 20 December 2022 I commenced an investigati...</td>\n",
       "      <td>Walter Faulder BEM was an 88 year old gentlema...</td>\n",
       "      <td>During the course of the inquest the evidence ...</td>\n",
       "    </tr>\n",
       "  </tbody>\n",
       "</table>\n",
       "</div>"
      ],
      "text/plain": [
       "                                                 URL              ID  \\\n",
       "0  https://www.judiciary.uk/prevention-of-future-...  N/A: Not found   \n",
       "1  https://www.judiciary.uk/prevention-of-future-...  N/A: Not found   \n",
       "2  https://www.judiciary.uk/prevention-of-future-...  N/A: Not found   \n",
       "3  https://www.judiciary.uk/prevention-of-future-...  N/A: Not found   \n",
       "\n",
       "             Date       CoronerName                            Area  \\\n",
       "0      08/01/2024   Karen HENDERSON  West Sussex, Brighton and Hove   \n",
       "1  4 January 2024        Ian Potter              Inner North London   \n",
       "2      28/12/2023   Victoria DAVIES                        Cheshire   \n",
       "3  8 January 2024  Dr Nicholas Shaw                         Cumbria   \n",
       "\n",
       "                                            Receiver  \\\n",
       "0  1. Association of Anaesthetists Great Britain ...   \n",
       "1          Lee Rowley MP, Chief Executive [REDACTED]   \n",
       "2  Department for Health and Social Care, Nationa...   \n",
       "3                                         [REDACTED]   \n",
       "\n",
       "                             InvestigationAndInquest  \\\n",
       "0  On 7th January 2022 I resumed an investigation...   \n",
       "1  On 13 December 2022, an investigation was comm...   \n",
       "2  On 17 November 2017 I commenced an investigati...   \n",
       "3  On 20 December 2022 I commenced an investigati...   \n",
       "\n",
       "                                CircumstancesOfDeath  \\\n",
       "0  The conclusion of the jury at the Inquest prov...   \n",
       "1  (1) Mrs Faulkner rented a flat from her local ...   \n",
       "2  Adrian Gallagher had a history of mental healt...   \n",
       "3  Walter Faulder BEM was an 88 year old gentlema...   \n",
       "\n",
       "                                    MattersOfConcern  \n",
       "0  During the course of the investigation my inqu...  \n",
       "1  During the course of the inquest the evidence ...  \n",
       "2  During the course of the investigation my inqu...  \n",
       "3  During the course of the inquest the evidence ...  "
      ]
     },
     "execution_count": 3,
     "metadata": {},
     "output_type": "execute_result"
    }
   ],
   "source": [
    "scraper.reports"
   ]
  },
  {
   "cell_type": "code",
   "execution_count": 4,
   "metadata": {},
   "outputs": [],
   "source": [
    "sample_report = scraper.reports.iloc[0:1,:]"
   ]
  },
  {
   "cell_type": "code",
   "execution_count": 9,
   "metadata": {},
   "outputs": [
    {
     "name": "stdout",
     "output_type": "stream",
     "text": [
      "On 7th January 2022 I resumed an investigation into the death of David Bryan Moore sitting with a Jury. On 21st July 2022, the investigation was concluded:\n",
      "\n",
      "The medical cause of death given was:\n",
      "\n",
      "1a. Hypoxic ischaemic brain injury\n",
      "1b. Cardiac arrest\n",
      "1c. Dislodged tracheostomy tube and delayed replacement\n",
      "1d. Burns suffered in an industrial accident requiring a tracheostomy tube\n",
      "II. Obesity, Hypertension\n",
      "\n",
      "The jury determined:\n",
      "\n",
      "Mr Moore was a self-employed industrial electrician, employed on the 29th May 2021 to change a molded case circuit breaker (MCCB) at a property in Uxbridge. Mr Moore engineered the circuit to allow the front doors of the property to open. On doing this the metal plate divider between the MCCB’s made contact with the exposed live bus bars resulting in an electrical flashover. As a result, Mr Moore sustained burns covering 32 % of his body surface area.\n",
      "\n",
      "Mr Moore was transferred to St Mary’s Hospital where he was intubated, ventilated and had surgical release of burns in his upper arms to improve blood supply. Following this Mr Moore was transferred to the Queen Victoria Hospital, East Grinstead on the same day for further management of his burns.\n"
     ]
    }
   ],
   "source": [
    "print(sample_report.InvestigationAndInquest[0])"
   ]
  },
  {
   "cell_type": "code",
   "execution_count": 5,
   "metadata": {},
   "outputs": [
    {
     "name": "stderr",
     "output_type": "stream",
     "text": [
      "Running LLM Fallback: 100%|██████████| 1/1 [00:00<?, ?it/s]\n"
     ]
    }
   ],
   "source": [
    "scraper.verbose = True\n",
    "result = scraper.run_llm_fallback(reports_df=sample_report)"
   ]
  },
  {
   "cell_type": "code",
   "execution_count": 21,
   "metadata": {},
   "outputs": [
    {
     "data": {
      "text/html": [
       "<div>\n",
       "<style scoped>\n",
       "    .dataframe tbody tr th:only-of-type {\n",
       "        vertical-align: middle;\n",
       "    }\n",
       "\n",
       "    .dataframe tbody tr th {\n",
       "        vertical-align: top;\n",
       "    }\n",
       "\n",
       "    .dataframe thead th {\n",
       "        text-align: right;\n",
       "    }\n",
       "</style>\n",
       "<table border=\"1\" class=\"dataframe\">\n",
       "  <thead>\n",
       "    <tr style=\"text-align: right;\">\n",
       "      <th></th>\n",
       "      <th>URL</th>\n",
       "      <th>ID</th>\n",
       "      <th>Date</th>\n",
       "      <th>CoronerName</th>\n",
       "      <th>Area</th>\n",
       "      <th>Receiver</th>\n",
       "      <th>InvestigationAndInquest</th>\n",
       "      <th>CircumstancesOfDeath</th>\n",
       "      <th>MattersOfConcern</th>\n",
       "    </tr>\n",
       "  </thead>\n",
       "  <tbody>\n",
       "    <tr>\n",
       "      <th>0</th>\n",
       "      <td>https://www.judiciary.uk/prevention-of-future-...</td>\n",
       "      <td>N/A: Not found</td>\n",
       "      <td>28/12/2023</td>\n",
       "      <td>Victoria DAVIES</td>\n",
       "      <td>Cheshire</td>\n",
       "      <td>Department for Health and Social Care, Nationa...</td>\n",
       "      <td>On 17 November 2017 I commenced an investigati...</td>\n",
       "      <td>Adrian Gallagher had a history of mental healt...</td>\n",
       "      <td>During the course of the investigation my inqu...</td>\n",
       "    </tr>\n",
       "  </tbody>\n",
       "</table>\n",
       "</div>"
      ],
      "text/plain": [
       "                                                 URL              ID  \\\n",
       "0  https://www.judiciary.uk/prevention-of-future-...  N/A: Not found   \n",
       "\n",
       "         Date      CoronerName      Area  \\\n",
       "0  28/12/2023  Victoria DAVIES  Cheshire   \n",
       "\n",
       "                                            Receiver  \\\n",
       "0  Department for Health and Social Care, Nationa...   \n",
       "\n",
       "                             InvestigationAndInquest  \\\n",
       "0  On 17 November 2017 I commenced an investigati...   \n",
       "\n",
       "                                CircumstancesOfDeath  \\\n",
       "0  Adrian Gallagher had a history of mental healt...   \n",
       "\n",
       "                                    MattersOfConcern  \n",
       "0  During the course of the investigation my inqu...  "
      ]
     },
     "execution_count": 21,
     "metadata": {},
     "output_type": "execute_result"
    }
   ],
   "source": [
    "result"
   ]
  },
  {
   "cell_type": "code",
   "execution_count": null,
   "metadata": {},
   "outputs": [],
   "source": []
  }
 ],
 "metadata": {
  "kernelspec": {
   "display_name": ".venv",
   "language": "python",
   "name": "python3"
  },
  "language_info": {
   "codemirror_mode": {
    "name": "ipython",
    "version": 3
   },
   "file_extension": ".py",
   "mimetype": "text/x-python",
   "name": "python",
   "nbconvert_exporter": "python",
   "pygments_lexer": "ipython3",
   "version": "3.12.3"
  }
 },
 "nbformat": 4,
 "nbformat_minor": 2
}
