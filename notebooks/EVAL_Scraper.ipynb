{
 "cells": [
  {
   "cell_type": "markdown",
   "metadata": {},
   "source": [
    "# Evaluating the Scraper Module\n",
    "\n",
    "In this notebook, we evaluate various aspects of the Scraper module. This involves creating a ground truth dataset of 150 PFD reports. "
   ]
  },
  {
   "cell_type": "code",
   "execution_count": 1,
   "metadata": {},
   "outputs": [
    {
     "name": "stderr",
     "output_type": "stream",
     "text": [
      "WARNING:pfd_toolkit.scraper:Only HTML scraping is enabled. \n",
      "Consider enabling .pdf or LLM fallback for more complete data extraction.\n",
      "\n",
      "WARNING:pfd_toolkit.scraper:delay_range has been disabled. \n",
      "This will disable delays between requests. This may trigger anti-scraping measures by the host, leading to temporary or permanent IP bans. \n",
      "We recommend setting to (1,2).\n",
      "\n",
      "Fetching pages: 569 page(s) [03:18, 18.74 page(s)/s]INFO:pfd_toolkit.scraper:Total collected report links: 5661\n",
      "Scraping reports:  24%|██▍       | 1350/5661 [03:17<17:34,  4.09it/s]  INFO:pfd_toolkit.scraper:File https://www.judiciary.uk/wp-content/uploads/2023/03/John-Ibbotson-Prevention-of-future-deaths-report-2023-0093_Published.docx is not a .pdf (extension .docx)\n",
      "INFO:pfd_toolkit.scraper:docx_conversion is set to 'None'; skipping conversion!\n",
      "Scraping reports: 100%|██████████| 5661/5661 [16:27<00:00,  5.73it/s]  \n"
     ]
    },
    {
     "data": {
      "text/html": [
       "<div>\n",
       "<style scoped>\n",
       "    .dataframe tbody tr th:only-of-type {\n",
       "        vertical-align: middle;\n",
       "    }\n",
       "\n",
       "    .dataframe tbody tr th {\n",
       "        vertical-align: top;\n",
       "    }\n",
       "\n",
       "    .dataframe thead th {\n",
       "        text-align: right;\n",
       "    }\n",
       "</style>\n",
       "<table border=\"1\" class=\"dataframe\">\n",
       "  <thead>\n",
       "    <tr style=\"text-align: right;\">\n",
       "      <th></th>\n",
       "      <th>URL</th>\n",
       "      <th>ID</th>\n",
       "    </tr>\n",
       "  </thead>\n",
       "  <tbody>\n",
       "    <tr>\n",
       "      <th>0</th>\n",
       "      <td>https://www.judiciary.uk/prevention-of-future-...</td>\n",
       "      <td>2025-0189</td>\n",
       "    </tr>\n",
       "    <tr>\n",
       "      <th>1</th>\n",
       "      <td>https://www.judiciary.uk/prevention-of-future-...</td>\n",
       "      <td>2025-0185</td>\n",
       "    </tr>\n",
       "    <tr>\n",
       "      <th>2</th>\n",
       "      <td>https://www.judiciary.uk/prevention-of-future-...</td>\n",
       "      <td>2025-0182</td>\n",
       "    </tr>\n",
       "    <tr>\n",
       "      <th>3</th>\n",
       "      <td>https://www.judiciary.uk/prevention-of-future-...</td>\n",
       "      <td>2025-0188</td>\n",
       "    </tr>\n",
       "    <tr>\n",
       "      <th>4</th>\n",
       "      <td>https://www.judiciary.uk/prevention-of-future-...</td>\n",
       "      <td>2025-0178</td>\n",
       "    </tr>\n",
       "    <tr>\n",
       "      <th>...</th>\n",
       "      <td>...</td>\n",
       "      <td>...</td>\n",
       "    </tr>\n",
       "    <tr>\n",
       "      <th>5656</th>\n",
       "      <td>https://www.judiciary.uk/prevention-of-future-...</td>\n",
       "      <td>2013-0175</td>\n",
       "    </tr>\n",
       "    <tr>\n",
       "      <th>5657</th>\n",
       "      <td>https://www.judiciary.uk/prevention-of-future-...</td>\n",
       "      <td>2013-0194</td>\n",
       "    </tr>\n",
       "    <tr>\n",
       "      <th>5658</th>\n",
       "      <td>https://www.judiciary.uk/prevention-of-future-...</td>\n",
       "      <td>2013-0176</td>\n",
       "    </tr>\n",
       "    <tr>\n",
       "      <th>5659</th>\n",
       "      <td>https://www.judiciary.uk/prevention-of-future-...</td>\n",
       "      <td>2013-0178</td>\n",
       "    </tr>\n",
       "    <tr>\n",
       "      <th>5660</th>\n",
       "      <td>https://www.judiciary.uk/prevention-of-future-...</td>\n",
       "      <td>2013-0171</td>\n",
       "    </tr>\n",
       "  </tbody>\n",
       "</table>\n",
       "<p>5661 rows × 2 columns</p>\n",
       "</div>"
      ],
      "text/plain": [
       "                                                    URL         ID\n",
       "0     https://www.judiciary.uk/prevention-of-future-...  2025-0189\n",
       "1     https://www.judiciary.uk/prevention-of-future-...  2025-0185\n",
       "2     https://www.judiciary.uk/prevention-of-future-...  2025-0182\n",
       "3     https://www.judiciary.uk/prevention-of-future-...  2025-0188\n",
       "4     https://www.judiciary.uk/prevention-of-future-...  2025-0178\n",
       "...                                                 ...        ...\n",
       "5656  https://www.judiciary.uk/prevention-of-future-...  2013-0175\n",
       "5657  https://www.judiciary.uk/prevention-of-future-...  2013-0194\n",
       "5658  https://www.judiciary.uk/prevention-of-future-...  2013-0176\n",
       "5659  https://www.judiciary.uk/prevention-of-future-...  2013-0178\n",
       "5660  https://www.judiciary.uk/prevention-of-future-...  2013-0171\n",
       "\n",
       "[5661 rows x 2 columns]"
      ]
     },
     "execution_count": 1,
     "metadata": {},
     "output_type": "execute_result"
    }
   ],
   "source": [
    "from pfd_toolkit import PFDScraper, llm\n",
    "from dotenv import load_dotenv \n",
    "import os\n",
    "\n",
    "# Load OpenAI API key\n",
    "load_dotenv(\"api.env\")\n",
    "openai_api_key = os.getenv(\"OPENAI_API_KEY\")\n",
    "llm_client = llm.LLM(api_key=openai_api_key)\n",
    "\n",
    "# Initialise Scraper\n",
    "llm_scraper = PFDScraper(\n",
    "    llm = llm_client,\n",
    "    delay_range=None,\n",
    "    \n",
    "    # Only enable HTML scraping\n",
    "    html_scraping=True,\n",
    "    pdf_fallback=False,\n",
    "    llm_fallback=False,\n",
    "    \n",
    "    # Only include id and URL\n",
    "    include_id=True,\n",
    "    include_url=True,\n",
    "    \n",
    "    # ...everything else is ignored:\n",
    "    include_date=False,\n",
    "    include_coroner=False,\n",
    "    include_receiver=False,\n",
    "    include_area=False,\n",
    "    include_investigation=False,\n",
    "    include_circumstances=False,\n",
    "    include_concerns=False\n",
    ")\n",
    "\n",
    "llm_scraper.scrape_reports()\n",
    "llm_scraper.reports"
   ]
  },
  {
   "cell_type": "code",
   "execution_count": 13,
   "metadata": {},
   "outputs": [],
   "source": [
    "import pandas as pd\n",
    "\n",
    "reports = llm_scraper.reports\n",
    "reports.to_csv('../data/all_report_urls.csv')\n",
    "\n",
    "reports_sample = reports.sample(n=150, random_state=22052025).reset_index(drop=True)\n",
    "reports_sample.to_csv('../data/sample_report_urls.csv')"
   ]
  },
  {
   "cell_type": "markdown",
   "metadata": {},
   "source": [
    "(Between the above and below code being run, `sample_report_urls.csv` was manually edited with 'ground truth' text extraction and renamed as `ground_truth.csv`)."
   ]
  },
  {
   "cell_type": "markdown",
   "metadata": {},
   "source": []
  }
 ],
 "metadata": {
  "kernelspec": {
   "display_name": ".venv",
   "language": "python",
   "name": "python3"
  },
  "language_info": {
   "codemirror_mode": {
    "name": "ipython",
    "version": 3
   },
   "file_extension": ".py",
   "mimetype": "text/x-python",
   "name": "python",
   "nbconvert_exporter": "python",
   "pygments_lexer": "ipython3",
   "version": "3.12.3"
  }
 },
 "nbformat": 4,
 "nbformat_minor": 2
}
