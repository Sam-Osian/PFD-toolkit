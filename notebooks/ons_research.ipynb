{
 "cells": [
  {
   "cell_type": "markdown",
   "metadata": {},
   "source": [
    "## Automating ONS Research on Child Suicides\n",
    "\n",
    "In February 2025, the ONS published [research](https://www.ons.gov.uk/peoplepopulationandcommunity/healthandsocialcare/mentalhealth/bulletins/preventionoffuturedeathreportsforsuicideinchildreninenglandandwales/january2015tonovember2023) analysing:\n",
    "\n",
    "> Prevention of Future Death reports for suicide in children in England and Wales: January 2015 to November 2023\n",
    "\n",
    "Their study involved the manual identification and thematic coding of PFD reports relating to child suicides - a process known to be time-consuming and difficult to scale.\n",
    "\n",
    "This notebook evaluates the performance of PFD Toolkit in replicating and automating the ONS approach. By comparing automated outputs to the original manual research, we assess the toolkit’s accuracy, efficiency, and potential to accelerate large-scale, reproducible analysis of PFD reports."
   ]
  },
  {
   "cell_type": "code",
   "execution_count": 1,
   "metadata": {},
   "outputs": [],
   "source": [
    "# Keep track of notebook run time\n",
    "import time\n",
    "start_time = time.time()"
   ]
  },
  {
   "cell_type": "markdown",
   "metadata": {},
   "source": [
    "### Identifying the reports\n",
    "\n",
    "#### Loading all reports"
   ]
  },
  {
   "cell_type": "code",
   "execution_count": 2,
   "metadata": {},
   "outputs": [
    {
     "name": "stdout",
     "output_type": "stream",
     "text": [
      "In total, there were 3941 PFD reports published between January 2015 and November 2023\n"
     ]
    }
   ],
   "source": [
    "from pfd_toolkit import load_reports\n",
    "\n",
    "reports = load_reports(category='all',\n",
    "                    start_date=\"2015-01-01\",\n",
    "                    end_date=\"2023-11-01\")\n",
    "\n",
    "print(f\"In total, there were {len(reports)} PFD reports published between January 2015 and November 2023\")"
   ]
  },
  {
   "cell_type": "markdown",
   "metadata": {},
   "source": [
    "#### Create 'Screener' specification to filter reports\n",
    "\n",
    "**Note:** The ONS analysis defines a \"child\" as \"aged 18 years and under,\" with included cases ranging from 12 to 18 years old. While the standard UK definition of a child is \"under 18,\" for consistency we have adopted the ONS inclusion criteria.\n",
    "\n",
    "First, we need to set up the LLM and Screener modules...\n"
   ]
  },
  {
   "cell_type": "code",
   "execution_count": null,
   "metadata": {},
   "outputs": [],
   "source": [
    "from pfd_toolkit import LLM, Screener\n",
    "from dotenv import load_dotenv\n",
    "import os\n",
    "\n",
    "# Load OpenAI API key from local environment\n",
    "load_dotenv(\"api.env\")\n",
    "openai_api_key = os.getenv(\"OPENAI_API_KEY\")\n",
    "\n",
    "# Initialise LLM client\n",
    "llm_client = LLM(api_key=openai_api_key, \n",
    "                 max_workers=70)\n",
    "\n",
    "# Set up Screener\n",
    "\n",
    "user_query = \"\"\"\n",
    "Suicide deaths among children (i.e. 18 and younger **only**)\n",
    "\n",
    "Referring to the deceased as a \"young person\" alone should \n",
    "**not** quality. Referring to school alone is not enough,\n",
    "unless qualified (e.g. in Year 8). Referring to a parent \n",
    "alone should *not* qualify. Referring to past age but their\n",
    "current age being unclear should *not* qualify.\n",
    "\n",
    "\"\"\"\n",
    "\n",
    "child_suicide_screener = Screener(llm=llm_client,\n",
    "                                  reports=reports,\n",
    "                                  user_query=user_query,\n",
    "                                  match_leniency='strict',\n",
    "                                  include_date=True,\n",
    "                                  include_concerns=False\n",
    "                                  )"
   ]
  },
  {
   "cell_type": "markdown",
   "metadata": {},
   "source": [
    "This will generate a prompt to our LLM. We can see what this prompt looks like:"
   ]
  },
  {
   "cell_type": "code",
   "execution_count": 4,
   "metadata": {},
   "outputs": [
    {
     "data": {
      "text/plain": [
       "'\\n        \\nYou are an expert text classification assistant. Your task is to read\\nthe following excerpt from a Prevention of Future Death (PFD) report and\\ndecide whether it matches the user\\'s query.\\n\\nA query may refer to a theme, a specific detail, or require two or more \\nelements to be present (e.g. \"hospital-acquired infection deaths\" requires \\nevidence of **both** an infection and that it was acquired in hospital).\\n\\n**Instructions:**\\n- Only respond \\'Yes\\' if **all** elements of the user query are clearly present in the report.\\n- If any required element is missing or there is not enough information, respond \\'No\\'.\\n- Your response must be a JSON object in which \"matches_topic\" can be either \"Yes\" or \"No\".\\n\\n**User query:** \\'\\nSuicide deaths among children (i.e. 18 and younger **only**)\\n\\nReferring to the deceased as a \"young person\" alone should \\n**not** quality. Referring to school alone is not enough,\\nunless qualified (e.g. in Year 8). Referring to a parent \\nalone should *not* qualify. \\n\\n\\'\\n\\n\\nYour match leniency should be strict.\\nThis means that if you are not entirely sure whether a report\\nmatches the user query, you **must** respond \"No\".\\n\\nHere is the PFD report excerpt:\\n\\n{report_excerpt}'"
      ]
     },
     "execution_count": 4,
     "metadata": {},
     "output_type": "execute_result"
    }
   ],
   "source": [
    "child_suicide_screener._build_prompt_template(user_query)"
   ]
  },
  {
   "cell_type": "markdown",
   "metadata": {},
   "source": [
    "Now we can run the Screener and assign the results to `child_suicide_reports`."
   ]
  },
  {
   "cell_type": "code",
   "execution_count": 5,
   "metadata": {},
   "outputs": [
    {
     "data": {
      "application/vnd.jupyter.widget-view+json": {
       "model_id": "b19723cd898940ceb95e9b895ce67bc5",
       "version_major": 2,
       "version_minor": 0
      },
      "text/plain": [
       "Sending requests to the LLM (in parallel):   0%|          | 0/3941 [00:00<?, ?it/s]"
      ]
     },
     "metadata": {},
     "output_type": "display_data"
    },
    {
     "name": "stdout",
     "output_type": "stream",
     "text": [
      "From the initial 3941 reports, PFD Toolkit \n",
      "      identified 70 reports on child suicide\n",
      "CPU times: user 51.1 s, sys: 3.28 s, total: 54.3 s\n",
      "Wall time: 1min 3s\n"
     ]
    }
   ],
   "source": [
    "%%time\n",
    "\n",
    "child_suicide_reports = child_suicide_screener.screen_reports(user_query=user_query)\n",
    "\n",
    "print(\n",
    "    f\"\"\"From the initial {len(reports)} reports, PFD Toolkit \n",
    "      identified {len(child_suicide_reports)} reports on child suicide\"\"\"\n",
    ")"
   ]
  },
  {
   "cell_type": "markdown",
   "metadata": {},
   "source": [
    "This is significantly more reports than those identified by ONS (37 reports). "
   ]
  },
  {
   "cell_type": "code",
   "execution_count": 7,
   "metadata": {},
   "outputs": [],
   "source": [
    "child_suicide_reports.to_csv('../data/child_suicide.csv')"
   ]
  },
  {
   "cell_type": "markdown",
   "metadata": {},
   "source": []
  }
 ],
 "metadata": {
  "kernelspec": {
   "display_name": ".venv",
   "language": "python",
   "name": "python3"
  },
  "language_info": {
   "codemirror_mode": {
    "name": "ipython",
    "version": 3
   },
   "file_extension": ".py",
   "mimetype": "text/x-python",
   "name": "python",
   "nbconvert_exporter": "python",
   "pygments_lexer": "ipython3",
   "version": "3.12.3"
  }
 },
 "nbformat": 4,
 "nbformat_minor": 2
}
