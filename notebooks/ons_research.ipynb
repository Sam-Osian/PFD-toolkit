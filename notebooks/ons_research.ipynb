{
 "cells": [
  {
   "cell_type": "markdown",
   "metadata": {},
   "source": [
    "## Automating ONS Research on Child Suicides\n",
    "\n",
    "In February 2025, the ONS published [research](https://www.ons.gov.uk/peoplepopulationandcommunity/healthandsocialcare/mentalhealth/bulletins/preventionoffuturedeathreportsforsuicideinchildreninenglandandwales/january2015tonovember2023) analysing:\n",
    "\n",
    "> Prevention of Future Death reports for suicide in children in England and Wales: January 2015 to November 2023\n",
    "\n",
    "This notebook assesses how well the PFD Toolkit can replicate and automate the ONS’s manual approach.\n",
    "\n",
    "*Note: The dataset loaded via `load_reports` is an early development version based solely on HTML and PDF scraping, without the LLM fallback. I'm reluctant to do a full LLM scrape of all reports until I'm confident that its scraping logic is as good as it can be, due to associated costs. As a result, some reports may be missed from screening due to missing data.*"
   ]
  },
  {
   "cell_type": "code",
   "execution_count": 1,
   "metadata": {},
   "outputs": [],
   "source": [
    "# Time the entire workflow\n",
    "\n",
    "import time\n",
    "start = time.time()"
   ]
  },
  {
   "cell_type": "markdown",
   "metadata": {},
   "source": [
    "### Identifying the reports\n",
    "\n",
    "#### Loading all reports"
   ]
  },
  {
   "cell_type": "code",
   "execution_count": 2,
   "metadata": {},
   "outputs": [
    {
     "name": "stdout",
     "output_type": "stream",
     "text": [
      "In total, there were 3941 PFD reports published between January 2015 and November 2023\n"
     ]
    }
   ],
   "source": [
    "from pfd_toolkit import load_reports\n",
    "\n",
    "reports = load_reports(category='all',\n",
    "                    start_date=\"2015-01-01\",\n",
    "                    end_date=\"2023-11-01\")\n",
    "\n",
    "print(f\"In total, there were {len(reports)} PFD reports published between January 2015 and November 2023\")"
   ]
  },
  {
   "cell_type": "markdown",
   "metadata": {},
   "source": [
    "#### Create 'Screener' specification to filter reports\n",
    "\n",
    "**Note:** The ONS analysis defines a \"child\" as \"aged 18 years and under,\" with included cases ranging from 12 to 18 years old. While the standard UK definition of a child is *under* 18, for consistency we have adopted the ONS inclusion criteria.\n",
    "\n",
    "First, we need to set up the LLM and Screener modules...\n"
   ]
  },
  {
   "cell_type": "code",
   "execution_count": 3,
   "metadata": {},
   "outputs": [],
   "source": [
    "from pfd_toolkit import LLM, Screener\n",
    "from dotenv import load_dotenv\n",
    "import os\n",
    "\n",
    "# Load OpenAI API key from local environment\n",
    "load_dotenv(\"api.env\")\n",
    "openai_api_key = os.getenv(\"OPENAI_API_KEY\")\n",
    "\n",
    "# Initialise LLM client\n",
    "llm_client = LLM(api_key=openai_api_key, \n",
    "                 max_workers=8)\n",
    "\n",
    "# Set up Screener\n",
    "user_query = (\n",
    "\"Where the deceased is **explicitly** noted as being aged 18 or younger *AND* the death was due to suicide.\" \n",
    ")\n",
    "\n",
    "child_suicide_screener = Screener(llm=llm_client,\n",
    "                                  reports=reports,\n",
    "                                  user_query=user_query,\n",
    "                                  match_leniency=None,\n",
    "                                  include_concerns=False # ...don't need the concerns section for this task\n",
    "                                  )"
   ]
  },
  {
   "cell_type": "markdown",
   "metadata": {},
   "source": [
    "This will generate a prompt to our LLM. We can see what this prompt looks like:"
   ]
  },
  {
   "cell_type": "code",
   "execution_count": 4,
   "metadata": {},
   "outputs": [
    {
     "data": {
      "text/plain": [
       "\"You are an expert text classification assistant. Your task is to read the following excerpt from a Prevention of Future Death (PFD) report and decide whether it matches the user's query. \\n\\n**Instructions:** \\n- Only respond 'Yes' if **all** elements of the user query are clearly present in the report. \\n- If any required element is missing or there is not enough information, respond 'No'. \\n- You may not infer or make judgements; the evidence must be clear.- Make sure any user query related to the deceased is concerned with them *only*, not other persons.\\n- Your response must be a JSON object in which 'matches_topic' can be either 'Yes' or 'No'. \\n\\n**User query:** \\n'Where the deceased is **explicitly** noted as being aged 18 or younger *AND* the death was due to suicide.'\\nHere is the PFD report excerpt:\\n\\n{report_excerpt}\""
      ]
     },
     "execution_count": 4,
     "metadata": {},
     "output_type": "execute_result"
    }
   ],
   "source": [
    "child_suicide_screener._build_prompt_template(user_query)"
   ]
  },
  {
   "cell_type": "markdown",
   "metadata": {},
   "source": [
    "Now we can run the Screener and assign the results to `child_suicide_reports`."
   ]
  },
  {
   "cell_type": "code",
   "execution_count": 5,
   "metadata": {},
   "outputs": [
    {
     "data": {
      "application/vnd.jupyter.widget-view+json": {
       "model_id": "c31020a8cfdd4ec899d7559d5ec64366",
       "version_major": 2,
       "version_minor": 0
      },
      "text/plain": [
       "Sending requests to the LLM (in parallel):   0%|          | 0/3941 [00:00<?, ?it/s]"
      ]
     },
     "metadata": {},
     "output_type": "display_data"
    },
    {
     "name": "stdout",
     "output_type": "stream",
     "text": [
      "\n",
      "From the initial 3941 reports, PFD Toolkit identified 58 reports on child suicide\n"
     ]
    }
   ],
   "source": [
    "child_suicide_reports = child_suicide_screener.screen_reports()\n",
    "\n",
    "print(\n",
    "    f\"\"\"\\nFrom the initial {len(reports)} reports, PFD Toolkit identified {len(child_suicide_reports)} reports on child suicide\"\"\"\n",
    ")"
   ]
  },
  {
   "cell_type": "markdown",
   "metadata": {},
   "source": [
    "For context, the ONS identified 37 reports relevant reports."
   ]
  },
  {
   "cell_type": "markdown",
   "metadata": {},
   "source": [
    "---"
   ]
  },
  {
   "cell_type": "code",
   "execution_count": 6,
   "metadata": {},
   "outputs": [],
   "source": [
    "# Save & reload reports to keep progress...\n",
    "child_suicide_reports.to_csv('../data/child_suicide.csv')"
   ]
  },
  {
   "cell_type": "code",
   "execution_count": 7,
   "metadata": {},
   "outputs": [
    {
     "data": {
      "text/plain": [
       "58"
      ]
     },
     "execution_count": 7,
     "metadata": {},
     "output_type": "execute_result"
    }
   ],
   "source": [
    "import pandas as pd\n",
    "child_suicide_reports = pd.read_csv('../data/child_suicide.csv')\n",
    "len(child_suicide_reports)"
   ]
  },
  {
   "cell_type": "markdown",
   "metadata": {},
   "source": [
    "---"
   ]
  },
  {
   "cell_type": "markdown",
   "metadata": {},
   "source": [
    "### Categorise addressees\n",
    "\n",
    "We now need to reproduce the 'report by addressees' table produced by ONS.\n",
    "\n",
    "For this, we'll create a new screener object and run it multiple times. We'll also turn on 'annotate mode,' which doesn't filter reports but insted adds a classification column, which we can name and use to create a tabulation.\n",
    "\n",
    "The below code looks a bit ungraceful, but this will be addressed in future versions of Toolkit which will contain a Categorisation module."
   ]
  },
  {
   "cell_type": "code",
   "execution_count": 8,
   "metadata": {},
   "outputs": [
    {
     "data": {
      "application/vnd.jupyter.widget-view+json": {
       "model_id": "ee1021fc20c54d30922125b395bb5179",
       "version_major": 2,
       "version_minor": 0
      },
      "text/plain": [
       "Sending requests to the LLM (in parallel):   0%|          | 0/58 [00:00<?, ?it/s]"
      ]
     },
     "metadata": {},
     "output_type": "display_data"
    },
    {
     "data": {
      "application/vnd.jupyter.widget-view+json": {
       "model_id": "7c32ab8343f4480aaa4cfd9268aa8934",
       "version_major": 2,
       "version_minor": 0
      },
      "text/plain": [
       "Sending requests to the LLM (in parallel):   0%|          | 0/58 [00:00<?, ?it/s]"
      ]
     },
     "metadata": {},
     "output_type": "display_data"
    },
    {
     "data": {
      "application/vnd.jupyter.widget-view+json": {
       "model_id": "e08139c7ad1f45ddb86753f91b8f95b5",
       "version_major": 2,
       "version_minor": 0
      },
      "text/plain": [
       "Sending requests to the LLM (in parallel):   0%|          | 0/58 [00:00<?, ?it/s]"
      ]
     },
     "metadata": {},
     "output_type": "display_data"
    },
    {
     "data": {
      "application/vnd.jupyter.widget-view+json": {
       "model_id": "b9cc3b91f92b4ea2a6c7c6bec0256c75",
       "version_major": 2,
       "version_minor": 0
      },
      "text/plain": [
       "Sending requests to the LLM (in parallel):   0%|          | 0/58 [00:00<?, ?it/s]"
      ]
     },
     "metadata": {},
     "output_type": "display_data"
    },
    {
     "data": {
      "application/vnd.jupyter.widget-view+json": {
       "model_id": "49c8d1d2093b45a49578853dd35c562f",
       "version_major": 2,
       "version_minor": 0
      },
      "text/plain": [
       "Sending requests to the LLM (in parallel):   0%|          | 0/58 [00:00<?, ?it/s]"
      ]
     },
     "metadata": {},
     "output_type": "display_data"
    }
   ],
   "source": [
    "from pfd_toolkit import Screener, LLM\n",
    "from dotenv import load_dotenv\n",
    "import os\n",
    "\n",
    "# Load OpenAI API key from local environment\n",
    "load_dotenv(\"api.env\")\n",
    "openai_api_key = os.getenv(\"OPENAI_API_KEY\")\n",
    "\n",
    "# Initialise LLM client\n",
    "llm_client = LLM(api_key=openai_api_key, max_workers=8)\n",
    "\n",
    "addressee_screener = Screener(llm=llm_client,\n",
    "                         reports=child_suicide_reports,\n",
    "                         filter_df=False,\n",
    "                         # Hide long report sections...\n",
    "                         include_investigation=False,\n",
    "                         include_circumstances=False,\n",
    "                         include_concerns=False,\n",
    "                         \n",
    "                         # Show recevier section...\n",
    "                         include_receiver=True\n",
    "                         )\n",
    "\n",
    "child_suicide_reports = addressee_screener.screen_reports(\n",
    "    user_query=\"At least one recipient is government department or minister\",\n",
    "    result_col_name=\"sent_gov\"\n",
    ")\n",
    "\n",
    "child_suicide_reports = addressee_screener.screen_reports(\n",
    "    user_query=\"At least one recipient is NHS Trust, CCG or ICS\",\n",
    "    result_col_name=\"sent_nhs\",\n",
    ")\n",
    "\n",
    "child_suicide_reports = addressee_screener.screen_reports(\n",
    "    user_query=\"At least one recipient is an organisation with statutory responsibility for a profession (GMC, NMC, Royal Colleges, etc.)\",\n",
    "    result_col_name=\"sent_prof_body\",\n",
    ")\n",
    "\n",
    "child_suicide_reports = addressee_screener.screen_reports(\n",
    "    user_query=\"At least one recipient is a local council\",\n",
    "    result_col_name=\"sent_council\",\n",
    ")\n",
    "\n",
    "child_suicide_reports = addressee_screener.screen_reports(\n",
    "    user_query=(\n",
    "        \"At least one recipient is **none** of the following: \"\n",
    "        \"Government dept or minister, NHS Trust / CCG / ICS, professional body, local council\"\n",
    "    ),\n",
    "    result_col_name=\"sent_other\",\n",
    ")"
   ]
  },
  {
   "cell_type": "markdown",
   "metadata": {},
   "source": [
    "#### Create summary table"
   ]
  },
  {
   "cell_type": "code",
   "execution_count": 9,
   "metadata": {},
   "outputs": [
    {
     "name": "stdout",
     "output_type": "stream",
     "text": [
      "Summary Table of Report Addressees:\n",
      "                        Addressee  No of reports  %\n",
      "Government department or minister             26 45\n",
      "                 NHS Trust or CCG             28 48\n",
      "                Professional body              6 10\n",
      "                    Local council             12 21\n",
      "                            Other             21 36\n"
     ]
    }
   ],
   "source": [
    "import pandas as pd\n",
    "\n",
    "categories_config = [\n",
    "    {\"name\": \"Government department or minister\", \"col\": \"sent_gov\"},\n",
    "    {\"name\": \"NHS Trust or CCG\", \"col\": \"sent_nhs\"},\n",
    "    {\"name\": \"Professional body\", \"col\": \"sent_prof_body\"},\n",
    "    {\"name\": \"Local council\", \"col\": \"sent_council\"},\n",
    "    {\"name\": \"Other\", \"col\": \"sent_other\"},\n",
    "]\n",
    "\n",
    "total_reports = len(child_suicide_reports)\n",
    "\n",
    "summary_data = [\n",
    "    {\n",
    "        \"Addressee\": cat[\"name\"],\n",
    "        \"No of reports\": int(child_suicide_reports[cat[\"col\"]].sum()),\n",
    "        \"%\": int(\n",
    "            round((child_suicide_reports[cat[\"col\"]].sum() / total_reports) * 100)\n",
    "        ),\n",
    "    }\n",
    "    for cat in categories_config\n",
    "]\n",
    "\n",
    "summary_table_df = pd.DataFrame(summary_data)\n",
    "\n",
    "print(\"Summary Table of Report Addressees:\")\n",
    "print(summary_table_df.to_string(index=False))"
   ]
  },
  {
   "cell_type": "markdown",
   "metadata": {},
   "source": [
    "We can now compare this with ONS's own table...\n",
    "\n",
    "| Addressee                         | No of reports | %  |\n",
    "|----------------------------------|---------------|----|\n",
    "| Government department or minister| 15            | 41 |\n",
    "| NHS Trust or CCG                 | 15            | 41 |\n",
    "| Professional body                | 12            | 32 |\n",
    "| Local council                    | 8             | 22 |\n",
    "| Other                            | 10            | 27 |\n",
    "\n",
    "\n",
    "The big point of difference here is assignment to 'professional body'. In ONS's research, this reflected 32% of reports, but ours is only 10%. Despite us identifying a significantly higher number of reports, our absolute value of reports for this addressee category is lower than that of ONS (6 vs. 12, respectively.)\n",
    "\n",
    "In ONS's report and accompanying metadata spreadsheet, I was unable to find a definition of 'professional body'. So I used what I think is a reasonable definition:\n",
    "\n",
    "> \"An organisation with statutory responsibility for a profession (e.g. GMC, Nursing and Midwifery Council, Royal Colleges, etc.)\"\n",
    "\n",
    "In essence, it's possible that this difference is caused by a definitional mismatch."
   ]
  },
  {
   "cell_type": "markdown",
   "metadata": {},
   "source": [
    "### Categorise 'themes' from coroner concerns\n",
    "\n",
    "ONS coded the **coroner's concerns** sections into 6 primary themes: service provision, staffing & resourcing, communication, multiple services involved in care, accessing services, access to harmful content & environment. \n",
    "\n",
    "Each of these themes contains a number of sub-themes. \n",
    "\n",
    "...Sorry for this ugly code..."
   ]
  },
  {
   "cell_type": "code",
   "execution_count": 10,
   "metadata": {},
   "outputs": [
    {
     "data": {
      "application/vnd.jupyter.widget-view+json": {
       "model_id": "a43b4dfdf7bc4c369f38241883255935",
       "version_major": 2,
       "version_minor": 0
      },
      "text/plain": [
       "Sending requests to the LLM (in parallel):   0%|          | 0/58 [00:00<?, ?it/s]"
      ]
     },
     "metadata": {},
     "output_type": "display_data"
    },
    {
     "data": {
      "application/vnd.jupyter.widget-view+json": {
       "model_id": "c0e05e93a88c479e8c1ae56107b8577c",
       "version_major": 2,
       "version_minor": 0
      },
      "text/plain": [
       "Sending requests to the LLM (in parallel):   0%|          | 0/58 [00:00<?, ?it/s]"
      ]
     },
     "metadata": {},
     "output_type": "display_data"
    },
    {
     "data": {
      "application/vnd.jupyter.widget-view+json": {
       "model_id": "5a681993b6e24745ae66569d62f7f78f",
       "version_major": 2,
       "version_minor": 0
      },
      "text/plain": [
       "Sending requests to the LLM (in parallel):   0%|          | 0/58 [00:00<?, ?it/s]"
      ]
     },
     "metadata": {},
     "output_type": "display_data"
    },
    {
     "data": {
      "application/vnd.jupyter.widget-view+json": {
       "model_id": "01b87415168f47a3a462899bd822dc87",
       "version_major": 2,
       "version_minor": 0
      },
      "text/plain": [
       "Sending requests to the LLM (in parallel):   0%|          | 0/58 [00:00<?, ?it/s]"
      ]
     },
     "metadata": {},
     "output_type": "display_data"
    },
    {
     "data": {
      "application/vnd.jupyter.widget-view+json": {
       "model_id": "b572f4e619d64da0af691a4153f1375e",
       "version_major": 2,
       "version_minor": 0
      },
      "text/plain": [
       "Sending requests to the LLM (in parallel):   0%|          | 0/58 [00:00<?, ?it/s]"
      ]
     },
     "metadata": {},
     "output_type": "display_data"
    },
    {
     "data": {
      "application/vnd.jupyter.widget-view+json": {
       "model_id": "0d3fb394c81f4d1cbad1d5c79093e795",
       "version_major": 2,
       "version_minor": 0
      },
      "text/plain": [
       "Sending requests to the LLM (in parallel):   0%|          | 0/58 [00:00<?, ?it/s]"
      ]
     },
     "metadata": {},
     "output_type": "display_data"
    },
    {
     "data": {
      "application/vnd.jupyter.widget-view+json": {
       "model_id": "c9291cd705474b06b16e49205961832e",
       "version_major": 2,
       "version_minor": 0
      },
      "text/plain": [
       "Sending requests to the LLM (in parallel):   0%|          | 0/58 [00:00<?, ?it/s]"
      ]
     },
     "metadata": {},
     "output_type": "display_data"
    },
    {
     "data": {
      "application/vnd.jupyter.widget-view+json": {
       "model_id": "fae12bf7d9b4427e8ef654ec4e7a4623",
       "version_major": 2,
       "version_minor": 0
      },
      "text/plain": [
       "Sending requests to the LLM (in parallel):   0%|          | 0/58 [00:00<?, ?it/s]"
      ]
     },
     "metadata": {},
     "output_type": "display_data"
    },
    {
     "data": {
      "application/vnd.jupyter.widget-view+json": {
       "model_id": "b112d580771c47e482b9a1b701472b84",
       "version_major": 2,
       "version_minor": 0
      },
      "text/plain": [
       "Sending requests to the LLM (in parallel):   0%|          | 0/58 [00:00<?, ?it/s]"
      ]
     },
     "metadata": {},
     "output_type": "display_data"
    },
    {
     "data": {
      "application/vnd.jupyter.widget-view+json": {
       "model_id": "f6fc2a0a3f7749788ab17d1d39e2b575",
       "version_major": 2,
       "version_minor": 0
      },
      "text/plain": [
       "Sending requests to the LLM (in parallel):   0%|          | 0/58 [00:00<?, ?it/s]"
      ]
     },
     "metadata": {},
     "output_type": "display_data"
    },
    {
     "data": {
      "application/vnd.jupyter.widget-view+json": {
       "model_id": "3cb3e112e44345f0aa750e38f7e340f5",
       "version_major": 2,
       "version_minor": 0
      },
      "text/plain": [
       "Sending requests to the LLM (in parallel):   0%|          | 0/58 [00:00<?, ?it/s]"
      ]
     },
     "metadata": {},
     "output_type": "display_data"
    },
    {
     "data": {
      "application/vnd.jupyter.widget-view+json": {
       "model_id": "daa614cc9e234155aa4d05949ba80e48",
       "version_major": 2,
       "version_minor": 0
      },
      "text/plain": [
       "Sending requests to the LLM (in parallel):   0%|          | 0/58 [00:00<?, ?it/s]"
      ]
     },
     "metadata": {},
     "output_type": "display_data"
    },
    {
     "data": {
      "application/vnd.jupyter.widget-view+json": {
       "model_id": "acaaafcb056e457f99554376fd64b3bc",
       "version_major": 2,
       "version_minor": 0
      },
      "text/plain": [
       "Sending requests to the LLM (in parallel):   0%|          | 0/58 [00:00<?, ?it/s]"
      ]
     },
     "metadata": {},
     "output_type": "display_data"
    },
    {
     "data": {
      "application/vnd.jupyter.widget-view+json": {
       "model_id": "dbe6753f50794de2a5eee9965bb80fcc",
       "version_major": 2,
       "version_minor": 0
      },
      "text/plain": [
       "Sending requests to the LLM (in parallel):   0%|          | 0/58 [00:00<?, ?it/s]"
      ]
     },
     "metadata": {},
     "output_type": "display_data"
    },
    {
     "data": {
      "application/vnd.jupyter.widget-view+json": {
       "model_id": "96ba8fb42bf84975b0c263da009ed76b",
       "version_major": 2,
       "version_minor": 0
      },
      "text/plain": [
       "Sending requests to the LLM (in parallel):   0%|          | 0/58 [00:00<?, ?it/s]"
      ]
     },
     "metadata": {},
     "output_type": "display_data"
    },
    {
     "data": {
      "application/vnd.jupyter.widget-view+json": {
       "model_id": "7944c5bbb6764ae4b089b50c97a5733b",
       "version_major": 2,
       "version_minor": 0
      },
      "text/plain": [
       "Sending requests to the LLM (in parallel):   0%|          | 0/58 [00:00<?, ?it/s]"
      ]
     },
     "metadata": {},
     "output_type": "display_data"
    },
    {
     "data": {
      "application/vnd.jupyter.widget-view+json": {
       "model_id": "11701b4b880048eb82568a39c3bd8531",
       "version_major": 2,
       "version_minor": 0
      },
      "text/plain": [
       "Sending requests to the LLM (in parallel):   0%|          | 0/58 [00:00<?, ?it/s]"
      ]
     },
     "metadata": {},
     "output_type": "display_data"
    },
    {
     "data": {
      "application/vnd.jupyter.widget-view+json": {
       "model_id": "276a057a6f9642bcad87a4a5ff7428f5",
       "version_major": 2,
       "version_minor": 0
      },
      "text/plain": [
       "Sending requests to the LLM (in parallel):   0%|          | 0/58 [00:00<?, ?it/s]"
      ]
     },
     "metadata": {},
     "output_type": "display_data"
    },
    {
     "data": {
      "application/vnd.jupyter.widget-view+json": {
       "model_id": "37cf2cdbb0a843e389c2948381bad9f1",
       "version_major": 2,
       "version_minor": 0
      },
      "text/plain": [
       "Sending requests to the LLM (in parallel):   0%|          | 0/58 [00:00<?, ?it/s]"
      ]
     },
     "metadata": {},
     "output_type": "display_data"
    },
    {
     "data": {
      "application/vnd.jupyter.widget-view+json": {
       "model_id": "9a5b0d5241314a9ea6dd593f9b116614",
       "version_major": 2,
       "version_minor": 0
      },
      "text/plain": [
       "Sending requests to the LLM (in parallel):   0%|          | 0/58 [00:00<?, ?it/s]"
      ]
     },
     "metadata": {},
     "output_type": "display_data"
    },
    {
     "data": {
      "application/vnd.jupyter.widget-view+json": {
       "model_id": "1b4e13a9081c4177aa1b8129ac268291",
       "version_major": 2,
       "version_minor": 0
      },
      "text/plain": [
       "Sending requests to the LLM (in parallel):   0%|          | 0/58 [00:00<?, ?it/s]"
      ]
     },
     "metadata": {},
     "output_type": "display_data"
    },
    {
     "data": {
      "application/vnd.jupyter.widget-view+json": {
       "model_id": "f308b46395254e329c5ca15db4c82303",
       "version_major": 2,
       "version_minor": 0
      },
      "text/plain": [
       "Sending requests to the LLM (in parallel):   0%|          | 0/58 [00:00<?, ?it/s]"
      ]
     },
     "metadata": {},
     "output_type": "display_data"
    },
    {
     "data": {
      "application/vnd.jupyter.widget-view+json": {
       "model_id": "172ff884781548cfbc1fabf5a558ecc0",
       "version_major": 2,
       "version_minor": 0
      },
      "text/plain": [
       "Sending requests to the LLM (in parallel):   0%|          | 0/58 [00:00<?, ?it/s]"
      ]
     },
     "metadata": {},
     "output_type": "display_data"
    }
   ],
   "source": [
    "theme_screener = Screener(\n",
    "    llm=llm_client,\n",
    "    reports=child_suicide_reports,\n",
    "    match_leniency=None,\n",
    "    filter_df=False,\n",
    "    # We only need the Concerns section\n",
    "    include_investigation=False,\n",
    "    include_circumstances=False,\n",
    "    include_concerns=True,\n",
    ")\n",
    "\n",
    "# ── Service Provision ──────────────────────────────────────────────────────────\n",
    "child_suicide_reports = theme_screener.screen_reports(\n",
    "    user_query=\"Standard operating procedures (e.g. note taking, monitoring, observations) don't exist, are unclear, or not followed correctly\",\n",
    "    result_col_name=\"sp_sop_inadequate\",\n",
    ")\n",
    "child_suicide_reports = theme_screener.screen_reports(\n",
    "    user_query=\"Specialist services unavailable or insufficient (e.g. issues with crisis teams, urgent inpatient beds, special educational needs, autism support, deprioritised services, etc.)\",\n",
    "    result_col_name=\"sp_specialist_services\",\n",
    ")\n",
    "child_suicide_reports = theme_screener.screen_reports(\n",
    "    user_query=\"Risk assessment documents not completed, assessed inadequately, not updated, or not communicated\",\n",
    "    result_col_name=\"sp_risk_assessment\",\n",
    ")\n",
    "child_suicide_reports = theme_screener.screen_reports(\n",
    "    user_query=\"Discharge without review or liaison, self-discharge when detention may be required, poor communication of care requirements to community teams, uncoordinated post-discharge care, inadequate care packages, etc.\",\n",
    "    result_col_name=\"sp_discharge\",\n",
    ")\n",
    "child_suicide_reports = theme_screener.screen_reports(\n",
    "    user_query=\"Delayed diagnosis, misdiagnosis, lack of caregiver support for a specific diagnosis, lack of specialist diagnostic training, etc.\",\n",
    "    result_col_name=\"sp_diagnostics\",\n",
    ")\n",
    "\n",
    "# ── Staffing & Resourcing ──────────────────────────────────────────────────────\n",
    "child_suicide_reports = theme_screener.screen_reports(\n",
    "    user_query=\"Inadequate staff knowledge of suicide-prevention processes, missing grab bags or anti-ligature tools, staff not following procedures, training gaps, etc.\",\n",
    "    result_col_name=\"sr_training\",\n",
    ")\n",
    "child_suicide_reports = theme_screener.screen_reports(\n",
    "    user_query=\"Staff not appropriately qualified, inexperienced case worker assigned, or other inadequate staffing levels\",\n",
    "    result_col_name=\"sr_inadequate_staffing\",\n",
    ")\n",
    "child_suicide_reports = theme_screener.screen_reports(\n",
    "    user_query=\"Lack of funding to CAMHS services etc., preventing recruitment or provision of specialist services\",\n",
    "    result_col_name=\"sr_funding\",\n",
    ")\n",
    "child_suicide_reports = theme_screener.screen_reports(\n",
    "    user_query=\"Unable to recruit specialist staff or retain an adequate number of staff\",\n",
    "    result_col_name=\"sr_recruitment_retention\",\n",
    ")\n",
    "\n",
    "# ── Communication ──────────────────────────────────────────────────────────────\n",
    "child_suicide_reports = theme_screener.screen_reports(\n",
    "    user_query=\"Lack of communication between CAMHS and foster or care services or schools, or information sharing between services not possible or not conducted\",\n",
    "    result_col_name=\"comm_between_services\",\n",
    ")\n",
    "child_suicide_reports = theme_screener.screen_reports(\n",
    "    user_query=\"Lack of communication from CAMHS with child and/or parent, including insufficient family involvement, support or signposting\",\n",
    "    result_col_name=\"comm_patient_family\",\n",
    ")\n",
    "child_suicide_reports = theme_screener.screen_reports(\n",
    "    user_query=\"Instances where professionals did not communicate with parents or caregivers, resulting in missed opportunities to intervene\",\n",
    "    result_col_name=\"comm_confidentiality_risk\",\n",
    ")\n",
    "child_suicide_reports = theme_screener.screen_reports(\n",
    "    user_query=\"Inadequate communication of policies to staff, inadequate note keeping or record sharing, unclear responsibility for care coordination within a service\",\n",
    "    result_col_name=\"comm_within_services\",\n",
    ")\n",
    "\n",
    "# ── Multiple Services Involved in Care ─────────────────────────────────────────\n",
    "child_suicide_reports = theme_screener.screen_reports(\n",
    "    user_query=\"Care coordinator not assigned or unclear responsibility for coordinating care needs across multiple services\",\n",
    "    result_col_name=\"msic_integration_care\",\n",
    ")\n",
    "child_suicide_reports = theme_screener.screen_reports(\n",
    "    user_query=\"Lack of social services involvement, no social worker, inadequate safeguarding checks, lack of specialist support in schools, or missing school safety plan\",\n",
    "    result_col_name=\"msic_local_authority\",\n",
    ")\n",
    "child_suicide_reports = theme_screener.screen_reports(\n",
    "    user_query=\"Lack of support transitioning from CAMHS to adult services or unclear guidance for 16–18-year-olds\",\n",
    "    result_col_name=\"msic_transition_camhs\",\n",
    ")\n",
    "\n",
    "# ── Accessing Services ─────────────────────────────────────────────────────────\n",
    "child_suicide_reports = theme_screener.screen_reports(\n",
    "    user_query=\"Delay in GP or CAMHS referrals, CAMHS picking up referral, offering appointments, excessive waiting times leading to inappropriate referral, or COVID-19 related delays\",\n",
    "    result_col_name=\"as_delays_waiting\",\n",
    ")\n",
    "child_suicide_reports = theme_screener.screen_reports(\n",
    "    user_query=\"Referral rejected due to waiting times, lack of staff, inadequate risk assessment, or complex needs not met by CAMHS\",\n",
    "    result_col_name=\"as_referral_rejected\",\n",
    ")\n",
    "child_suicide_reports = theme_screener.screen_reports(\n",
    "    user_query=\"Inadequate contact with child or parent regarding referral, or patient refusal to engage followed by insufficient follow-up\",\n",
    "    result_col_name=\"as_patient_engagement\",\n",
    ")\n",
    "\n",
    "# ── Access to Harmful Content & Environments ───────────────────────────────────\n",
    "child_suicide_reports = theme_screener.screen_reports(\n",
    "    user_query=\"Lack of internet safeguarding in school or failure of websites or social media to block harmful content\",\n",
    "    result_col_name=\"ahce_internet\",\n",
    ")\n",
    "child_suicide_reports = theme_screener.screen_reports(\n",
    "    user_query=\"Sensitive questions or material presented to a child without adequate follow-up, adult support, warnings, or consideration of safety\",\n",
    "    result_col_name=\"ahce_safeguarding_sensitive\",\n",
    ")\n",
    "child_suicide_reports = theme_screener.screen_reports(\n",
    "    user_query=\"Access to items that can be used to harm or ligature, or access to alcohol, drugs, or substances where safety concerns are known\",\n",
    "    result_col_name=\"ahce_harmful_items\",\n",
    ")\n",
    "child_suicide_reports = theme_screener.screen_reports(\n",
    "    user_query=\"Ability to access railway environments where access should be prevented, such as inadequate fencing\",\n",
    "    result_col_name=\"ahce_trainline\",\n",
    ")"
   ]
  },
  {
   "cell_type": "markdown",
   "metadata": {},
   "source": [
    "#### Create theme tables"
   ]
  },
  {
   "cell_type": "code",
   "execution_count": 11,
   "metadata": {},
   "outputs": [
    {
     "name": "stdout",
     "output_type": "stream",
     "text": [
      "\n",
      "Primary theme: Service provision\n",
      "                                                        Sub-theme  Number of reports\n",
      "Standard operating procedures/ processes not followed or adequate                 21\n",
      "                       Specialist services (crisis, autism, beds)                 29\n",
      "                                                  Risk assessment                 14\n",
      "                                          Discharge from services                  2\n",
      "                                                      Diagnostics                 16\n",
      "\n",
      "---\n",
      "\n",
      "Primary theme: Staffing and resourcing\n",
      "\n",
      "                Sub-theme  Number of reports\n",
      "                 Training                  5\n",
      "      Inadequate staffing                 16\n",
      "                  Funding                  9\n",
      "Recruitment and retention                  5\n",
      "\n",
      "---\n",
      "\n",
      "Primary theme: Communication\n",
      "\n",
      "                            Sub-theme  Number of reports\n",
      "                     Between services                 15\n",
      "              With patient and family                  6\n",
      "Confidentiality risk not communicated                 14\n",
      "                      Within services                 27\n",
      "\n",
      "---\n",
      "\n",
      "Primary theme: Multiple services involved in care\n",
      "\n",
      "                                     Sub-theme  Number of reports\n",
      "                           Integration of care                  6\n",
      "Local Authority (incl child services, schools)                 10\n",
      "                         Transition from CAMHS                  7\n",
      "\n",
      "---\n",
      "\n",
      "Primary theme: Accessing services\n",
      "\n",
      "                            Sub-theme  Number of reports\n",
      "Delays in referrals and waiting times                 12\n",
      "                    Referral rejected                  8\n",
      "                   Patient engagement                 12\n",
      "\n",
      "---\n",
      "\n",
      "Primary theme: Access to harmful content and environment\n",
      "\n",
      "                           Sub-theme  Number of reports\n",
      "                            Internet                  4\n",
      "Safeguarding from sensitive material                  4\n",
      "           Harmful items/ substances                  6\n",
      "                           Trainline                  2\n"
     ]
    }
   ],
   "source": [
    "# 1. Service provision\n",
    "print(\"\\nPrimary theme: Service provision\")\n",
    "service_provision_config = [\n",
    "    {\n",
    "        \"name\": \"Standard operating procedures/ processes not followed or adequate\",\n",
    "        \"col\": \"sp_sop_inadequate\",\n",
    "    },\n",
    "    {\n",
    "        \"name\": \"Specialist services (crisis, autism, beds)\",\n",
    "        \"col\": \"sp_specialist_services\",\n",
    "    },\n",
    "    {\"name\": \"Risk assessment\", \"col\": \"sp_risk_assessment\"},\n",
    "    {\"name\": \"Discharge from services\", \"col\": \"sp_discharge\"},\n",
    "    {\"name\": \"Diagnostics\", \"col\": \"sp_diagnostics\"},\n",
    "]\n",
    "service_provision_data = [\n",
    "    {\n",
    "        \"Sub-theme\": theme[\"name\"],\n",
    "        \"Number of reports\": int(child_suicide_reports[theme[\"col\"]].sum()),\n",
    "    }\n",
    "    for theme in service_provision_config\n",
    "]\n",
    "service_provision_df = pd.DataFrame(service_provision_data)\n",
    "print(service_provision_df.to_string(index=False))\n",
    "\n",
    "# 2. Staffing and resourcing \n",
    "print(\"\\n---\\n\\nPrimary theme: Staffing and resourcing\\n\")\n",
    "staffing_resourcing_config = [\n",
    "    {\"name\": \"Training\", \"col\": \"sr_training\"},\n",
    "    {\"name\": \"Inadequate staffing\", \"col\": \"sr_inadequate_staffing\"},\n",
    "    {\"name\": \"Funding\", \"col\": \"sr_funding\"},\n",
    "    {\"name\": \"Recruitment and retention\", \"col\": \"sr_recruitment_retention\"},\n",
    "]\n",
    "staffing_resourcing_data = [\n",
    "    {\n",
    "        \"Sub-theme\": theme[\"name\"],\n",
    "        \"Number of reports\": int(child_suicide_reports[theme[\"col\"]].sum()),\n",
    "    }\n",
    "    for theme in staffing_resourcing_config\n",
    "]\n",
    "staffing_resourcing_df = pd.DataFrame(staffing_resourcing_data)\n",
    "print(staffing_resourcing_df.to_string(index=False))\n",
    "\n",
    "# 3. Communication\n",
    "print(\"\\n---\\n\\nPrimary theme: Communication\\n\")\n",
    "communication_config = [\n",
    "    {\"name\": \"Between services\", \"col\": \"comm_between_services\"},\n",
    "    {\"name\": \"With patient and family\", \"col\": \"comm_patient_family\"},\n",
    "    {\n",
    "        \"name\": \"Confidentiality risk not communicated\",\n",
    "        \"col\": \"comm_confidentiality_risk\",\n",
    "    },\n",
    "    {\"name\": \"Within services\", \"col\": \"comm_within_services\"},\n",
    "]\n",
    "communication_data = [\n",
    "    {\n",
    "        \"Sub-theme\": theme[\"name\"],\n",
    "        \"Number of reports\": int(child_suicide_reports[theme[\"col\"]].sum()),\n",
    "    }\n",
    "    for theme in communication_config\n",
    "]\n",
    "communication_df = pd.DataFrame(communication_data)\n",
    "print(communication_df.to_string(index=False))\n",
    "\n",
    "# 4. Multiple services involved in care\n",
    "print(\"\\n---\\n\\nPrimary theme: Multiple services involved in care\\n\")\n",
    "multi_services_config = [\n",
    "    {\"name\": \"Integration of care\", \"col\": \"msic_integration_care\"},\n",
    "    {\n",
    "        \"name\": \"Local Authority (incl child services, schools)\",\n",
    "        \"col\": \"msic_local_authority\",\n",
    "    },\n",
    "    {\"name\": \"Transition from CAMHS\", \"col\": \"msic_transition_camhs\"},\n",
    "]\n",
    "multi_services_data = [\n",
    "    {\n",
    "        \"Sub-theme\": theme[\"name\"],\n",
    "        \"Number of reports\": int(child_suicide_reports[theme[\"col\"]].sum()),\n",
    "    }\n",
    "    for theme in multi_services_config\n",
    "]\n",
    "multi_services_df = pd.DataFrame(multi_services_data)\n",
    "print(multi_services_df.to_string(index=False))\n",
    "\n",
    "# 5. Accessing services \n",
    "print(\"\\n---\\n\\nPrimary theme: Accessing services\\n\")\n",
    "accessing_services_config = [\n",
    "    {\"name\": \"Delays in referrals and waiting times\", \"col\": \"as_delays_waiting\"},\n",
    "    {\"name\": \"Referral rejected\", \"col\": \"as_referral_rejected\"},\n",
    "    {\"name\": \"Patient engagement\", \"col\": \"as_patient_engagement\"},\n",
    "]\n",
    "accessing_services_data = [\n",
    "    {\n",
    "        \"Sub-theme\": theme[\"name\"],\n",
    "        \"Number of reports\": int(child_suicide_reports[theme[\"col\"]].sum()),\n",
    "    }\n",
    "    for theme in accessing_services_config\n",
    "]\n",
    "accessing_services_df = pd.DataFrame(accessing_services_data)\n",
    "print(accessing_services_df.to_string(index=False))\n",
    "\n",
    "# 6. Access to harmful content and environment\n",
    "print(\"\\n---\\n\\nPrimary theme: Access to harmful content and environment\\n\")\n",
    "harmful_content_config = [\n",
    "    {\"name\": \"Internet\", \"col\": \"ahce_internet\"},\n",
    "    {\n",
    "        \"name\": \"Safeguarding from sensitive material\",\n",
    "        \"col\": \"ahce_safeguarding_sensitive\",\n",
    "    },\n",
    "    {\"name\": \"Harmful items/ substances\", \"col\": \"ahce_harmful_items\"},\n",
    "    {\"name\": \"Trainline\", \"col\": \"ahce_trainline\"},\n",
    "]\n",
    "harmful_content_data = [\n",
    "    {\n",
    "        \"Sub-theme\": theme[\"name\"],\n",
    "        \"Number of reports\": int(child_suicide_reports[theme[\"col\"]].sum()),\n",
    "    }\n",
    "    for theme in harmful_content_config\n",
    "]\n",
    "harmful_content_df = pd.DataFrame(harmful_content_data)\n",
    "print(harmful_content_df.to_string(index=False))"
   ]
  },
  {
   "cell_type": "code",
   "execution_count": 12,
   "metadata": {},
   "outputs": [],
   "source": [
    "child_suicide_reports.to_csv('../data/child_suicide_tagged.csv')"
   ]
  },
  {
   "cell_type": "markdown",
   "metadata": {},
   "source": [
    "### Check workflow runtime"
   ]
  },
  {
   "cell_type": "code",
   "execution_count": 13,
   "metadata": {},
   "outputs": [
    {
     "name": "stdout",
     "output_type": "stream",
     "text": [
      "Elapsed time: 8m 55s\n"
     ]
    }
   ],
   "source": [
    "end = time.time()\n",
    "\n",
    "elapsed_seconds = int(end - start)\n",
    "\n",
    "minutes, seconds = divmod(elapsed_seconds, 60)\n",
    "print(f\"Elapsed time: {minutes}m {seconds}s\")"
   ]
  }
 ],
 "metadata": {
  "kernelspec": {
   "display_name": ".venv",
   "language": "python",
   "name": "python3"
  },
  "language_info": {
   "codemirror_mode": {
    "name": "ipython",
    "version": 3
   },
   "file_extension": ".py",
   "mimetype": "text/x-python",
   "name": "python",
   "nbconvert_exporter": "python",
   "pygments_lexer": "ipython3",
   "version": "3.12.3"
  }
 },
 "nbformat": 4,
 "nbformat_minor": 2
}
