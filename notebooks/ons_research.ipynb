{
 "cells": [
  {
   "cell_type": "markdown",
   "metadata": {},
   "source": [
    "## Automating ONS Research on Child Suicides\n",
    "\n",
    "In February 2025, the ONS published [research](https://www.ons.gov.uk/peoplepopulationandcommunity/healthandsocialcare/mentalhealth/bulletins/preventionoffuturedeathreportsforsuicideinchildreninenglandandwales/january2015tonovember2023) analysing:\n",
    "\n",
    "> Prevention of Future Death reports for suicide in children in England and Wales: January 2015 to November 2023\n",
    "\n",
    "This notebook assesses how well the PFD Toolkit can replicate and automate the ONS’s manual approach.\n",
    "\n",
    "*Note: The dataset loaded via `load_reports` is an early development version based solely on HTML and PDF scraping, without the LLM fallback. I'm reluctant to do a full LLM scrape of all reports until I'm confident that its scraping logic is as good as it can be, due to associated costs. As a result, some reports may be missed from screening due to missing data.*"
   ]
  },
  {
   "cell_type": "code",
   "execution_count": null,
   "metadata": {},
   "outputs": [],
   "source": [
    "# Time the entire workflow\n",
    "\n",
    "import time\n",
    "start = time.time()"
   ]
  },
  {
   "cell_type": "markdown",
   "metadata": {},
   "source": [
    "### Identifying the reports\n",
    "\n",
    "#### Loading all reports"
   ]
  },
  {
   "cell_type": "code",
   "execution_count": null,
   "metadata": {},
   "outputs": [],
   "source": [
    "from pfd_toolkit import load_reports\n",
    "\n",
    "reports = load_reports(category='all',\n",
    "                    end_date=\"2023-01-01\")\n",
    "\n",
    "print(f\"In total, there were {len(reports)} PFD reports published between July 2013 and November 2023\")"
   ]
  },
  {
   "cell_type": "markdown",
   "metadata": {},
   "source": [
    "#### Create 'Screener' specification to filter reports\n",
    "\n",
    "**Note:** The ONS analysis defines a \"child\" as \"aged 18 years and under,\" with included cases ranging from 12 to 18 years old. While the standard UK definition of a child is *under* 18, for consistency we have adopted the ONS inclusion criteria.\n",
    "\n",
    "First, we need to set up the LLM and Screener modules...\n"
   ]
  },
  {
   "cell_type": "code",
   "execution_count": null,
   "metadata": {},
   "outputs": [],
   "source": [
    "from pfd_toolkit import LLM, Screener\n",
    "from dotenv import load_dotenv\n",
    "import os\n",
    "\n",
    "# Load OpenAI API key from local environment\n",
    "load_dotenv(\"api.env\")\n",
    "openai_api_key = os.getenv(\"OPENAI_API_KEY\")\n",
    "\n",
    "# Initialise LLM client\n",
    "llm_client = LLM(api_key=openai_api_key, \n",
    "                 max_workers=60, model=\"gpt-4.1-mini\",\n",
    "                 seed=12345, temperature=0)\n",
    "\n",
    "# Set up Screener\n",
    "user_query = (\n",
    "\"Where the deceased is 18 or younger *AND* the death was due to suicide. Age may be explicitly recorded, or inferred from agencies such as CAMHS, etc.\" \n",
    ")\n",
    "\n",
    "child_suicide_screener = Screener(llm=llm_client,\n",
    "                                  reports=reports,\n",
    "                                  user_query=user_query,\n",
    "                                  match_leniency=None,\n",
    "                                  )"
   ]
  },
  {
   "cell_type": "markdown",
   "metadata": {},
   "source": [
    "This will generate a prompt to our LLM. We can see what this prompt looks like:"
   ]
  },
  {
   "cell_type": "code",
   "execution_count": null,
   "metadata": {},
   "outputs": [],
   "source": [
    "print(child_suicide_screener._build_prompt_template(user_query))"
   ]
  },
  {
   "cell_type": "markdown",
   "metadata": {},
   "source": [
    "Now we can run the Screener and assign the results to `child_suicide_reports`."
   ]
  },
  {
   "cell_type": "code",
   "execution_count": null,
   "metadata": {},
   "outputs": [],
   "source": [
    "child_suicide_reports = child_suicide_screener.screen_reports()\n",
    "\n",
    "print(\n",
    "    f\"\"\"\\nFrom the initial {len(reports)} reports, PFD Toolkit identified {len(child_suicide_reports)} reports on child suicide\"\"\"\n",
    ")"
   ]
  },
  {
   "cell_type": "markdown",
   "metadata": {},
   "source": [
    "For context, the ONS identified 37 reports relevant reports.\n",
    "\n",
    "The difference between the number of ONS and Toolkit-identified reports is likely due to one of the following:\n",
    "\n",
    " * The ONS filtered reports on judiciary.uk by suicide & child deaths - which are both drop-down categories on the website. We already know that many reports are miscategorised or not categorised at all. By contrast, toolkit didn't use these categories and screened all reports within the same date range.\n",
    " * Human error; I'm sure manually screening these reports would have been mind-numbingly boring."
   ]
  },
  {
   "cell_type": "markdown",
   "metadata": {},
   "source": [
    "---"
   ]
  },
  {
   "cell_type": "code",
   "execution_count": null,
   "metadata": {},
   "outputs": [],
   "source": [
    "# Save & reload reports to keep progress...\n",
    "child_suicide_reports.to_csv('../data/child_suicide.csv')"
   ]
  },
  {
   "cell_type": "code",
   "execution_count": 3,
   "metadata": {},
   "outputs": [
    {
     "data": {
      "text/plain": [
       "80"
      ]
     },
     "execution_count": 3,
     "metadata": {},
     "output_type": "execute_result"
    }
   ],
   "source": [
    "import pandas as pd\n",
    "child_suicide_reports = pd.read_csv('../data/child_suicide.csv')\n",
    "len(child_suicide_reports)"
   ]
  },
  {
   "cell_type": "markdown",
   "metadata": {},
   "source": [
    "---"
   ]
  },
  {
   "cell_type": "markdown",
   "metadata": {},
   "source": [
    "### Categorise addressees\n",
    "\n",
    "We now need to reproduce the 'report by addressees' table produced by ONS.\n",
    "\n",
    "For this, we'll create a new screener object and run it multiple times. We'll also turn on 'annotate mode,' which doesn't filter reports but insted adds a classification column, which we can name and use to create a tabulation."
   ]
  },
  {
   "cell_type": "code",
   "execution_count": null,
   "metadata": {},
   "outputs": [
    {
     "name": "stderr",
     "output_type": "stream",
     "text": [
      "Extracting features: 100%|██████████| 80/80 [00:04<00:00, 16.05it/s]\n"
     ]
    }
   ],
   "source": [
    "from pfd_toolkit import Screener, LLM, Extractor\n",
    "from pydantic import BaseModel, Field\n",
    "\n",
    "from dotenv import load_dotenv\n",
    "import os\n",
    "\n",
    "# Load OpenAI API key from local environment\n",
    "load_dotenv(\"api.env\")\n",
    "openai_api_key = os.getenv(\"OPENAI_API_KEY\")\n",
    "\n",
    "# Initialise LLM client\n",
    "llm_client = LLM(api_key=openai_api_key, \n",
    "                 max_workers=60, model=\"gpt-4.1-mini\",\n",
    "                 seed=12345, temperature=0)\n",
    "\n",
    "# Up the model to GPT 4.1 for better performance\n",
    "llm_client.model = \"gpt-4.1\"\n",
    "\n",
    "# Set up a feature model for addressees\n",
    "class DemoFeatures(BaseModel):\n",
    "    sent_gov: bool = Field(..., description=\"Recipient(s) include a government department or minister, but not NHS\")\n",
    "    sent_nhs: bool = Field(..., description=\"Recipient(s) include NHS Trust, CCG or ICS\")\n",
    "    sent_prof_body: bool = Field(..., description=\"Recipient(s) include an organisation with statutory responsibility for a profession (GMC, NMC, Royal Colleges, etc.)\")\n",
    "    sent_council: bool = Field(..., description=\"Recipient(s) include a local council\")\n",
    "    sent_other: bool = Field(..., description=\"Recipient(s) include some other recipient group not listed\")\n",
    "\n",
    "addressee_extractor = Extractor(reports=child_suicide_reports,\n",
    "                                llm=llm_client,\n",
    "                                \n",
    "                                # Turn 'on' receiver field; turn defaults 'off'\n",
    "                                include_receiver=True,\n",
    "                                include_circumstances=False,\n",
    "                                include_investigation=False,\n",
    "                                include_concerns=False)\n",
    "\n",
    "\n",
    "child_suicide_reports = addressee_extractor.extract_features(feature_model=DemoFeatures,\n",
    "                                                             allow_multiple=True,\n",
    "                                                             force_assign=True,\n",
    "                                                             produce_spans=True)"
   ]
  },
  {
   "cell_type": "markdown",
   "metadata": {},
   "source": [
    "#### Create summary table"
   ]
  },
  {
   "cell_type": "code",
   "execution_count": 5,
   "metadata": {},
   "outputs": [
    {
     "name": "stdout",
     "output_type": "stream",
     "text": [
      "Summary Table of Report Addressees:\n",
      "                        Addressee  No of reports  %\n",
      "Government department or minister             41 51\n",
      "                 NHS Trust or CCG             40 50\n",
      "                Professional body              7  9\n",
      "                    Local council             15 19\n",
      "                            Other             28 35\n"
     ]
    }
   ],
   "source": [
    "import pandas as pd\n",
    "\n",
    "categories_config = [\n",
    "    {\"name\": \"Government department or minister\", \"col\": \"sent_gov\"},\n",
    "    {\"name\": \"NHS Trust or CCG\", \"col\": \"sent_nhs\"},\n",
    "    {\"name\": \"Professional body\", \"col\": \"sent_prof_body\"},\n",
    "    {\"name\": \"Local council\", \"col\": \"sent_council\"},\n",
    "    {\"name\": \"Other\", \"col\": \"sent_other\"},\n",
    "]\n",
    "\n",
    "total_reports = len(child_suicide_reports)\n",
    "\n",
    "summary_data = [\n",
    "    {\n",
    "        \"Addressee\": cat[\"name\"],\n",
    "        \"No of reports\": int(child_suicide_reports[cat[\"col\"]].sum()),\n",
    "        \"%\": int(\n",
    "            round((child_suicide_reports[cat[\"col\"]].sum() / total_reports) * 100)\n",
    "        ),\n",
    "    }\n",
    "    for cat in categories_config\n",
    "]\n",
    "\n",
    "summary_table_df = pd.DataFrame(summary_data)\n",
    "\n",
    "print(\"Summary Table of Report Addressees:\")\n",
    "print(summary_table_df.to_string(index=False))"
   ]
  },
  {
   "cell_type": "markdown",
   "metadata": {},
   "source": [
    "We can now compare this with ONS's own table...\n",
    "\n",
    "| Addressee                         | No of reports | %  |\n",
    "|----------------------------------|---------------|----|\n",
    "| Government department or minister| 15            | 41 |\n",
    "| NHS Trust or CCG                 | 15            | 41 |\n",
    "| Professional body                | 12            | 32 |\n",
    "| Local council                    | 8             | 22 |\n",
    "| Other                            | 10            | 27 |\n",
    "\n",
    "\n",
    "The big point of difference here is assignment to 'professional body'. In ONS's research, this reflected 32% of reports, but ours is only 10%. Despite us identifying a significantly higher number of reports, our absolute value of reports for this addressee category is lower than that of ONS (6 vs. 12, respectively.)\n",
    "\n",
    "In ONS's report and accompanying metadata spreadsheet, I was unable to find a definition of 'professional body'. So I used what I think is a reasonable definition:\n",
    "\n",
    "> \"An organisation with statutory responsibility for a profession (e.g. GMC, Nursing and Midwifery Council, Royal Colleges, etc.)\"\n",
    "\n",
    "It's therefore possible that this discrepency is caused by a definitional mismatch."
   ]
  },
  {
   "cell_type": "markdown",
   "metadata": {},
   "source": [
    "### Categorise 'themes' from coroner concerns\n",
    "\n",
    "ONS coded the **coroner's concerns** sections into 6 primary themes: service provision, staffing & resourcing, communication, multiple services involved in care, accessing services, access to harmful content & environment. \n",
    "\n",
    "Each of these themes contains a number of sub-themes. \n",
    "\n",
    "Because there's quite a lot of themes to assign, we're going to split this up into separate Extractor calls. This is to keep the prompt more manageable for the LLM. This is unlikely to be much of an issue for non-mini OpenAI models though, which are a touch more expensive."
   ]
  },
  {
   "cell_type": "code",
   "execution_count": 6,
   "metadata": {},
   "outputs": [
    {
     "name": "stderr",
     "output_type": "stream",
     "text": [
      "Extracting features: 100%|██████████| 80/80 [00:18<00:00,  4.25it/s]\n"
     ]
    }
   ],
   "source": [
    "# Just like we did with addressees, create a feature model with all fields and descriptions.\n",
    "\n",
    "class ThemeFeatures(BaseModel):\n",
    "    sp_sop_inadequate: bool = Field(\n",
    "        ..., \n",
    "        description=\"Standard operating procedures (e.g. note taking, monitoring, observations) don't exist, are unclear, or not followed correctly\"\n",
    "    )\n",
    "    sp_specialist_services: bool = Field(\n",
    "        ..., \n",
    "        description=\"Specialist services unavailable or insufficient (e.g. issues with crisis teams, urgent inpatient beds, special educational needs, autism support, deprioritised services, etc.)\"\n",
    "    )\n",
    "    sp_risk_assessment: bool = Field(\n",
    "        ..., \n",
    "        description=\"Risk assessment documents not completed, assessed inadequately, not updated, not communicated, etc.\"\n",
    "    )\n",
    "    sp_discharge: bool = Field(\n",
    "        ..., \n",
    "        description=\"Discharge without review or liaison, self-discharge when detention may be required, poor communication of care requirements to community teams, uncoordinated post-discharge care, inadequate care packages, etc.\"\n",
    "    )\n",
    "    sp_diagnostics: bool = Field(\n",
    "        ..., \n",
    "        description=\"Delayed diagnosis, misdiagnosis, lack of caregiver support for a specific diagnosis, lack of specialist diagnostic training, etc.\"\n",
    "    )\n",
    "\n",
    "    sr_training: bool = Field(\n",
    "        ..., \n",
    "        description=\"Inadequate staff knowledge of suicide-prevention processes, missing grab bags or anti-ligature tools, staff not following procedures, training gaps, etc.\"\n",
    "    )\n",
    "    sr_inadequate_staffing: bool = Field(\n",
    "        ..., \n",
    "        description=\"Staff not appropriately qualified, inexperienced case worker assigned, or other inadequate staffing levels\"\n",
    "    )\n",
    "    sr_funding: bool = Field(\n",
    "        ..., \n",
    "        description=\"Lack of funding to CAMHS services etc., preventing recruitment or provision of specialist services\"\n",
    "    )\n",
    "    sr_recruitment_retention: bool = Field(\n",
    "        ..., \n",
    "        description=\"Unable to recruit specialist staff or retain an adequate number of staff\"\n",
    "    )\n",
    "\n",
    "    comm_between_services: bool = Field(\n",
    "        ..., \n",
    "        description=\"Lack of communication between CAMHS and foster or care services or schools, or information sharing between services not possible or not conducted, etc.\"\n",
    "    )\n",
    "    comm_patient_family: bool = Field(\n",
    "        ..., \n",
    "        description=\"Lack of communication from CAMHS with child and/or parent, including insufficient family involvement, support or signposting, etc.\"\n",
    "    )\n",
    "    comm_confidentiality_risk: bool = Field(\n",
    "        ..., \n",
    "        description=\"Instances where professionals did not communicate with parents or caregivers, resulting in missed opportunities to intervene\"\n",
    "    )\n",
    "    comm_within_services: bool = Field(\n",
    "        ..., \n",
    "        description=\"Inadequate communication of policies to staff, inadequate note keeping or record sharing, unclear responsibility for care coordination within a service\"\n",
    "    )\n",
    "\n",
    "    msic_integration_care: bool = Field(\n",
    "        ..., \n",
    "        description=\"Care coordinator not assigned or unclear responsibility for coordinating care needs across multiple services\"\n",
    "    )\n",
    "    msic_local_authority: bool = Field(\n",
    "        ..., \n",
    "        description=\"Lack of social services involvement, no social worker, inadequate safeguarding checks, lack of specialist support in schools, missing school safety plan, etc.\"\n",
    "    )\n",
    "    msic_transition_camhs: bool = Field(\n",
    "        ..., \n",
    "        description=\"Lack of support transitioning from CAMHS to adult services or unclear guidance for 16–18-year-olds\"\n",
    "    )\n",
    "\n",
    "    as_delays_waiting: bool = Field(\n",
    "        ..., \n",
    "        description=\"Delay in GP or CAMHS referrals, CAMHS picking up referral, offering appointments, excessive waiting times leading to inappropriate referral, or COVID-19 related delays\"\n",
    "    )\n",
    "    as_referral_rejected: bool = Field(\n",
    "        ..., \n",
    "        description=\"Referral rejected due to waiting times, lack of staff, inadequate risk assessment, or complex needs not met by CAMHS\"\n",
    "    )\n",
    "    as_patient_engagement: bool = Field(\n",
    "        ..., \n",
    "        description=\"Inadequate contact with child or parent regarding referral, or patient refusal to engage followed by insufficient follow-up\"\n",
    "    )\n",
    "\n",
    "    ahce_internet: bool = Field(\n",
    "        ..., \n",
    "        description=\"Lack of internet safeguarding in school or failure of websites or social media to block harmful content\"\n",
    "    )\n",
    "    ahce_safeguarding_sensitive: bool = Field(\n",
    "        ..., \n",
    "        description=\"Sensitive questions or material presented to a child without adequate follow-up, adult support, warnings, or consideration of safety\"\n",
    "    )\n",
    "    ahce_harmful_items: bool = Field(\n",
    "        ..., \n",
    "        description=\"Access to items that can be used to harm or ligature, or access to alcohol, drugs, or substances where safety concerns are known\"\n",
    "    )\n",
    "    ahce_trainline: bool = Field(\n",
    "        ..., \n",
    "        description=\"Ability to access railway environments where access should be prevented, such as inadequate fencing\"\n",
    "    )\n",
    "\n",
    "\n",
    "# Instantiate Extractor once, covering all of the above features in one go.\n",
    "theme_extractor = Extractor(\n",
    "    reports=child_suicide_reports,\n",
    "    llm=llm_client,\n",
    "\n",
    "    # We only care about the Concerns section here\n",
    "    include_receiver=False,\n",
    "    include_circumstances=False,\n",
    "    include_investigation=False,\n",
    "    include_concerns=True\n",
    ")\n",
    "\n",
    "\n",
    "child_suicide_reports = theme_extractor.extract_features(feature_model=ThemeFeatures,\n",
    "                                                         allow_multiple=True,\n",
    "                                                         force_assign=True,\n",
    "                                                         produce_spans=True)\n"
   ]
  },
  {
   "cell_type": "markdown",
   "metadata": {},
   "source": [
    "#### Create theme tables"
   ]
  },
  {
   "cell_type": "code",
   "execution_count": 7,
   "metadata": {},
   "outputs": [
    {
     "name": "stdout",
     "output_type": "stream",
     "text": [
      "\n",
      "Primary theme: Service provision\n",
      "                                                        Sub-theme  Number of reports\n",
      "Standard operating procedures/ processes not followed or adequate                 49\n",
      "                       Specialist services (crisis, autism, beds)                 22\n",
      "                                                  Risk assessment                 31\n",
      "                                          Discharge from services                  8\n",
      "                                                      Diagnostics                 11\n",
      "\n",
      "---\n",
      "\n",
      "Primary theme: Staffing and resourcing\n",
      "\n",
      "                Sub-theme  Number of reports\n",
      "                 Training                 31\n",
      "      Inadequate staffing                 16\n",
      "                  Funding                 14\n",
      "Recruitment and retention                  4\n",
      "\n",
      "---\n",
      "\n",
      "Primary theme: Communication\n",
      "\n",
      "                            Sub-theme  Number of reports\n",
      "                     Between services                 33\n",
      "              With patient and family                 16\n",
      "Confidentiality risk not communicated                  3\n",
      "                      Within services                 21\n",
      "\n",
      "---\n",
      "\n",
      "Primary theme: Multiple services involved in care\n",
      "\n",
      "                                     Sub-theme  Number of reports\n",
      "                           Integration of care                 18\n",
      "Local Authority (incl child services, schools)                 17\n",
      "                         Transition from CAMHS                  7\n",
      "\n",
      "---\n",
      "\n",
      "Primary theme: Accessing services\n",
      "\n",
      "                            Sub-theme  Number of reports\n",
      "Delays in referrals and waiting times                 22\n",
      "                    Referral rejected                  8\n",
      "                   Patient engagement                  9\n",
      "\n",
      "---\n",
      "\n",
      "Primary theme: Access to harmful content and environment\n",
      "\n",
      "                           Sub-theme  Number of reports\n",
      "                            Internet                  5\n",
      "Safeguarding from sensitive material                  2\n",
      "           Harmful items/ substances                  7\n",
      "                           Trainline                  4\n"
     ]
    }
   ],
   "source": [
    "# 1. Service provision\n",
    "print(\"\\nPrimary theme: Service provision\")\n",
    "service_provision_config = [\n",
    "    {\n",
    "        \"name\": \"Standard operating procedures/ processes not followed or adequate\",\n",
    "        \"col\": \"sp_sop_inadequate\",\n",
    "    },\n",
    "    {\n",
    "        \"name\": \"Specialist services (crisis, autism, beds)\",\n",
    "        \"col\": \"sp_specialist_services\",\n",
    "    },\n",
    "    {\"name\": \"Risk assessment\", \"col\": \"sp_risk_assessment\"},\n",
    "    {\"name\": \"Discharge from services\", \"col\": \"sp_discharge\"},\n",
    "    {\"name\": \"Diagnostics\", \"col\": \"sp_diagnostics\"},\n",
    "]\n",
    "service_provision_data = [\n",
    "    {\n",
    "        \"Sub-theme\": theme[\"name\"],\n",
    "        \"Number of reports\": int(child_suicide_reports[theme[\"col\"]].sum()),\n",
    "    }\n",
    "    for theme in service_provision_config\n",
    "]\n",
    "service_provision_df = pd.DataFrame(service_provision_data)\n",
    "print(service_provision_df.to_string(index=False))\n",
    "\n",
    "# 2. Staffing and resourcing \n",
    "print(\"\\n---\\n\\nPrimary theme: Staffing and resourcing\\n\")\n",
    "staffing_resourcing_config = [\n",
    "    {\"name\": \"Training\", \"col\": \"sr_training\"},\n",
    "    {\"name\": \"Inadequate staffing\", \"col\": \"sr_inadequate_staffing\"},\n",
    "    {\"name\": \"Funding\", \"col\": \"sr_funding\"},\n",
    "    {\"name\": \"Recruitment and retention\", \"col\": \"sr_recruitment_retention\"},\n",
    "]\n",
    "staffing_resourcing_data = [\n",
    "    {\n",
    "        \"Sub-theme\": theme[\"name\"],\n",
    "        \"Number of reports\": int(child_suicide_reports[theme[\"col\"]].sum()),\n",
    "    }\n",
    "    for theme in staffing_resourcing_config\n",
    "]\n",
    "staffing_resourcing_df = pd.DataFrame(staffing_resourcing_data)\n",
    "print(staffing_resourcing_df.to_string(index=False))\n",
    "\n",
    "# 3. Communication\n",
    "print(\"\\n---\\n\\nPrimary theme: Communication\\n\")\n",
    "communication_config = [\n",
    "    {\"name\": \"Between services\", \"col\": \"comm_between_services\"},\n",
    "    {\"name\": \"With patient and family\", \"col\": \"comm_patient_family\"},\n",
    "    {\n",
    "        \"name\": \"Confidentiality risk not communicated\",\n",
    "        \"col\": \"comm_confidentiality_risk\",\n",
    "    },\n",
    "    {\"name\": \"Within services\", \"col\": \"comm_within_services\"},\n",
    "]\n",
    "communication_data = [\n",
    "    {\n",
    "        \"Sub-theme\": theme[\"name\"],\n",
    "        \"Number of reports\": int(child_suicide_reports[theme[\"col\"]].sum()),\n",
    "    }\n",
    "    for theme in communication_config\n",
    "]\n",
    "communication_df = pd.DataFrame(communication_data)\n",
    "print(communication_df.to_string(index=False))\n",
    "\n",
    "# 4. Multiple services involved in care\n",
    "print(\"\\n---\\n\\nPrimary theme: Multiple services involved in care\\n\")\n",
    "multi_services_config = [\n",
    "    {\"name\": \"Integration of care\", \"col\": \"msic_integration_care\"},\n",
    "    {\n",
    "        \"name\": \"Local Authority (incl child services, schools)\",\n",
    "        \"col\": \"msic_local_authority\",\n",
    "    },\n",
    "    {\"name\": \"Transition from CAMHS\", \"col\": \"msic_transition_camhs\"},\n",
    "]\n",
    "multi_services_data = [\n",
    "    {\n",
    "        \"Sub-theme\": theme[\"name\"],\n",
    "        \"Number of reports\": int(child_suicide_reports[theme[\"col\"]].sum()),\n",
    "    }\n",
    "    for theme in multi_services_config\n",
    "]\n",
    "multi_services_df = pd.DataFrame(multi_services_data)\n",
    "print(multi_services_df.to_string(index=False))\n",
    "\n",
    "# 5. Accessing services \n",
    "print(\"\\n---\\n\\nPrimary theme: Accessing services\\n\")\n",
    "accessing_services_config = [\n",
    "    {\"name\": \"Delays in referrals and waiting times\", \"col\": \"as_delays_waiting\"},\n",
    "    {\"name\": \"Referral rejected\", \"col\": \"as_referral_rejected\"},\n",
    "    {\"name\": \"Patient engagement\", \"col\": \"as_patient_engagement\"},\n",
    "]\n",
    "accessing_services_data = [\n",
    "    {\n",
    "        \"Sub-theme\": theme[\"name\"],\n",
    "        \"Number of reports\": int(child_suicide_reports[theme[\"col\"]].sum()),\n",
    "    }\n",
    "    for theme in accessing_services_config\n",
    "]\n",
    "accessing_services_df = pd.DataFrame(accessing_services_data)\n",
    "print(accessing_services_df.to_string(index=False))\n",
    "\n",
    "# 6. Access to harmful content and environment\n",
    "print(\"\\n---\\n\\nPrimary theme: Access to harmful content and environment\\n\")\n",
    "harmful_content_config = [\n",
    "    {\"name\": \"Internet\", \"col\": \"ahce_internet\"},\n",
    "    {\n",
    "        \"name\": \"Safeguarding from sensitive material\",\n",
    "        \"col\": \"ahce_safeguarding_sensitive\",\n",
    "    },\n",
    "    {\"name\": \"Harmful items/ substances\", \"col\": \"ahce_harmful_items\"},\n",
    "    {\"name\": \"Trainline\", \"col\": \"ahce_trainline\"},\n",
    "]\n",
    "harmful_content_data = [\n",
    "    {\n",
    "        \"Sub-theme\": theme[\"name\"],\n",
    "        \"Number of reports\": int(child_suicide_reports[theme[\"col\"]].sum()),\n",
    "    }\n",
    "    for theme in harmful_content_config\n",
    "]\n",
    "harmful_content_df = pd.DataFrame(harmful_content_data)\n",
    "print(harmful_content_df.to_string(index=False))"
   ]
  },
  {
   "cell_type": "code",
   "execution_count": 8,
   "metadata": {},
   "outputs": [],
   "source": [
    "child_suicide_reports.to_csv('../data/child_suicide_tagged.csv')"
   ]
  },
  {
   "cell_type": "markdown",
   "metadata": {},
   "source": [
    "### Check workflow runtime"
   ]
  },
  {
   "cell_type": "code",
   "execution_count": 9,
   "metadata": {},
   "outputs": [
    {
     "ename": "NameError",
     "evalue": "name 'time' is not defined",
     "output_type": "error",
     "traceback": [
      "\u001b[0;31m---------------------------------------------------------------------------\u001b[0m",
      "\u001b[0;31mNameError\u001b[0m                                 Traceback (most recent call last)",
      "Cell \u001b[0;32mIn[9], line 1\u001b[0m\n\u001b[0;32m----> 1\u001b[0m end \u001b[38;5;241m=\u001b[39m \u001b[43mtime\u001b[49m\u001b[38;5;241m.\u001b[39mtime()\n\u001b[1;32m      3\u001b[0m elapsed_seconds \u001b[38;5;241m=\u001b[39m \u001b[38;5;28mint\u001b[39m(end \u001b[38;5;241m-\u001b[39m start)\n\u001b[1;32m      5\u001b[0m minutes, seconds \u001b[38;5;241m=\u001b[39m \u001b[38;5;28mdivmod\u001b[39m(elapsed_seconds, \u001b[38;5;241m60\u001b[39m)\n",
      "\u001b[0;31mNameError\u001b[0m: name 'time' is not defined"
     ]
    }
   ],
   "source": [
    "end = time.time()\n",
    "\n",
    "elapsed_seconds = int(end - start)\n",
    "\n",
    "minutes, seconds = divmod(elapsed_seconds, 60)\n",
    "print(f\"Elapsed time: {minutes}m {seconds}s\")"
   ]
  }
 ],
 "metadata": {
  "kernelspec": {
   "display_name": ".venv",
   "language": "python",
   "name": "python3"
  },
  "language_info": {
   "codemirror_mode": {
    "name": "ipython",
    "version": 3
   },
   "file_extension": ".py",
   "mimetype": "text/x-python",
   "name": "python",
   "nbconvert_exporter": "python",
   "pygments_lexer": "ipython3",
   "version": "3.12.3"
  }
 },
 "nbformat": 4,
 "nbformat_minor": 2
}
