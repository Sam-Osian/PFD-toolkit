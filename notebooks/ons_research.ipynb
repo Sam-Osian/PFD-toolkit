{
 "cells": [
  {
   "cell_type": "markdown",
   "metadata": {},
   "source": [
    "## Automating ONS Research on Child Suicides\n",
    "\n",
    "In February 2025, the ONS published [research](https://www.ons.gov.uk/peoplepopulationandcommunity/healthandsocialcare/mentalhealth/bulletins/preventionoffuturedeathreportsforsuicideinchildreninenglandandwales/january2015tonovember2023) analysing:\n",
    "\n",
    "> Prevention of Future Death reports for suicide in children in England and Wales: January 2015 to November 2023\n",
    "\n",
    "This notebook evaluates the performance of PFD Toolkit in replicating and automating the ONS approach."
   ]
  },
  {
   "cell_type": "markdown",
   "metadata": {},
   "source": [
    "### Identifying the reports\n",
    "\n",
    "#### Loading all reports"
   ]
  },
  {
   "cell_type": "code",
   "execution_count": null,
   "metadata": {},
   "outputs": [],
   "source": [
    "from pfd_toolkit import load_reports\n",
    "\n",
    "reports = load_reports(category='all',\n",
    "                    start_date=\"2015-01-01\",\n",
    "                    end_date=\"2023-11-01\")\n",
    "\n",
    "print(f\"In total, there were {len(reports)} PFD reports published between January 2015 and November 2023\")"
   ]
  },
  {
   "cell_type": "markdown",
   "metadata": {},
   "source": [
    "#### Create 'Screener' specification to filter reports\n",
    "\n",
    "**Note:** The ONS analysis defines a \"child\" as \"aged 18 years and under,\" with included cases ranging from 12 to 18 years old. While the standard UK definition of a child is \"under 18,\" for consistency we have adopted the ONS inclusion criteria.\n",
    "\n",
    "First, we need to set up the LLM and Screener modules...\n"
   ]
  },
  {
   "cell_type": "code",
   "execution_count": null,
   "metadata": {},
   "outputs": [],
   "source": [
    "from pfd_toolkit import LLM, Screener\n",
    "from dotenv import load_dotenv\n",
    "import os\n",
    "\n",
    "# Load OpenAI API key from local environment\n",
    "load_dotenv(\"api.env\")\n",
    "openai_api_key = os.getenv(\"OPENAI_API_KEY\")\n",
    "\n",
    "# Initialise LLM client\n",
    "llm_client = LLM(api_key=openai_api_key, \n",
    "                 max_workers=25)\n",
    "\n",
    "# Set up Screener\n",
    "user_query = (\n",
    "\"Where the deceased is **explicitly** noted as being aged 18 or younger *AND* the death was due to suicide.\" \n",
    ")\n",
    "\n",
    "child_suicide_screener = Screener(llm=llm_client,\n",
    "                                  reports=reports,\n",
    "                                  user_query=user_query,\n",
    "                                  match_leniency=None,\n",
    "                                  include_concerns=False\n",
    "                                  )"
   ]
  },
  {
   "cell_type": "markdown",
   "metadata": {},
   "source": [
    "This will generate a prompt to our LLM. We can see what this prompt looks like:"
   ]
  },
  {
   "cell_type": "code",
   "execution_count": null,
   "metadata": {},
   "outputs": [],
   "source": [
    "child_suicide_screener._build_prompt_template(user_query)"
   ]
  },
  {
   "cell_type": "markdown",
   "metadata": {},
   "source": [
    "Now we can run the Screener and assign the results to `child_suicide_reports`."
   ]
  },
  {
   "cell_type": "code",
   "execution_count": null,
   "metadata": {},
   "outputs": [],
   "source": [
    "%%time\n",
    "\n",
    "child_suicide_reports = child_suicide_screener.screen_reports()\n",
    "\n",
    "print(\n",
    "    f\"\"\"From the initial {len(reports)} reports, PFD Toolkit \n",
    "      identified {len(child_suicide_reports)} reports on child suicide\"\"\"\n",
    ")"
   ]
  },
  {
   "cell_type": "markdown",
   "metadata": {},
   "source": [
    "For context, the ONS identified 37 reports relevant reports."
   ]
  },
  {
   "cell_type": "markdown",
   "metadata": {},
   "source": [
    "---"
   ]
  },
  {
   "cell_type": "code",
   "execution_count": null,
   "metadata": {},
   "outputs": [],
   "source": [
    "# Save & reload reports to keep progress...\n",
    "child_suicide_reports.to_csv('../data/child_suicide.csv')"
   ]
  },
  {
   "cell_type": "code",
   "execution_count": 2,
   "metadata": {},
   "outputs": [
    {
     "data": {
      "text/plain": [
       "61"
      ]
     },
     "execution_count": 2,
     "metadata": {},
     "output_type": "execute_result"
    }
   ],
   "source": [
    "import pandas as pd\n",
    "child_suicide_reports = pd.read_csv('../data/child_suicide.csv')\n",
    "len(child_suicide_reports)"
   ]
  },
  {
   "cell_type": "markdown",
   "metadata": {},
   "source": [
    "### Categorise addressees\n",
    "\n",
    "We now need to reproduce this table produced by ONS's analysis (though of course we've identified a larger number of reports):\n",
    "\n",
    "| Addressee                         | No of reports | %  |\n",
    "|----------------------------------|---------------|----|\n",
    "| Government department or minister| 15            | 41 |\n",
    "| NHS Trust or CCG                 | 15            | 41 |\n",
    "| Professional body                | 12            | 32 |\n",
    "| Local council                    | 8             | 22 |\n",
    "| Other                            | 10            | 27 |\n",
    "\n",
    "For this, we'll create a new screener object and run it multiple times. We'll also turn on 'annotate mode,' which doesn't filter reports but insted adds a classification column, which we can name and use to create a tabulation.\n",
    "\n",
    "The below code looks a bit ungraceful, but this will be addressed in future versions of Toolkit which will contain a Categorisation module."
   ]
  },
  {
   "cell_type": "code",
   "execution_count": 3,
   "metadata": {},
   "outputs": [
    {
     "data": {
      "application/vnd.jupyter.widget-view+json": {
       "model_id": "fad410b6c09c4f5691223180f168891c",
       "version_major": 2,
       "version_minor": 0
      },
      "text/plain": [
       "Sending requests to the LLM (in parallel):   0%|          | 0/61 [00:00<?, ?it/s]"
      ]
     },
     "metadata": {},
     "output_type": "display_data"
    },
    {
     "data": {
      "application/vnd.jupyter.widget-view+json": {
       "model_id": "f8b3531945454a469d1d584a2eebdb2c",
       "version_major": 2,
       "version_minor": 0
      },
      "text/plain": [
       "Sending requests to the LLM (in parallel):   0%|          | 0/61 [00:00<?, ?it/s]"
      ]
     },
     "metadata": {},
     "output_type": "display_data"
    },
    {
     "data": {
      "application/vnd.jupyter.widget-view+json": {
       "model_id": "57d3807199cb42a79aa45c5568951396",
       "version_major": 2,
       "version_minor": 0
      },
      "text/plain": [
       "Sending requests to the LLM (in parallel):   0%|          | 0/61 [00:00<?, ?it/s]"
      ]
     },
     "metadata": {},
     "output_type": "display_data"
    },
    {
     "data": {
      "application/vnd.jupyter.widget-view+json": {
       "model_id": "51bdcbd39f2a4934bf1a67cce492b2c2",
       "version_major": 2,
       "version_minor": 0
      },
      "text/plain": [
       "Sending requests to the LLM (in parallel):   0%|          | 0/61 [00:00<?, ?it/s]"
      ]
     },
     "metadata": {},
     "output_type": "display_data"
    },
    {
     "data": {
      "application/vnd.jupyter.widget-view+json": {
       "model_id": "1df9675869a34e91b719b8d0e3e65609",
       "version_major": 2,
       "version_minor": 0
      },
      "text/plain": [
       "Sending requests to the LLM (in parallel):   0%|          | 0/61 [00:00<?, ?it/s]"
      ]
     },
     "metadata": {},
     "output_type": "display_data"
    }
   ],
   "source": [
    "from pfd_toolkit import Screener, LLM\n",
    "from dotenv import load_dotenv\n",
    "import os\n",
    "\n",
    "# Load OpenAI API key from local environment\n",
    "load_dotenv(\"api.env\")\n",
    "openai_api_key = os.getenv(\"OPENAI_API_KEY\")\n",
    "\n",
    "# Initialise LLM client\n",
    "llm_client = LLM(api_key=openai_api_key, max_workers=25)\n",
    "\n",
    "addressee_screener = Screener(llm=llm_client,\n",
    "                         reports=child_suicide_reports,\n",
    "                         filter_df=False,\n",
    "                         # Turn off long sections\n",
    "                         include_investigation=False,\n",
    "                         include_circumstances=False,\n",
    "                         include_concerns=False,\n",
    "                         \n",
    "                         # Turn on recevier section\n",
    "                         include_receiver=True\n",
    "                         )\n",
    "\n",
    "child_suicide_reports = addressee_screener.screen_reports(\n",
    "    user_query=\"Sent to government department or minister\",\n",
    "    result_col_name=\"sent_gov\"\n",
    ")\n",
    "\n",
    "child_suicide_reports = addressee_screener.screen_reports(\n",
    "    user_query=\"Sent to NHS Trust, CCG or ICS\", \n",
    "    result_col_name=\"sent_nhs\"\n",
    ")\n",
    "\n",
    "child_suicide_reports = addressee_screener.screen_reports(\n",
    "    user_query=\"Sent to some form of professional body, but **not** govt, NHS Trust/CCG/ICS nor local council\", \n",
    "    result_col_name=\"sent_prof_body\"\n",
    ")\n",
    "\n",
    "child_suicide_reports = addressee_screener.screen_reports(\n",
    "    user_query=\"Sent to a local council\",\n",
    "    result_col_name=\"sent_council\"\n",
    ")\n",
    "\n",
    "child_suicide_reports = addressee_screener.screen_reports(\n",
    "    user_query=(\n",
    "        \"Sent to any of the following: \"\n",
    "        \"rail or road company, police (including British Transport Police), **private** companies/hospital or CAMHS)\"\n",
    "    ),\n",
    "    result_col_name=\"sent_other\"\n",
    ")"
   ]
  },
  {
   "cell_type": "markdown",
   "metadata": {},
   "source": [
    "#### Create summary table"
   ]
  },
  {
   "cell_type": "code",
   "execution_count": 4,
   "metadata": {},
   "outputs": [
    {
     "name": "stdout",
     "output_type": "stream",
     "text": [
      "Summary Table of Report Addressees:\n",
      "                        Addressee  No of reports  %\n",
      "Government department or minister             19 31\n",
      "                 NHS Trust or CCG             21 34\n",
      "                Professional body              4  7\n",
      "                    Local council              8 13\n",
      "                            Other              7 11\n"
     ]
    }
   ],
   "source": [
    "import pandas as pd\n",
    "\n",
    "categories_config = [\n",
    "    {\"name\": \"Government department or minister\", \"col\": \"sent_gov\"},\n",
    "    {\"name\": \"NHS Trust or CCG\", \"col\": \"sent_nhs\"},\n",
    "    {\"name\": \"Professional body\", \"col\": \"sent_prof_body\"},\n",
    "    {\"name\": \"Local council\", \"col\": \"sent_council\"},\n",
    "    {\"name\": \"Other\", \"col\": \"sent_other\"},\n",
    "]\n",
    "\n",
    "total_reports = len(child_suicide_reports)\n",
    "\n",
    "summary_data = [\n",
    "    {\n",
    "        \"Addressee\": cat[\"name\"],\n",
    "        \"No of reports\": int(child_suicide_reports[cat[\"col\"]].sum()),\n",
    "        \"%\": int(\n",
    "            round((child_suicide_reports[cat[\"col\"]].sum() / total_reports) * 100)\n",
    "        ),\n",
    "    }\n",
    "    for cat in categories_config\n",
    "]\n",
    "\n",
    "summary_table_df = pd.DataFrame(summary_data)\n",
    "\n",
    "print(\"Summary Table of Report Addressees:\")\n",
    "print(summary_table_df.to_string(index=False))"
   ]
  },
  {
   "cell_type": "markdown",
   "metadata": {},
   "source": [
    "### Categorise 'themes' from coroner concerns\n",
    "\n",
    "ONS coded the **coroner's concerns** sections into 6 primary themes: service provision, staffing & resourcing, communication, multiple services involved in care, accessing services, access to harmful content & environment. \n",
    "\n",
    "Each of these themes contains a number of sub-themes. \n",
    "\n",
    "...Sorry for this ugly code..."
   ]
  },
  {
   "cell_type": "code",
   "execution_count": null,
   "metadata": {},
   "outputs": [
    {
     "data": {
      "application/vnd.jupyter.widget-view+json": {
       "model_id": "fc00674a029443ecabc7f1fc40db2484",
       "version_major": 2,
       "version_minor": 0
      },
      "text/plain": [
       "Sending requests to the LLM (in parallel):   0%|          | 0/61 [00:00<?, ?it/s]"
      ]
     },
     "metadata": {},
     "output_type": "display_data"
    },
    {
     "data": {
      "application/vnd.jupyter.widget-view+json": {
       "model_id": "2803b57b07214d88b4a81c8a4ebe8a7e",
       "version_major": 2,
       "version_minor": 0
      },
      "text/plain": [
       "Sending requests to the LLM (in parallel):   0%|          | 0/61 [00:00<?, ?it/s]"
      ]
     },
     "metadata": {},
     "output_type": "display_data"
    },
    {
     "data": {
      "application/vnd.jupyter.widget-view+json": {
       "model_id": "0c9f283d0bf0432593c468caa09f335f",
       "version_major": 2,
       "version_minor": 0
      },
      "text/plain": [
       "Sending requests to the LLM (in parallel):   0%|          | 0/61 [00:00<?, ?it/s]"
      ]
     },
     "metadata": {},
     "output_type": "display_data"
    },
    {
     "data": {
      "application/vnd.jupyter.widget-view+json": {
       "model_id": "e66bf2c429ec473196760975d9039072",
       "version_major": 2,
       "version_minor": 0
      },
      "text/plain": [
       "Sending requests to the LLM (in parallel):   0%|          | 0/61 [00:00<?, ?it/s]"
      ]
     },
     "metadata": {},
     "output_type": "display_data"
    },
    {
     "data": {
      "application/vnd.jupyter.widget-view+json": {
       "model_id": "50a924747f9a4865be63aab76cdcaf02",
       "version_major": 2,
       "version_minor": 0
      },
      "text/plain": [
       "Sending requests to the LLM (in parallel):   0%|          | 0/61 [00:00<?, ?it/s]"
      ]
     },
     "metadata": {},
     "output_type": "display_data"
    }
   ],
   "source": [
    "theme_screener = Screener(\n",
    "    llm=llm_client,\n",
    "    reports=child_suicide_reports,\n",
    "    match_leniency=None,\n",
    "    filter_df=False,\n",
    "    # We only need to read the concerns section\n",
    "    include_investigation=False,\n",
    "    include_circumstances=False,\n",
    "    include_concerns=True,\n",
    ")\n",
    "\n",
    "child_suicide_reports = theme_screener.screen_reports(\n",
    "    user_query=\"Issues with inadequate or un-followed standard operating procedures in service provision.\",\n",
    "    result_col_name=\"sp_sop_inadequate\",\n",
    ")\n",
    "child_suicide_reports = theme_screener.screen_reports(\n",
    "    user_query=\"Concerns about specialist services (e.g., crisis, autism, beds) within service provision.\",\n",
    "    result_col_name=\"sp_specialist_services\",\n",
    ")\n",
    "child_suicide_reports = theme_screener.screen_reports(\n",
    "    user_query=\"Failures or inadequacies in risk assessment during service provision.\",\n",
    "    result_col_name=\"sp_risk_assessment\",\n",
    ")\n",
    "child_suicide_reports = theme_screener.screen_reports(\n",
    "    user_query=\"Problems related to discharge from services within service provision.\",\n",
    "    result_col_name=\"sp_discharge\",\n",
    ")\n",
    "child_suicide_reports = theme_screener.screen_reports(\n",
    "    user_query=\"Issues concerning diagnostics as part of service provision.\",\n",
    "    result_col_name=\"sp_diagnostics\",\n",
    ")\n",
    "\n",
    "child_suicide_reports = theme_screener.screen_reports(\n",
    "    user_query=\"Inadequate or insufficient training for staff impacting staffing and resourcing.\",\n",
    "    result_col_name=\"sr_training\",\n",
    ")\n",
    "child_suicide_reports = theme_screener.screen_reports(\n",
    "    user_query=\"Problems due to inadequate staffing levels or poor staff deployment.\",\n",
    "    result_col_name=\"sr_inadequate_staffing\",\n",
    ")\n",
    "child_suicide_reports = theme_screener.screen_reports(\n",
    "    user_query=\"Funding shortages or financial constraints affecting staffing and resourcing.\",\n",
    "    result_col_name=\"sr_funding\",\n",
    ")\n",
    "child_suicide_reports = theme_screener.screen_reports(\n",
    "    user_query=\"Difficulties in staff recruitment or retention impacting services.\",\n",
    "    result_col_name=\"sr_recruitment_retention\",\n",
    ")\n",
    "\n",
    "child_suicide_reports = theme_screener.screen_reports(\n",
    "    user_query=\"Breakdowns or poor communication between different services or agencies.\",\n",
    "    result_col_name=\"comm_between_services\",\n",
    ")\n",
    "child_suicide_reports = theme_screener.screen_reports(\n",
    "    user_query=\"Failures or difficulties in communication with the patient or their family.\",\n",
    "    result_col_name=\"comm_patient_family\",\n",
    ")\n",
    "child_suicide_reports = theme_screener.screen_reports(\n",
    "    user_query=\"Failure to communicate confidentiality risks to relevant parties.\",\n",
    "    result_col_name=\"comm_confidentiality_risk\",\n",
    ")\n",
    "child_suicide_reports = theme_screener.screen_reports(\n",
    "    user_query=\"Poor communication or information sharing within a single service or team.\",\n",
    "    result_col_name=\"comm_within_services\",\n",
    ")\n",
    "\n",
    "child_suicide_reports = theme_screener.screen_reports(\n",
    "    user_query=\"Lack of integration or coordination of care when multiple services are involved.\",\n",
    "    result_col_name=\"msic_integration_care\",\n",
    ")\n",
    "child_suicide_reports = theme_screener.screen_reports(\n",
    "    user_query=\"Issues related to Local Authority involvement (e.g., child services, schools) in multi-agency care.\",\n",
    "    result_col_name=\"msic_local_authority\",\n",
    ")\n",
    "child_suicide_reports = theme_screener.screen_reports(\n",
    "    user_query=\"Difficulties or failures during the transition from CAMHS in a multi-service care context.\",\n",
    "    result_col_name=\"msic_transition_camhs\",\n",
    ")\n",
    "\n",
    "child_suicide_reports = theme_screener.screen_reports(\n",
    "    user_query=\"Significant delays in referrals or excessively long waiting times for accessing services.\",\n",
    "    result_col_name=\"as_delays_waiting\",\n",
    ")\n",
    "child_suicide_reports = theme_screener.screen_reports(\n",
    "    user_query=\"Referrals being inappropriately or incorrectly rejected for accessing services.\",\n",
    "    result_col_name=\"as_referral_rejected\",\n",
    ")\n",
    "child_suicide_reports = theme_screener.screen_reports(\n",
    "    user_query=\"Challenges or failures in engaging patients with necessary services.\",\n",
    "    result_col_name=\"as_patient_engagement\",\n",
    ")\n",
    "\n",
    "child_suicide_reports = theme_screener.screen_reports(\n",
    "    user_query=\"Concerns about access to harmful content or negative experiences via the internet.\",\n",
    "    result_col_name=\"ahce_internet\",\n",
    ")\n",
    "child_suicide_reports = theme_screener.screen_reports(\n",
    "    user_query=\"Failures in safeguarding individuals from accessing sensitive or inappropriate material.\",\n",
    "    result_col_name=\"ahce_safeguarding_sensitive\",\n",
    ")\n",
    "child_suicide_reports = theme_screener.screen_reports(\n",
    "    user_query=\"Access to or presence of harmful items or substances.\",\n",
    "    result_col_name=\"ahce_harmful_items\",\n",
    ")\n",
    "child_suicide_reports = theme_screener.screen_reports(\n",
    "    user_query=\"Incidents, risks, or access to harm specifically related to trainlines or railway environments.\",\n",
    "    result_col_name=\"ahce_trainline\",\n",
    ")"
   ]
  },
  {
   "cell_type": "code",
   "execution_count": null,
   "metadata": {},
   "outputs": [
    {
     "name": "stdout",
     "output_type": "stream",
     "text": [
      "\n",
      "Primary theme: Service provision\n",
      "                                                        Sub-theme  Number of reports\n",
      "Standard operating procedures/ processes not followed or adequate                 18\n",
      "                       Specialist services (crisis, autism, beds)                 12\n",
      "                                                  Risk assessment                  1\n",
      "                                          Discharge from services                  1\n",
      "                                                      Diagnostics                  2\n",
      "\n",
      "---\n",
      "\n",
      "Primary theme: Staffing and resourcing\n",
      "\n",
      "                Sub-theme  Number of reports\n",
      "                 Training                  3\n",
      "      Inadequate staffing                  2\n",
      "                  Funding                  4\n",
      "Recruitment and retention                  0\n",
      "\n",
      "---\n",
      "\n",
      "Primary theme: Communication\n",
      "\n",
      "                            Sub-theme  Number of reports\n",
      "                     Between services                 14\n",
      "              With patient and family                  3\n",
      "Confidentiality risk not communicated                  2\n",
      "                      Within services                 24\n",
      "\n",
      "---\n",
      "\n",
      "Primary theme: Multiple services involved in care\n",
      "\n",
      "                                     Sub-theme  Number of reports\n",
      "                           Integration of care                  8\n",
      "Local Authority (incl child services, schools)                 20\n",
      "                         Transition from CAMHS                  4\n",
      "\n",
      "---\n",
      "\n",
      "Primary theme: Accessing services\n",
      "\n",
      "                            Sub-theme  Number of reports\n",
      "Delays in referrals and waiting times                  8\n",
      "                    Referral rejected                  2\n",
      "                   Patient engagement                  2\n",
      "\n",
      "---\n",
      "\n",
      "Primary theme: Access to harmful content and environment\n",
      "\n",
      "                           Sub-theme  Number of reports\n",
      "                            Internet                  4\n",
      "Safeguarding from sensitive material                  5\n",
      "           Harmful items/ substances                  2\n",
      "                           Trainline                  1\n"
     ]
    }
   ],
   "source": [
    "# 1. Service provision\n",
    "print(\"\\nPrimary theme: Service provision\")\n",
    "service_provision_config = [\n",
    "    {\n",
    "        \"name\": \"Standard operating procedures/ processes not followed or adequate\",\n",
    "        \"col\": \"sp_sop_inadequate\",\n",
    "    },\n",
    "    {\n",
    "        \"name\": \"Specialist services (crisis, autism, beds)\",\n",
    "        \"col\": \"sp_specialist_services\",\n",
    "    },\n",
    "    {\"name\": \"Risk assessment\", \"col\": \"sp_risk_assessment\"},\n",
    "    {\"name\": \"Discharge from services\", \"col\": \"sp_discharge\"},\n",
    "    {\"name\": \"Diagnostics\", \"col\": \"sp_diagnostics\"},\n",
    "]\n",
    "service_provision_data = [\n",
    "    {\n",
    "        \"Sub-theme\": theme[\"name\"],\n",
    "        \"Number of reports\": int(child_suicide_reports[theme[\"col\"]].sum()),\n",
    "    }\n",
    "    for theme in service_provision_config\n",
    "]\n",
    "service_provision_df = pd.DataFrame(service_provision_data)\n",
    "print(service_provision_df.to_string(index=False))\n",
    "\n",
    "# 2. Staffing and resourcing \n",
    "print(\"\\n---\\n\\nPrimary theme: Staffing and resourcing\\n\")\n",
    "staffing_resourcing_config = [\n",
    "    {\"name\": \"Training\", \"col\": \"sr_training\"},\n",
    "    {\"name\": \"Inadequate staffing\", \"col\": \"sr_inadequate_staffing\"},\n",
    "    {\"name\": \"Funding\", \"col\": \"sr_funding\"},\n",
    "    {\"name\": \"Recruitment and retention\", \"col\": \"sr_recruitment_retention\"},\n",
    "]\n",
    "staffing_resourcing_data = [\n",
    "    {\n",
    "        \"Sub-theme\": theme[\"name\"],\n",
    "        \"Number of reports\": int(child_suicide_reports[theme[\"col\"]].sum()),\n",
    "    }\n",
    "    for theme in staffing_resourcing_config\n",
    "]\n",
    "staffing_resourcing_df = pd.DataFrame(staffing_resourcing_data)\n",
    "print(staffing_resourcing_df.to_string(index=False))\n",
    "\n",
    "# 3. Communication\n",
    "print(\"\\n---\\n\\nPrimary theme: Communication\\n\")\n",
    "communication_config = [\n",
    "    {\"name\": \"Between services\", \"col\": \"comm_between_services\"},\n",
    "    {\"name\": \"With patient and family\", \"col\": \"comm_patient_family\"},\n",
    "    {\n",
    "        \"name\": \"Confidentiality risk not communicated\",\n",
    "        \"col\": \"comm_confidentiality_risk\",\n",
    "    },\n",
    "    {\"name\": \"Within services\", \"col\": \"comm_within_services\"},\n",
    "]\n",
    "communication_data = [\n",
    "    {\n",
    "        \"Sub-theme\": theme[\"name\"],\n",
    "        \"Number of reports\": int(child_suicide_reports[theme[\"col\"]].sum()),\n",
    "    }\n",
    "    for theme in communication_config\n",
    "]\n",
    "communication_df = pd.DataFrame(communication_data)\n",
    "print(communication_df.to_string(index=False))\n",
    "\n",
    "# 4. Multiple services involved in care\n",
    "print(\"\\n---\\n\\nPrimary theme: Multiple services involved in care\\n\")\n",
    "multi_services_config = [\n",
    "    {\"name\": \"Integration of care\", \"col\": \"msic_integration_care\"},\n",
    "    {\n",
    "        \"name\": \"Local Authority (incl child services, schools)\",\n",
    "        \"col\": \"msic_local_authority\",\n",
    "    },\n",
    "    {\"name\": \"Transition from CAMHS\", \"col\": \"msic_transition_camhs\"},\n",
    "]\n",
    "multi_services_data = [\n",
    "    {\n",
    "        \"Sub-theme\": theme[\"name\"],\n",
    "        \"Number of reports\": int(child_suicide_reports[theme[\"col\"]].sum()),\n",
    "    }\n",
    "    for theme in multi_services_config\n",
    "]\n",
    "multi_services_df = pd.DataFrame(multi_services_data)\n",
    "print(multi_services_df.to_string(index=False))\n",
    "\n",
    "# 5. Accessing services \n",
    "print(\"\\n---\\n\\nPrimary theme: Accessing services\\n\")\n",
    "accessing_services_config = [\n",
    "    {\"name\": \"Delays in referrals and waiting times\", \"col\": \"as_delays_waiting\"},\n",
    "    {\"name\": \"Referral rejected\", \"col\": \"as_referral_rejected\"},\n",
    "    {\"name\": \"Patient engagement\", \"col\": \"as_patient_engagement\"},\n",
    "]\n",
    "accessing_services_data = [\n",
    "    {\n",
    "        \"Sub-theme\": theme[\"name\"],\n",
    "        \"Number of reports\": int(child_suicide_reports[theme[\"col\"]].sum()),\n",
    "    }\n",
    "    for theme in accessing_services_config\n",
    "]\n",
    "accessing_services_df = pd.DataFrame(accessing_services_data)\n",
    "print(accessing_services_df.to_string(index=False))\n",
    "\n",
    "# 6. Access to harmful content and environment\n",
    "print(\"\\n---\\n\\nPrimary theme: Access to harmful content and environment\\n\")\n",
    "harmful_content_config = [\n",
    "    {\"name\": \"Internet\", \"col\": \"ahce_internet\"},\n",
    "    {\n",
    "        \"name\": \"Safeguarding from sensitive material\",\n",
    "        \"col\": \"ahce_safeguarding_sensitive\",\n",
    "    },\n",
    "    {\"name\": \"Harmful items/ substances\", \"col\": \"ahce_harmful_items\"},\n",
    "    {\"name\": \"Trainline\", \"col\": \"ahce_trainline\"},\n",
    "]\n",
    "harmful_content_data = [\n",
    "    {\n",
    "        \"Sub-theme\": theme[\"name\"],\n",
    "        \"Number of reports\": int(child_suicide_reports[theme[\"col\"]].sum()),\n",
    "    }\n",
    "    for theme in harmful_content_config\n",
    "]\n",
    "harmful_content_df = pd.DataFrame(harmful_content_data)\n",
    "print(harmful_content_df.to_string(index=False))"
   ]
  },
  {
   "cell_type": "code",
   "execution_count": null,
   "metadata": {},
   "outputs": [],
   "source": []
  }
 ],
 "metadata": {
  "kernelspec": {
   "display_name": ".venv",
   "language": "python",
   "name": "python3"
  },
  "language_info": {
   "codemirror_mode": {
    "name": "ipython",
    "version": 3
   },
   "file_extension": ".py",
   "mimetype": "text/x-python",
   "name": "python",
   "nbconvert_exporter": "python",
   "pygments_lexer": "ipython3",
   "version": "3.12.3"
  }
 },
 "nbformat": 4,
 "nbformat_minor": 2
}
