{
 "cells": [
  {
   "cell_type": "markdown",
   "metadata": {},
   "source": [
    "## Automating ONS Research on Child Suicides\n",
    "\n",
    "In February 2025, the ONS published [research](https://www.ons.gov.uk/peoplepopulationandcommunity/healthandsocialcare/mentalhealth/bulletins/preventionoffuturedeathreportsforsuicideinchildreninenglandandwales/january2015tonovember2023) analysing:\n",
    "\n",
    "> Prevention of Future Death reports for suicide in children in England and Wales: January 2015 to November 2023\n",
    "\n",
    "Their study involved the manual identification and thematic coding of PFD reports relating to child suicides - a process known to be time-consuming and difficult to scale.\n",
    "\n",
    "This notebook evaluates the performance of PFD Toolkit in replicating and automating the ONS approach. By comparing automated outputs to the original manual research, we assess the toolkit’s accuracy, efficiency, and potential to accelerate large-scale, reproducible analysis of PFD reports."
   ]
  },
  {
   "cell_type": "code",
   "execution_count": 1,
   "metadata": {},
   "outputs": [],
   "source": [
    "# Keep track of notebook run time\n",
    "import time\n",
    "start_time = time.time()"
   ]
  },
  {
   "cell_type": "markdown",
   "metadata": {},
   "source": [
    "### Identifying the reports\n",
    "\n",
    "#### Loading all reports"
   ]
  },
  {
   "cell_type": "code",
   "execution_count": 2,
   "metadata": {},
   "outputs": [
    {
     "name": "stdout",
     "output_type": "stream",
     "text": [
      "In total, there were 3941 PFD reports published between January 2015 and November 2023\n"
     ]
    }
   ],
   "source": [
    "from pfd_toolkit import load_reports\n",
    "\n",
    "reports = load_reports(category='all',\n",
    "                    start_date=\"2015-01-01\",\n",
    "                    end_date=\"2023-11-01\")\n",
    "\n",
    "print(f\"In total, there were {len(reports)} PFD reports published between January 2015 and November 2023\")"
   ]
  },
  {
   "cell_type": "markdown",
   "metadata": {},
   "source": [
    "#### Create 'Screener' specification to filter reports\n",
    "\n",
    "**Note:** The ONS analysis defines a \"child\" as \"aged 18 years and under,\" with included cases ranging from 12 to 18 years old. While the standard UK definition of a child is \"under 18,\" for consistency we have adopted the ONS inclusion criteria.\n",
    "\n",
    "First, we need to set up the LLM and Screener modules...\n"
   ]
  },
  {
   "cell_type": "code",
   "execution_count": 3,
   "metadata": {},
   "outputs": [],
   "source": [
    "from pfd_toolkit import LLM, Screener\n",
    "from dotenv import load_dotenv\n",
    "import os\n",
    "\n",
    "# Load OpenAI API key from local environment\n",
    "load_dotenv(\"api.env\")\n",
    "openai_api_key = os.getenv(\"OPENAI_API_KEY\")\n",
    "\n",
    "# Initialise LLM client\n",
    "llm_client = LLM(api_key=openai_api_key, \n",
    "                 max_workers=25)\n",
    "\n",
    "# Set up Screener\n",
    "user_query = (\n",
    "\"Where the deceased is **explicitly** noted as being aged 18 or younger *AND* the death was due to suicide.\" \n",
    ")\n",
    "\n",
    "child_suicide_screener = Screener(llm=llm_client,\n",
    "                                  reports=reports,\n",
    "                                  user_query=user_query,\n",
    "                                  match_leniency=None,\n",
    "                                  include_concerns=False\n",
    "                                  )"
   ]
  },
  {
   "cell_type": "markdown",
   "metadata": {},
   "source": [
    "This will generate a prompt to our LLM. We can see what this prompt looks like:"
   ]
  },
  {
   "cell_type": "code",
   "execution_count": 4,
   "metadata": {},
   "outputs": [
    {
     "data": {
      "text/plain": [
       "\"You are an expert text classification assistant. Your task is to read the following excerpt from a Prevention of Future Death (PFD) report and decide whether it matches the user's query. \\n\\n**Instructions:** \\n- Only respond 'Yes' if **all** elements of the user query are clearly present in the report. \\n- If any required element is missing or there is not enough information, respond 'No'. \\n- Make sure any user query related to the deceased is concerned with them *only*, not other persons.\\n- Your response must be a JSON object in which 'matches_topic' can be either 'Yes' or 'No'. \\n\\n**User query:** \\n'Where the deceased is **explicitly** noted as being aged 18 or younger *AND* the death was due to suicide.'\\nHere is the PFD report excerpt:\\n\\n{report_excerpt}\""
      ]
     },
     "execution_count": 4,
     "metadata": {},
     "output_type": "execute_result"
    }
   ],
   "source": [
    "child_suicide_screener._build_prompt_template(user_query)"
   ]
  },
  {
   "cell_type": "markdown",
   "metadata": {},
   "source": [
    "Now we can run the Screener and assign the results to `child_suicide_reports`."
   ]
  },
  {
   "cell_type": "code",
   "execution_count": 5,
   "metadata": {},
   "outputs": [
    {
     "data": {
      "application/vnd.jupyter.widget-view+json": {
       "model_id": "19016fabd6c742c5a419d815533af793",
       "version_major": 2,
       "version_minor": 0
      },
      "text/plain": [
       "Sending requests to the LLM (in parallel):   0%|          | 0/3941 [00:00<?, ?it/s]"
      ]
     },
     "metadata": {},
     "output_type": "display_data"
    },
    {
     "name": "stdout",
     "output_type": "stream",
     "text": [
      "From the initial 3941 reports, PFD Toolkit \n",
      "      identified 61 reports on child suicide\n",
      "CPU times: user 51.6 s, sys: 1.79 s, total: 53.4 s\n",
      "Wall time: 5min 27s\n"
     ]
    }
   ],
   "source": [
    "%%time\n",
    "\n",
    "child_suicide_reports = child_suicide_screener.screen_reports()\n",
    "\n",
    "print(\n",
    "    f\"\"\"From the initial {len(reports)} reports, PFD Toolkit \n",
    "      identified {len(child_suicide_reports)} reports on child suicide\"\"\"\n",
    ")"
   ]
  },
  {
   "cell_type": "markdown",
   "metadata": {},
   "source": [
    "The Toolkit identified 61 cases, compared to the ONS's 37.\n",
    "\n",
    "**Note: I checked"
   ]
  },
  {
   "cell_type": "markdown",
   "metadata": {},
   "source": [
    "---"
   ]
  },
  {
   "cell_type": "code",
   "execution_count": 6,
   "metadata": {},
   "outputs": [],
   "source": [
    "# Save & reload reports to keep progress...\n",
    "child_suicide_reports.to_csv('../data/child_suicide.csv')"
   ]
  },
  {
   "cell_type": "code",
   "execution_count": 7,
   "metadata": {},
   "outputs": [
    {
     "data": {
      "text/plain": [
       "61"
      ]
     },
     "execution_count": 7,
     "metadata": {},
     "output_type": "execute_result"
    }
   ],
   "source": [
    "import pandas as pd\n",
    "child_suicide_reports = pd.read_csv('../data/child_suicide.csv')\n",
    "len(child_suicide_reports)"
   ]
  },
  {
   "cell_type": "markdown",
   "metadata": {},
   "source": [
    "### Categorise addressees\n",
    "\n",
    "We now need to reproduce this table produced by ONS's analysis (though of course the number of reports is different):\n",
    "\n",
    "| Addressee                         | No of reports | %  |\n",
    "|----------------------------------|---------------|----|\n",
    "| Government department or minister| 15            | 41 |\n",
    "| NHS Trust or CCG                 | 15            | 41 |\n",
    "| Professional body                | 12            | 32 |\n",
    "| Local council                    | 8             | 22 |\n",
    "| Other                            | 10            | 27 |\n",
    "\n",
    "For this, we'll create a new screener object and run it multiple times. We'll also turn on 'annotate mode,' which doesn't filter reports but insted adds a classification column, which we can name and use to create a tabulation.\n",
    "\n",
    "The below code looks a bit ungraceful, but this will be addressed in future versions of Toolkit which will contain a Categorisation module."
   ]
  },
  {
   "cell_type": "code",
   "execution_count": 8,
   "metadata": {},
   "outputs": [
    {
     "data": {
      "application/vnd.jupyter.widget-view+json": {
       "model_id": "68c17910b55c4107beb488365e1c94a2",
       "version_major": 2,
       "version_minor": 0
      },
      "text/plain": [
       "Sending requests to the LLM (in parallel):   0%|          | 0/61 [00:00<?, ?it/s]"
      ]
     },
     "metadata": {},
     "output_type": "display_data"
    },
    {
     "data": {
      "application/vnd.jupyter.widget-view+json": {
       "model_id": "462769c15a9a4d49b95d64c174c40d89",
       "version_major": 2,
       "version_minor": 0
      },
      "text/plain": [
       "Sending requests to the LLM (in parallel):   0%|          | 0/61 [00:00<?, ?it/s]"
      ]
     },
     "metadata": {},
     "output_type": "display_data"
    },
    {
     "data": {
      "application/vnd.jupyter.widget-view+json": {
       "model_id": "8dd52b8584b94f4eb662da4ce479f59e",
       "version_major": 2,
       "version_minor": 0
      },
      "text/plain": [
       "Sending requests to the LLM (in parallel):   0%|          | 0/61 [00:00<?, ?it/s]"
      ]
     },
     "metadata": {},
     "output_type": "display_data"
    },
    {
     "data": {
      "application/vnd.jupyter.widget-view+json": {
       "model_id": "8eddb00186274b55a4dce71ebbeffb7c",
       "version_major": 2,
       "version_minor": 0
      },
      "text/plain": [
       "Sending requests to the LLM (in parallel):   0%|          | 0/61 [00:00<?, ?it/s]"
      ]
     },
     "metadata": {},
     "output_type": "display_data"
    },
    {
     "data": {
      "application/vnd.jupyter.widget-view+json": {
       "model_id": "7e99cfb8d4254fb299bfd05b1c327e49",
       "version_major": 2,
       "version_minor": 0
      },
      "text/plain": [
       "Sending requests to the LLM (in parallel):   0%|          | 0/61 [00:00<?, ?it/s]"
      ]
     },
     "metadata": {},
     "output_type": "display_data"
    }
   ],
   "source": [
    "from pfd_toolkit import Screener, LLM\n",
    "from dotenv import load_dotenv\n",
    "import os\n",
    "\n",
    "# Load OpenAI API key from local environment\n",
    "load_dotenv(\"api.env\")\n",
    "openai_api_key = os.getenv(\"OPENAI_API_KEY\")\n",
    "\n",
    "# Initialise LLM client\n",
    "llm_client = LLM(api_key=openai_api_key, max_workers=20)\n",
    "\n",
    "addressee_screener = Screener(llm=llm_client,\n",
    "                         reports=child_suicide_reports,\n",
    "                         filter_df=False,\n",
    "                         # Turn off long sections\n",
    "                         include_investigation=False,\n",
    "                         include_circumstances=False,\n",
    "                         include_concerns=False,\n",
    "                         \n",
    "                         # Turn on recevier section\n",
    "                         include_receiver=True\n",
    "                         )\n",
    "\n",
    "child_suicide_reports = addressee_screener.screen_reports(\n",
    "    user_query=\"Sent to government department or minister\",\n",
    "    result_col_name=\"sent_gov\"\n",
    ")\n",
    "\n",
    "child_suicide_reports = addressee_screener.screen_reports(\n",
    "    user_query=\"Sent to NHS Trust, CCG or ICS\", \n",
    "    result_col_name=\"sent_nhs\"\n",
    ")\n",
    "\n",
    "child_suicide_reports = addressee_screener.screen_reports(\n",
    "    user_query=\"Sent to some form of professional body, but **not** govt, NHS Trust/CCG/ICS nor local council\", \n",
    "    result_col_name=\"sent_prof_body\"\n",
    ")\n",
    "\n",
    "child_suicide_reports = addressee_screener.screen_reports(\n",
    "    user_query=\"Sent to a local council\",\n",
    "    result_col_name=\"sent_council\"\n",
    ")\n",
    "\n",
    "child_suicide_reports = addressee_screener.screen_reports(\n",
    "    user_query=(\n",
    "        \"Sent to any of the following: \"\n",
    "        \"rail or road company, police (including British Transport Police), **private** companies/hospital or CAMHS)\"\n",
    "    ),\n",
    "    result_col_name=\"sent_other\"\n",
    ")"
   ]
  },
  {
   "cell_type": "markdown",
   "metadata": {},
   "source": [
    "#### Create summary table"
   ]
  },
  {
   "cell_type": "code",
   "execution_count": 9,
   "metadata": {},
   "outputs": [
    {
     "name": "stdout",
     "output_type": "stream",
     "text": [
      "Summary Table of Report Addressees:\n",
      "                        Addressee  No of reports  %\n",
      "Government department or minister             19 31\n",
      "                 NHS Trust or CCG             21 34\n",
      "                Professional body              5  8\n",
      "                    Local council              7 11\n",
      "                            Other              6 10\n"
     ]
    }
   ],
   "source": [
    "import pandas as pd\n",
    "\n",
    "categories_config = [\n",
    "    {\"name\": \"Government department or minister\", \"col\": \"sent_gov\"},\n",
    "    {\"name\": \"NHS Trust or CCG\", \"col\": \"sent_nhs\"},\n",
    "    {\"name\": \"Professional body\", \"col\": \"sent_prof_body\"},\n",
    "    {\"name\": \"Local council\", \"col\": \"sent_council\"},\n",
    "    {\"name\": \"Other\", \"col\": \"sent_other\"},\n",
    "]\n",
    "\n",
    "total_reports = len(child_suicide_reports)\n",
    "\n",
    "summary_data = [\n",
    "    {\n",
    "        \"Addressee\": cat[\"name\"],\n",
    "        \"No of reports\": int(child_suicide_reports[cat[\"col\"]].sum()),\n",
    "        \"%\": int(\n",
    "            round((child_suicide_reports[cat[\"col\"]].sum() / total_reports) * 100)\n",
    "        ),\n",
    "    }\n",
    "    for cat in categories_config\n",
    "]\n",
    "\n",
    "summary_table_df = pd.DataFrame(summary_data)\n",
    "\n",
    "print(\"Summary Table of Report Addressees:\")\n",
    "print(summary_table_df.to_string(index=False))"
   ]
  },
  {
   "cell_type": "markdown",
   "metadata": {},
   "source": []
  },
  {
   "cell_type": "markdown",
   "metadata": {},
   "source": []
  }
 ],
 "metadata": {
  "kernelspec": {
   "display_name": ".venv",
   "language": "python",
   "name": "python3"
  },
  "language_info": {
   "codemirror_mode": {
    "name": "ipython",
    "version": 3
   },
   "file_extension": ".py",
   "mimetype": "text/x-python",
   "name": "python",
   "nbconvert_exporter": "python",
   "pygments_lexer": "ipython3",
   "version": "3.12.3"
  }
 },
 "nbformat": 4,
 "nbformat_minor": 2
}
