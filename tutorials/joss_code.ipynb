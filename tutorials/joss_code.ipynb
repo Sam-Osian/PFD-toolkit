{
 "cells": [
  {
   "cell_type": "markdown",
   "metadata": {},
   "source": [
    "The following contains the code presented in the \"Example usage\" section of the JOSS submission.\n",
    "\n",
    "For transparency, this notebook has 2 modifications to the code presented in the submission:\n",
    "\n",
    "* Start and end time blocks were created to prove the submission's claim that this code involves \"minutes-long runtime\".\n",
    "* The OpenAI API key is imported from file, rather than by providing it as an in-script string (for security)."
   ]
  },
  {
   "cell_type": "code",
   "execution_count": 1,
   "metadata": {},
   "outputs": [],
   "source": [
    "# Time the entire workflow\n",
    "\n",
    "import time\n",
    "start = time.time()"
   ]
  },
  {
   "cell_type": "code",
   "execution_count": null,
   "metadata": {},
   "outputs": [
    {
     "name": "stderr",
     "output_type": "stream",
     "text": [
      "Sending requests to the LLM: 100%|██████████| 5752/5752 [08:05<00:00, 11.84it/s]\n"
     ]
    }
   ],
   "source": [
    "from pfd_toolkit import load_reports, LLM, Screener\n",
    "from dotenv import load_dotenv\n",
    "import os\n",
    "\n",
    "# Load OpenAI API key\n",
    "load_dotenv(\"api.env\")\n",
    "openai_api_key = os.getenv(\"OPENAI_API_KEY\")\n",
    "\n",
    "# -- Load reports into a pandas DataFrame --\n",
    "reports = load_reports(start_date=\"2013-01-01\", end_date=\"2025-07-01\")\n",
    "\n",
    "# -- Set up an LLM client --\n",
    "llm_client = LLM(api_key=openai_api_key)\n",
    "\n",
    "# -- Screen/filter reports by a natural language query --\n",
    "query=\"\"\"\n",
    "Reports explicitly mentioning detention\n",
    "under the Mental Health Act\n",
    "\"\"\"\n",
    "\n",
    "screener = Screener(reports=reports, llm=llm_client)\n",
    "filtered_df = screener.screen_reports(user_query=query)"
   ]
  },
  {
   "cell_type": "code",
   "execution_count": 3,
   "metadata": {},
   "outputs": [
    {
     "name": "stdout",
     "output_type": "stream",
     "text": [
      "Elapsed time: 8m 6s\n"
     ]
    }
   ],
   "source": [
    "# Check workflow runtime\n",
    "\n",
    "end = time.time()\n",
    "\n",
    "elapsed_seconds = int(end - start)\n",
    "\n",
    "minutes, seconds = divmod(elapsed_seconds, 60)\n",
    "print(f\"Elapsed time: {minutes}m {seconds}s\")"
   ]
  }
 ],
 "metadata": {
  "kernelspec": {
   "display_name": ".venv",
   "language": "python",
   "name": "python3"
  },
  "language_info": {
   "codemirror_mode": {
    "name": "ipython",
    "version": 3
   },
   "file_extension": ".py",
   "mimetype": "text/x-python",
   "name": "python",
   "nbconvert_exporter": "python",
   "pygments_lexer": "ipython3",
   "version": "3.12.3"
  }
 },
 "nbformat": 4,
 "nbformat_minor": 2
}
